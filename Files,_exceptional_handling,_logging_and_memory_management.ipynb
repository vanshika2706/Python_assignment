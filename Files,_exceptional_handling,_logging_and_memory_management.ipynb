{
  "nbformat": 4,
  "nbformat_minor": 0,
  "metadata": {
    "colab": {
      "provenance": []
    },
    "kernelspec": {
      "name": "python3",
      "display_name": "Python 3"
    },
    "language_info": {
      "name": "python"
    }
  },
  "cells": [
    {
      "cell_type": "markdown",
      "source": [
        "# **Files, exceptional handling, logging and\n",
        "# memory management Questions**"
      ],
      "metadata": {
        "id": "WCyKoECBk6Sa"
      }
    },
    {
      "cell_type": "markdown",
      "source": [
        "\n",
        "**Q1. What is the difference between interpreted and compiled languages**\n",
        "\n",
        "Programming languages are mainly divided into two types based on how they are executed by the computer: interpreted and compiled. An interpreted language runs its code directly using an interpreter, which reads and executes the program line by line. This means when you run an interpreted program, the interpreter goes through each line, understands it, and then immediately performs the action. This is why interpreted languages are usually slower, but they are easier to debug because if an error occurs, you instantly know the exact line and reason. Examples of interpreted languages include Python, JavaScript, and PHP. On the other hand, compiled languages require a compiler to first translate the entire program into machine code (binary form) before it is executed. Once compiled, the machine code is stored in an executable file, and this file can run without needing the compiler again. This makes compiled languages much faster since the code is already in a form that the computer understands directly. However, if you change the code, you need to recompile the whole program before running it again. Examples of compiled languages are C, C++, and Java (Java is partly compiled and partly interpreted through JVM). For example, in Python, if you write `print(\"Hello\")`, the interpreter will immediately display the text, whereas in C, you must compile the code using a compiler before it runs. In short, interpreted languages are slower but more flexible and beginner-friendly, while compiled languages are faster and more optimized but require an extra compilation step.\n",
        "\n",
        "---\n",
        "\n",
        "**Q2. What is exception handling in Python**\n",
        "\n",
        "Exception handling in Python is a technique that allows a programmer to deal with errors or unusual situations in a controlled way without stopping the whole program. Normally, if an error occurs in a program, Python stops execution and shows an error message. This can be a problem if you want your program to continue running even after something goes wrong. Exception handling solves this by using the `try` and `except` blocks. You place the code that might cause an error inside a `try` block, and if an error happens, the program will move to the `except` block and run the code there instead of stopping completely. This prevents crashes and allows the program to respond gracefully. For example, if you try to divide a number by zero, Python will normally stop with a `ZeroDivisionError`. But if you use exception handling, it can print a friendly message and keep running. For instance:\n",
        "\n",
        "```\n",
        "try:\n",
        "    result = 10 / 0\n",
        "except ZeroDivisionError:\n",
        "    print(\"You cannot divide by zero!\")\n",
        "```\n",
        "\n",
        "Here, instead of crashing, the program displays the message and continues. This is useful in real-world programs where errors are common, such as reading files that might not exist, connecting to the internet when there is no network, or getting user input that is invalid. Exception handling makes programs safer, more professional, and easier to maintain.\n",
        "\n",
        "---\n",
        "\n",
        "**Q3. What is the purpose of the finally block in exception handling**\n",
        "\n",
        "In Python, the `finally` block is used in exception handling to run code no matter what happens — whether an error occurs or not. It is often used for cleanup tasks, such as closing a file, disconnecting from a database, or releasing system resources. This is important because sometimes, even if an error happens, you still want certain actions to be performed before the program moves on or ends. The `finally` block is written after the `try` and `except` blocks, and it always runs after them, even if there is a return statement or the program ends unexpectedly. For example:\n",
        "\n",
        "```\n",
        "try:\n",
        "    f = open(\"test.txt\", \"r\")\n",
        "    data = f.read()\n",
        "except FileNotFoundError:\n",
        "    print(\"File not found.\")\n",
        "finally:\n",
        "    print(\"Closing file (if open)\")\n",
        "```\n",
        "\n",
        "In this example, even if the file is not found, the message inside `finally` will be printed. This is especially useful when you open files or network connections — if you do not close them properly, it can cause memory leaks or other problems. By using `finally`, you ensure that important cleanup code runs no matter what, making your program more reliable and error-proof.\n",
        "\n",
        "---\n",
        "\n",
        "**Q4. What is logging in Python**\n",
        "\n",
        "Logging in Python is a way to record messages about what your program is doing while it runs. It is like keeping a diary of events that happen in your code. Logging is especially helpful for developers because it helps track problems, check if certain parts of the program ran, or see the order in which things happened. Instead of just using `print()` to show messages, logging is better because it can show messages in different importance levels, such as `DEBUG` (detailed information for developers), `INFO` (general events), `WARNING` (something unexpected happened but program is still running), `ERROR` (a serious problem occurred), and `CRITICAL` (program cannot continue). Logging can also write messages to a file so that you can check them later, which is very useful for large programs or servers. For example:\n",
        "\n",
        "```\n",
        "import logging\n",
        "logging.basicConfig(level=logging.INFO)\n",
        "logging.info(\"Program started\")\n",
        "logging.warning(\"Low disk space\")\n",
        "logging.error(\"File not found\")\n",
        "```\n",
        "\n",
        "This code will display and record messages with different severity levels. Logging is important in real-world applications because when something goes wrong, you can look at the log file to see what happened before the error, which makes fixing problems much faster. It is also useful for keeping track of user actions, performance issues, and system errors without disturbing the user with unnecessary messages.\n",
        "\n",
        "---\n",
        "\n",
        "**Q5. What is the significance of the **del** method in Python**\n",
        "\n",
        "In Python, the `__del__` method is a special method that is called automatically when an object is about to be destroyed. This destruction happens when the object is no longer needed, and Python’s garbage collector removes it from memory. The `__del__` method is like a destructor in other programming languages such as C++. Its main purpose is to perform cleanup tasks before the object is removed. For example, you might use it to close a file, disconnect from a database, or release memory that was manually allocated. However, you should use `__del__` carefully because you cannot always predict exactly when it will be called. Here is an example:\n",
        "\n",
        "```\n",
        "class MyClass:\n",
        "    def __init__(self, name):\n",
        "        self.name = name\n",
        "        print(f\"{self.name} created\")\n",
        "    def __del__(self):\n",
        "        print(f\"{self.name} destroyed\")\n",
        "obj = MyClass(\"Test\")\n",
        "del obj\n",
        "```\n",
        "\n",
        "In this example, when the object is deleted or goes out of scope, the `__del__` method will run and print a message saying it was destroyed. While this is useful, in most cases it is better to manage resources using `with` statements or explicit close methods, because relying only on `__del__` can sometimes lead to unpredictable behavior. Still, it is an important method to know about when you need to perform last-minute cleanup before an object’s life ends.\n",
        "\n",
        "---\n",
        "\n",
        "\n"
      ],
      "metadata": {
        "id": "oceEUrqOm0-u"
      }
    },
    {
      "cell_type": "markdown",
      "source": [
        "\n",
        "\n",
        "**Q6. What is the difference between import and from ... import in Python**\n",
        "\n",
        "In Python, we use the `import` statement to include code from other modules so that we can use the functions, classes, or variables defined in them. There are two main ways to do this — using `import` and using `from ... import`. When we use `import module_name`, we bring the entire module into our program. This means that if we want to use something from that module, we have to use the module name followed by a dot and then the function or variable name. For example, `import math` lets us use `math.sqrt(16)` to find the square root. On the other hand, `from module_name import function_name` imports only the specific function, class, or variable we need. This means we can use it directly without writing the module name each time. For example, `from math import sqrt` allows us to directly write `sqrt(16)`. There is also a version called `from module_name import *` which imports everything from the module, but this is generally not recommended because it can make the code confusing and may cause name conflicts. To summarize, `import` is used when you want the whole module and like to keep the namespace clear, while `from ... import` is used when you need only specific items and want to use them directly without the module name. Using the correct method can make your code cleaner and easier to read.\n",
        "\n",
        "---\n",
        "\n",
        "**Q7. How can you handle multiple exceptions in Python**\n",
        "\n",
        "In Python, sometimes a piece of code can raise more than one type of error, and we may want to handle each one differently. This is where handling multiple exceptions becomes important. There are several ways to do this. One method is to use multiple `except` blocks after a `try` block, each one handling a different type of exception. For example, if you are reading a file and dividing numbers, you might face both `FileNotFoundError` and `ZeroDivisionError`. In that case, you can write:\n",
        "\n",
        "```\n",
        "try:\n",
        "    f = open(\"data.txt\", \"r\")\n",
        "    number = int(f.read())\n",
        "    result = 10 / number\n",
        "except FileNotFoundError:\n",
        "    print(\"The file was not found.\")\n",
        "except ZeroDivisionError:\n",
        "    print(\"Cannot divide by zero.\")\n",
        "```\n",
        "\n",
        "Another method is to catch multiple exceptions in a single `except` block by putting them inside parentheses. For example:\n",
        "\n",
        "```\n",
        "except (FileNotFoundError, ZeroDivisionError) as e:\n",
        "    print(f\"Error occurred: {e}\")\n",
        "```\n",
        "\n",
        "This is useful when you want to perform the same action for different exceptions. Handling multiple exceptions makes programs more reliable and user-friendly because you can deal with various problems in a controlled way without crashing the program.\n",
        "\n",
        "---\n",
        "\n",
        "**Q8. What is the purpose of the with statement when handling files in Python**\n",
        "\n",
        "In Python, the `with` statement is used to handle resources like files in a way that automatically takes care of setup and cleanup. When working with files, it is important to close them after you finish using them, otherwise it can cause memory leaks or file corruption. Normally, you would have to call `file.close()` manually, but with the `with` statement, Python does this for you automatically, even if an error occurs. For example:\n",
        "\n",
        "```\n",
        "with open(\"test.txt\", \"r\") as file:\n",
        "    content = file.read()\n",
        "```\n",
        "\n",
        "Here, the file is automatically opened, and after the code inside the `with` block finishes, the file is automatically closed. This makes the code cleaner and safer because you don’t need to remember to close the file yourself. The `with` statement works with something called a context manager, which ensures proper resource management. This approach is considered best practice in Python because it prevents mistakes like leaving files open for too long or forgetting to close them when an error happens.\n",
        "\n",
        "---\n",
        "\n",
        "**Q9. What is the difference between multithreading and multiprocessing**\n",
        "\n",
        "Multithreading and multiprocessing are two ways to make a program do multiple tasks at the same time, but they work differently. Multithreading means running multiple threads (smaller units of a program) inside the same process. These threads share the same memory space, which makes it easier for them to share data, but it also means they can interfere with each other if not managed properly. Multithreading is useful for tasks that spend a lot of time waiting, such as downloading files, reading from a database, or handling user input. On the other hand, multiprocessing runs multiple processes, each with its own separate memory space. This means they do not interfere with each other, and they can take full advantage of multiple CPU cores, making them faster for CPU-heavy tasks like data processing, calculations, or image processing. For example, if you are processing large amounts of data, multiprocessing will usually be faster. However, it requires more memory because each process is separate. In short, multithreading is good for I/O-bound tasks, and multiprocessing is better for CPU-bound tasks.\n",
        "\n",
        "---\n",
        "\n",
        "**Q10. What are the advantages of using logging in a program**\n",
        "\n",
        "Using logging in a program has several advantages compared to simply printing messages on the screen.\n",
        "\n",
        "- First, logging allows you to categorize messages by importance levels such as DEBUG, INFO, WARNING, ERROR, and CRITICAL. This means you can control how much detail you see and easily filter important issues from less important ones.\n",
        "\n",
        "- Second, logging can record messages in a file, which is very useful for debugging problems later, especially in programs that run for a long time or on remote servers.\n",
        "\n",
        "- Third, logging provides a timestamp for each message, so you know exactly when something happened.\n",
        "\n",
        "- Fourth, it can include additional details like the file name and line number where the message was generated, which makes it easier to locate and fix issues.\n",
        "\n",
        "- Another big advantage is that logging can be turned on or off, or its detail level changed, without modifying the main code. This makes it more flexible than `print()` statements.\n",
        "- Finally, logging improves teamwork because multiple developers can understand what happened in the program without needing to ask the original developer, as the logs act as a history of events. Overall, logging is a professional way to track the behavior of your program, catch problems, and ensure smooth maintenance.\n",
        "\n",
        "---\n",
        "\n"
      ],
      "metadata": {
        "id": "WMU_uZ9rrZ2d"
      }
    },
    {
      "cell_type": "markdown",
      "source": [
        "\n",
        "**Q11. What is memory management in Python**\n",
        "\n",
        "Memory management in Python refers to the process of efficiently handling and controlling how the program uses computer memory. Every time you create a variable, list, dictionary, object, or any data in Python, it occupies some space in the computer’s memory. If the program doesn’t release unused memory, it can lead to slow performance or even program crashes. Python handles memory management automatically using a built-in memory manager and garbage collector. This means you don’t have to manually allocate and free memory as in some other programming languages like C or C++. Python stores all data in an area called the heap memory, and a special system keeps track of how many times an object is being used. When there are no references to that object, Python’s garbage collector removes it, freeing up the space. For example, if you create a list and later set it to `None`, the memory used by that list will be automatically cleared when it’s no longer needed. In addition to this, Python also uses techniques like reference counting and cyclic garbage collection to handle memory efficiently. Good memory management is important because it ensures that a program runs smoothly without wasting resources.\n",
        "\n",
        "---\n",
        "\n",
        "**Q12. What are the basic steps involved in exception handling in Python**\n",
        "\n",
        "Exception handling in Python is done through a structured process to ensure that errors are managed without stopping the entire program. The first step is to identify the part of the code where an error might occur and place it inside a `try` block. This is where the program “tries” to run the code. The second step is to use one or more `except` blocks to catch and handle specific errors. These blocks will run only if an error happens inside the `try` block. The third step is optional but important — the `else` block. If included, this runs only when there is no error in the `try` block. Finally, the fourth step is the `finally` block, which always runs no matter what happens, and is often used for cleanup tasks like closing files or releasing resources. For example:\n",
        "\n",
        "```\n",
        "try:\n",
        "    number = int(input(\"Enter a number: \"))\n",
        "    print(10 / number)\n",
        "except ZeroDivisionError:\n",
        "    print(\"You cannot divide by zero.\")\n",
        "else:\n",
        "    print(\"Division successful.\")\n",
        "finally:\n",
        "    print(\"End of program.\")\n",
        "```\n",
        "\n",
        "This structure makes sure that errors are caught, alternative actions are taken, and necessary cleanup is performed.\n",
        "\n",
        "---\n",
        "\n",
        "**Q13. Why is memory management important in Python**\n",
        "\n",
        "Memory management is important in Python because it directly affects the performance, stability, and efficiency of your programs. Every variable or object created in Python takes up space in the computer’s memory. If too much memory is used unnecessarily, the program may slow down or even crash, especially when working with large datasets or running on devices with limited resources. Automatic memory management in Python helps avoid these issues, but it is still the programmer’s job to use memory wisely. For example, holding unnecessary variables in memory for too long can delay garbage collection and waste space. Good memory management also prevents memory leaks, which occur when memory that is no longer needed is not released. In real-world applications, poor memory management can cause software to run slowly, use too much system memory, and affect other running programs. For instance, in a data analysis project, if you store millions of records in memory without freeing unused ones, your computer might freeze or the program might fail. Therefore, memory management is crucial to keeping applications fast, stable, and user-friendly.\n",
        "\n",
        "---\n",
        "\n",
        "**Q14. What is the role of try and except in exception handling**\n",
        "\n",
        "The `try` and `except` blocks are the main tools for exception handling in Python. The role of the `try` block is to contain the code that might cause an error. Python will “try” to run this code, and if everything goes fine, it will continue as usual. However, if an error occurs, Python will immediately jump to the `except` block, skipping the rest of the code inside the `try` block. The `except` block’s role is to handle the error gracefully, so that the program doesn’t crash. You can have multiple `except` blocks to handle different error types separately, or you can use one block to handle all errors in a general way. For example:\n",
        "\n",
        "```\n",
        "try:\n",
        "    result = 10 / int(input(\"Enter a number: \"))\n",
        "except ValueError:\n",
        "    print(\"Please enter a valid number.\")\n",
        "except ZeroDivisionError:\n",
        "    print(\"You cannot divide by zero.\")\n",
        "```\n",
        "\n",
        "In this example, the `try` block attempts to perform the division, and the `except` blocks handle two possible errors. This makes programs more reliable, as they can respond to unexpected problems without stopping entirely.\n",
        "\n",
        "---\n",
        "\n",
        "**Q15. How does Python's garbage collection system work**\n",
        "\n",
        "Python’s garbage collection system is responsible for automatically freeing memory that is no longer being used by the program. It mainly works through a process called reference counting. Every object in Python has a counter that keeps track of how many references point to it. When the counter becomes zero, meaning no variable or object is using it, Python immediately removes the object from memory. However, reference counting alone cannot handle situations where two objects reference each other in a loop, even though nothing else is using them. This is called a circular reference. To handle this, Python has a cyclic garbage collector that runs from time to time to detect and clean up such unused objects. For example, if you create an object inside a function and the function ends, the object will be deleted automatically if nothing else is using it. The garbage collector works in the background without the programmer having to do anything, although you can also manually trigger it using the `gc` module if needed. This automatic system makes Python memory management easier and helps keep programs efficient.\n",
        "\n",
        "---\n",
        "\n"
      ],
      "metadata": {
        "id": "UoidFyL2rt74"
      }
    },
    {
      "cell_type": "markdown",
      "source": [
        "\n",
        "\n",
        "**Q16. What is the purpose of the else block in exception handling**\n",
        "\n",
        "In Python's exception handling, the `else` block serves a special purpose. It is used to write code that should run only when no exception occurs in the `try` block. In other words, if the code inside `try` runs successfully without any errors, Python will skip all the `except` blocks and execute the `else` block. This makes it a good place to put code that depends on the success of the `try` block but doesn't need to be in the `try` itself. For example:\n",
        "\n",
        "```\n",
        "try:\n",
        "    number = int(input(\"Enter a number: \"))\n",
        "    result = 10 / number\n",
        "except ZeroDivisionError:\n",
        "    print(\"You cannot divide by zero.\")\n",
        "else:\n",
        "    print(\"Division successful, the result is:\", result)\n",
        "```\n",
        "\n",
        "Here, if no error happens, the `else` block runs and shows the result. If an error occurs, the `else` block is skipped. This is useful because it keeps error-handling code separate from the main logic, making the program cleaner and easier to read. It also ensures that success-related actions are not mistakenly executed when an error occurs.\n",
        "\n",
        "---\n",
        "\n",
        "**Q17. What are the common logging levels in Python**\n",
        "\n",
        "The logging module in Python provides several levels of importance for log messages. These levels help categorize the type of information being recorded and allow you to control which messages are shown or saved. The most common logging levels, from lowest to highest importance, are:\n",
        "\n",
        "1. **DEBUG** – Detailed information for diagnosing problems, usually only useful for developers.\n",
        "2. **INFO** – General information confirming that things are working as expected.\n",
        "3. **WARNING** – An indication that something unexpected happened or might happen soon, but the program is still running fine.\n",
        "4. **ERROR** – A more serious problem that prevented part of the program from working.\n",
        "5. **CRITICAL** – A very serious error that may cause the entire program to stop running.\n",
        "   For example:\n",
        "\n",
        "```\n",
        "import logging\n",
        "logging.basicConfig(level=logging.DEBUG)\n",
        "logging.debug(\"Debugging details\")\n",
        "logging.info(\"Program started successfully\")\n",
        "logging.warning(\"Low disk space\")\n",
        "logging.error(\"File not found\")\n",
        "logging.critical(\"System failure\")\n",
        "```\n",
        "\n",
        "By setting the logging level, you can choose whether you want only errors to be shown or every detail including debugging information. This makes logging more flexible and useful in different situations.\n",
        "\n",
        "---\n",
        "\n",
        "**Q18. What is the difference between os.fork() and multiprocessing in Python**\n",
        "\n",
        "`os.fork()` and the `multiprocessing` module are both used to create new processes in Python, but they work differently and are meant for different environments. The `os.fork()` function creates a new process by duplicating the current one. It is available only on Unix-like systems (Linux, macOS) and not on Windows. When `os.fork()` is called, two processes are created: the parent process and the child process, and each can run different code depending on the return value of `os.fork()`. On the other hand, the `multiprocessing` module works on all major operating systems, including Windows, and provides a higher-level interface for creating and managing processes. It is easier to use, offers built-in communication between processes, and can run functions in separate processes without needing low-level process control. For example:\n",
        "\n",
        "```\n",
        "from multiprocessing import Process\n",
        "\n",
        "def print_numbers():\n",
        "    for i in range(5):\n",
        "        print(i)\n",
        "\n",
        "p = Process(target=print_numbers)\n",
        "p.start()\n",
        "p.join()\n",
        "```\n",
        "\n",
        "This is simpler than using `os.fork()`, especially for cross-platform programs. In short, `os.fork()` is a low-level, Unix-only method, while `multiprocessing` is cross-platform, user-friendly, and feature-rich.\n",
        "\n",
        "---\n",
        "\n",
        "**Q19. What is the importance of closing a file in Python**\n",
        "\n",
        "Closing a file in Python is important because it ensures that all changes made to the file are saved and that system resources used by the file are released. When you open a file for writing or appending, Python keeps the data in a temporary buffer before writing it to the disk. If you don’t close the file, some of this data might never get saved. Additionally, every open file uses a file handle, which is a limited system resource. If too many files are left open, your program or system may run into errors or slow down. Closing a file also prevents accidental modification or corruption. Normally, you can close a file using the `close()` method, but the best practice is to use the `with` statement, which closes the file automatically after the block is done. For example:\n",
        "\n",
        "```\n",
        "with open(\"test.txt\", \"w\") as file:\n",
        "    file.write(\"Hello\")\n",
        "```\n",
        "\n",
        "Here, the file is closed automatically after writing. This ensures that the program is efficient, safe, and reliable when working with files.\n",
        "\n",
        "---\n",
        "\n",
        "**Q20. What is the difference between file.read() and file.readline() in Python**\n",
        "\n",
        "In Python, both `file.read()` and `file.readline()` are used to read data from a file, but they work differently. The `file.read()` method reads the entire contents of the file as a single string. If you pass a number as an argument, it will read that many characters from the file. For example, `file.read(10)` reads the first 10 characters. On the other hand, `file.readline()` reads only one line from the file at a time, including the newline character at the end. This is useful when you want to process a file line by line, especially for large files where reading everything at once would take too much memory. For example:\n",
        "\n",
        "```\n",
        "with open(\"test.txt\", \"r\") as file:\n",
        "    first_line = file.readline()\n",
        "    print(\"First line:\", first_line)\n",
        "    rest_of_file = file.read()\n",
        "    print(\"Rest of file:\", rest_of_file)\n",
        "```\n",
        "\n",
        "Here, `readline()` gets just the first line, while `read()` gets the remaining content. Choosing between them depends on whether you need the whole file at once or want to process it line by line.\n",
        "\n",
        "---\n",
        "\n"
      ],
      "metadata": {
        "id": "9IH6Sq3CsTkW"
      }
    },
    {
      "cell_type": "markdown",
      "source": [
        "\n",
        "**Q21. What is the logging module in Python used for**\n",
        "\n",
        "The logging module in Python is a built-in library used to record messages about events that happen while a program is running. It allows programmers to track the flow of a program, debug issues, and monitor system behavior without interrupting the program with print statements. The logging module is much more powerful than using simple `print()` because it supports different severity levels (DEBUG, INFO, WARNING, ERROR, CRITICAL), can record timestamps, and can write logs to files or external systems. This makes it especially useful for long-running programs, background services, or large applications where you need a record of what happened over time. For example:\n",
        "\n",
        "```\n",
        "import logging\n",
        "logging.basicConfig(filename=\"app.log\", level=logging.INFO)\n",
        "logging.info(\"Program started successfully\")\n",
        "logging.warning(\"Low memory warning\")\n",
        "logging.error(\"An error occurred\")\n",
        "```\n",
        "\n",
        "In this example, all log messages will be stored in the `app.log` file, making it easy to review them later. Logging is important in real-world projects because it helps detect problems, understand how the program behaves, and keep track of important events even when the program is running in the background without user interaction.\n",
        "\n",
        "---\n",
        "\n",
        "**Q22. What is the os module in Python used for in file handling**\n",
        "\n",
        "The `os` module in Python provides functions to interact with the operating system. In file handling, it is used for performing tasks such as creating, deleting, renaming, and checking files or directories. It allows you to work with file paths, manage folders, and get information about files. For example, you can use `os.remove()` to delete a file, `os.rename()` to rename it, and `os.path.exists()` to check if a file exists before trying to open it. You can also use `os.makedirs()` to create multiple directories at once and `os.listdir()` to get a list of files in a folder. Example:\n",
        "\n",
        "```\n",
        "import os\n",
        "if os.path.exists(\"test.txt\"):\n",
        "    os.remove(\"test.txt\")\n",
        "else:\n",
        "    print(\"File does not exist\")\n",
        "```\n",
        "\n",
        "This makes the `os` module very useful when building programs that need to manage files and directories dynamically without requiring manual work from the user. It is widely used in automation scripts, backup tools, and system management programs.\n",
        "\n",
        "---\n",
        "\n",
        "**Q23. What are the challenges associated with memory management in Python**\n",
        "\n",
        "Although Python handles memory automatically, there are still challenges that programmers can face. One major challenge is **memory leaks**, which happen when unused objects remain in memory because references to them are still stored somewhere in the program. Another challenge is **circular references**, where two objects refer to each other, preventing them from being automatically collected by reference counting alone (though Python’s cyclic garbage collector can handle this in most cases). Large data structures like lists, dictionaries, or large NumPy arrays can consume a lot of memory if not managed properly, leading to performance issues. Another challenge is fragmentation, where memory becomes scattered and inefficiently used. Also, in long-running programs, memory usage can slowly grow if unused variables are not deleted or overwritten, especially in web servers or data processing tasks. Developers can face problems when handling huge files or datasets if they try to load everything into memory at once instead of processing it in chunks. While Python makes memory management easier than lower-level languages, writing memory-efficient code still requires care, such as removing unused variables, using generators for large datasets, and avoiding unnecessary copies of data.\n",
        "\n",
        "---\n",
        "\n",
        "**Q24. How do you raise an exception manually in Python**\n",
        "\n",
        "In Python, you can raise an exception manually using the `raise` keyword. This is useful when you want to signal that something went wrong in your program, even if Python itself has not detected an error. You can raise built-in exceptions like `ValueError`, `TypeError`, or `ZeroDivisionError`, or you can create your own custom exceptions by defining a class that inherits from the `Exception` class. For example:\n",
        "\n",
        "```\n",
        "age = -5\n",
        "if age < 0:\n",
        "    raise ValueError(\"Age cannot be negative\")\n",
        "```\n",
        "\n",
        "Here, if the value of `age` is negative, the program will stop and display the error message. Raising exceptions is helpful for enforcing rules or validating user input. For example, if you are writing a banking application and the withdrawal amount is more than the account balance, you can raise an exception to prevent the transaction. Custom exceptions make error messages more descriptive and easier to understand for both developers and users.\n",
        "\n",
        "---\n",
        "\n",
        "**Q25. Why is it important to use multithreading in certain applications?**\n",
        "\n",
        "Multithreading is important in certain applications because it allows a program to perform multiple tasks at the same time within a single process. This is especially useful for **I/O-bound tasks**, where a program spends a lot of time waiting for external resources, such as reading files, downloading data from the internet, or interacting with a database. Without multithreading, these tasks would have to be done one after the other, which can make the program slow. By using threads, one part of the program can continue running while another waits for input/output to finish, improving overall performance. For example, in a chat application, one thread can handle sending messages while another listens for incoming ones, making the app more responsive. Multithreading is also useful in GUI applications to ensure that the interface remains smooth and does not freeze when performing background work. However, for CPU-heavy tasks, multithreading in Python has limitations because of the Global Interpreter Lock (GIL), and multiprocessing might be better. Still, for tasks that involve waiting for data, network communication, or file access, multithreading can greatly improve speed and responsiveness.\n",
        "\n",
        "---\n",
        "\n"
      ],
      "metadata": {
        "id": "hQl29w6JsoA7"
      }
    },
    {
      "cell_type": "markdown",
      "source": [
        "# Practical Questions"
      ],
      "metadata": {
        "id": "-yxYXY07yA-E"
      }
    },
    {
      "cell_type": "code",
      "source": [
        "# 1. Open a file for writing and write a string\n",
        "with open(\"file1.txt\", \"w\") as f:\n",
        "    f.write(\"Hello, Python!\")\n"
      ],
      "metadata": {
        "id": "uludp_5utI9I"
      },
      "execution_count": 2,
      "outputs": []
    },
    {
      "cell_type": "code",
      "source": [
        "# 2. Read contents of a file and print each line\n",
        "with open(\"file1.txt\", \"r\") as f:\n",
        "    for line in f:\n",
        "        print(line.strip())\n"
      ],
      "metadata": {
        "colab": {
          "base_uri": "https://localhost:8080/"
        },
        "id": "ai50kp10tw8Y",
        "outputId": "480fb5e5-dfdd-4866-d8d5-870ddce45b69"
      },
      "execution_count": 3,
      "outputs": [
        {
          "output_type": "stream",
          "name": "stdout",
          "text": [
            "Hello, Python!\n"
          ]
        }
      ]
    },
    {
      "cell_type": "code",
      "source": [
        "# 3. Handle case when file doesn’t exist (reading)\n",
        "try:\n",
        "    with open(\"nofile.txt\", \"r\") as f:\n",
        "        print(f.read())\n",
        "except FileNotFoundError:\n",
        "    print(\"File not found!\")\n"
      ],
      "metadata": {
        "colab": {
          "base_uri": "https://localhost:8080/"
        },
        "id": "oWqi6iDXt4BH",
        "outputId": "a6de00c7-6069-45a4-f47d-cde923078b87"
      },
      "execution_count": 4,
      "outputs": [
        {
          "output_type": "stream",
          "name": "stdout",
          "text": [
            "File not found!\n"
          ]
        }
      ]
    },
    {
      "cell_type": "code",
      "source": [
        "# 4. Read from one file and write to another\n",
        "with open(\"file1.txt\", \"r\") as f1, open(\"file2.txt\", \"w\") as f2:\n",
        "    f2.write(f1.read())\n"
      ],
      "metadata": {
        "id": "dF3whz-ft_oF"
      },
      "execution_count": 5,
      "outputs": []
    },
    {
      "cell_type": "code",
      "source": [
        "# 5. Handle division by zero\n",
        "try:\n",
        "    x = 5 / 0\n",
        "except ZeroDivisionError:\n",
        "    print(\"Cannot divide by zero!\")\n"
      ],
      "metadata": {
        "colab": {
          "base_uri": "https://localhost:8080/"
        },
        "id": "myNBBNA2uF8c",
        "outputId": "82c2bf63-708d-4808-feef-7b985f1959fa"
      },
      "execution_count": 6,
      "outputs": [
        {
          "output_type": "stream",
          "name": "stdout",
          "text": [
            "Cannot divide by zero!\n"
          ]
        }
      ]
    },
    {
      "cell_type": "code",
      "source": [
        "# 6. Log error when division by zero occurs\n",
        "\n",
        "import logging\n",
        "logging.basicConfig(filename=\"error.log\", level=logging.ERROR)\n",
        "try:\n",
        "    x = 5 / 0\n",
        "except ZeroDivisionError:\n",
        "    logging.error(\"Division by zero error!\")\n"
      ],
      "metadata": {
        "colab": {
          "base_uri": "https://localhost:8080/"
        },
        "id": "6ApgZLoVuMC8",
        "outputId": "b106933f-5c89-4918-e3ef-bb97b44d055e"
      },
      "execution_count": 7,
      "outputs": [
        {
          "output_type": "stream",
          "name": "stderr",
          "text": [
            "ERROR:root:Division by zero error!\n"
          ]
        }
      ]
    },
    {
      "cell_type": "code",
      "source": [
        "# 7. Log information at different levels\n",
        "import logging\n",
        "logging.basicConfig(level=logging.DEBUG)\n",
        "logging.info(\"Info message\")\n",
        "logging.error(\"Error message\")\n",
        "logging.warning(\"Warning message\")\n"
      ],
      "metadata": {
        "colab": {
          "base_uri": "https://localhost:8080/"
        },
        "id": "ezZdXQjTuS_M",
        "outputId": "ca24e114-c112-4e82-c4ce-f570d7cd09e6"
      },
      "execution_count": 8,
      "outputs": [
        {
          "output_type": "stream",
          "name": "stderr",
          "text": [
            "ERROR:root:Error message\n",
            "WARNING:root:Warning message\n"
          ]
        }
      ]
    },
    {
      "cell_type": "code",
      "source": [
        "# 8. Handle file opening error\n",
        "try:\n",
        "    with open(\"nofile.txt\", \"r\") as f:\n",
        "        print(f.read())\n",
        "except IOError:\n",
        "    print(\"Error opening file!\")\n"
      ],
      "metadata": {
        "colab": {
          "base_uri": "https://localhost:8080/"
        },
        "id": "pFcbuvdAuYXD",
        "outputId": "8f329115-54cd-4ad7-f949-613341defb56"
      },
      "execution_count": 9,
      "outputs": [
        {
          "output_type": "stream",
          "name": "stdout",
          "text": [
            "Error opening file!\n"
          ]
        }
      ]
    },
    {
      "cell_type": "code",
      "source": [
        "# 9. Read file line by line into a list\n",
        "with open(\"file1.txt\", \"r\") as f:\n",
        "    lines = f.readlines()\n",
        "print(lines)\n"
      ],
      "metadata": {
        "colab": {
          "base_uri": "https://localhost:8080/"
        },
        "id": "BGjqYEBauen1",
        "outputId": "ef30fd6b-87d7-4779-9884-b78f29124152"
      },
      "execution_count": 10,
      "outputs": [
        {
          "output_type": "stream",
          "name": "stdout",
          "text": [
            "['Hello, Python!']\n"
          ]
        }
      ]
    },
    {
      "cell_type": "code",
      "source": [
        "# 10. Append data to a file\n",
        "with open(\"file1.txt\", \"a\") as f:\n",
        "    f.write(\"\\nAppended text\")\n"
      ],
      "metadata": {
        "id": "hVvRsWwlumXy"
      },
      "execution_count": 11,
      "outputs": []
    },
    {
      "cell_type": "code",
      "source": [
        "# 11. Handle missing dictionary key\n",
        "data = {\"name\": \"Vanshika\"}\n",
        "try:\n",
        "    print(data[\"age\"])\n",
        "except KeyError:\n",
        "    print(\"Key not found!\")\n"
      ],
      "metadata": {
        "colab": {
          "base_uri": "https://localhost:8080/"
        },
        "id": "b0LDf1I1utL-",
        "outputId": "fc5563b2-6450-44d4-d87d-1665097d7285"
      },
      "execution_count": 12,
      "outputs": [
        {
          "output_type": "stream",
          "name": "stdout",
          "text": [
            "Key not found!\n"
          ]
        }
      ]
    },
    {
      "cell_type": "code",
      "source": [
        "# 12. Multiple except blocks\n",
        "try:\n",
        "    num = int(\"abc\")\n",
        "except ValueError:\n",
        "    print(\"Value error!\")\n",
        "except TypeError:\n",
        "    print(\"Type error!\")\n"
      ],
      "metadata": {
        "colab": {
          "base_uri": "https://localhost:8080/"
        },
        "id": "05Xf4cjeuzzH",
        "outputId": "f2a5d6be-1f7c-4e49-8c41-8f0a571e23b4"
      },
      "execution_count": 13,
      "outputs": [
        {
          "output_type": "stream",
          "name": "stdout",
          "text": [
            "Value error!\n"
          ]
        }
      ]
    },
    {
      "cell_type": "code",
      "source": [
        "# 13. Check if file exists\n",
        "import os\n",
        "if os.path.exists(\"file1.txt\"):\n",
        "    print(\"File exists\")\n",
        "else:\n",
        "    print(\"File not found\")\n"
      ],
      "metadata": {
        "colab": {
          "base_uri": "https://localhost:8080/"
        },
        "id": "LOg_CzwXu6a4",
        "outputId": "2e6fe03e-ff17-4b33-fadf-c1ade7ce3971"
      },
      "execution_count": 14,
      "outputs": [
        {
          "output_type": "stream",
          "name": "stdout",
          "text": [
            "File exists\n"
          ]
        }
      ]
    },
    {
      "cell_type": "code",
      "source": [
        "# 14. Logging info & errors\n",
        "import logging\n",
        "logging.basicConfig(filename=\"logfile.log\", level=logging.DEBUG)\n",
        "logging.info(\"Program started\")\n",
        "logging.error(\"Sample error\")\n"
      ],
      "metadata": {
        "colab": {
          "base_uri": "https://localhost:8080/"
        },
        "id": "3_f6zIqxvCzO",
        "outputId": "a51e1bb5-6bcd-4c43-db09-a126833ebc80"
      },
      "execution_count": 15,
      "outputs": [
        {
          "output_type": "stream",
          "name": "stderr",
          "text": [
            "ERROR:root:Sample error\n"
          ]
        }
      ]
    },
    {
      "cell_type": "code",
      "source": [
        "# 15. Print file content & handle empty file\n",
        "with open(\"file1.txt\", \"r\") as f:\n",
        "    content = f.read()\n",
        "    if content:\n",
        "        print(content)\n",
        "    else:\n",
        "        print(\"File is empty\")\n"
      ],
      "metadata": {
        "colab": {
          "base_uri": "https://localhost:8080/"
        },
        "id": "rnafSBZqvHr9",
        "outputId": "b3e8e2f3-238f-4901-8340-33dab9b0f1dc"
      },
      "execution_count": 16,
      "outputs": [
        {
          "output_type": "stream",
          "name": "stdout",
          "text": [
            "Hello, Python!\n",
            "Appended text\n"
          ]
        }
      ]
    },
    {
      "cell_type": "code",
      "source": [
        "# 16. Memory profiling\n",
        "# !pip install memory-profiler\n",
        "# import profile\n",
        "from memory_profiler import profile\n",
        "\n",
        "@profile\n",
        "def my_func():\n",
        "    a = [i for i in range(1000)]\n",
        "    print(\"List created\")\n",
        "\n",
        "my_func()\n"
      ],
      "metadata": {
        "colab": {
          "base_uri": "https://localhost:8080/"
        },
        "id": "MScAabnSvOJ8",
        "outputId": "520514aa-98bb-4b0a-8fd2-5554d1914e5b"
      },
      "execution_count": 21,
      "outputs": [
        {
          "output_type": "stream",
          "name": "stdout",
          "text": [
            "ERROR: Could not find file /tmp/ipython-input-189617179.py\n",
            "List created\n"
          ]
        }
      ]
    },
    {
      "cell_type": "code",
      "source": [
        "# 17. Write list of numbers (one per line)\n",
        "numbers = [1, 2, 3, 4, 5]\n",
        "with open(\"nums.txt\", \"w\") as f:\n",
        "       for num in numbers:\n",
        "         print (f\"{num}\\n\")\n"
      ],
      "metadata": {
        "colab": {
          "base_uri": "https://localhost:8080/"
        },
        "id": "iUMIXHWXwPVD",
        "outputId": "956acdf6-8b7c-43d4-dea6-991d332c0249"
      },
      "execution_count": 28,
      "outputs": [
        {
          "output_type": "stream",
          "name": "stdout",
          "text": [
            "1\n",
            "\n",
            "2\n",
            "\n",
            "3\n",
            "\n",
            "4\n",
            "\n",
            "5\n",
            "\n"
          ]
        }
      ]
    },
    {
      "cell_type": "code",
      "source": [
        "# 18. Logging with rotation after 1MB\n",
        "import logging\n",
        "from logging.handlers import RotatingFileHandler\n",
        "\n",
        "handler = RotatingFileHandler(\"mylog.log\", maxBytes=1000000, backupCount=3)\n",
        "logging.basicConfig(handlers=[handler], level=logging.INFO)\n",
        "logging.info(\"Logging started\")\n"
      ],
      "metadata": {
        "id": "XEV4S5CyxEH_"
      },
      "execution_count": 29,
      "outputs": []
    },
    {
      "cell_type": "code",
      "source": [
        "# 19. Handle IndexError & KeyError\n",
        "try:\n",
        "    lst = [1, 2]\n",
        "    print(lst[5])\n",
        "except IndexError:\n",
        "    print(\"Index out of range!\")\n",
        "try:\n",
        "    d = {}\n",
        "    print(d[\"name\"])\n",
        "except KeyError:\n",
        "    print(\"Key not found!\")\n"
      ],
      "metadata": {
        "colab": {
          "base_uri": "https://localhost:8080/"
        },
        "id": "dk7cXBtbxKZk",
        "outputId": "c2f98631-e405-464a-a1fe-26dcddb552a8"
      },
      "execution_count": 30,
      "outputs": [
        {
          "output_type": "stream",
          "name": "stdout",
          "text": [
            "Index out of range!\n",
            "Key not found!\n"
          ]
        }
      ]
    },
    {
      "cell_type": "code",
      "source": [
        "# 20. Open file & read using context manager\n",
        "with open(\"file1.txt\", \"r\") as f:\n",
        "    print(f.read())\n"
      ],
      "metadata": {
        "colab": {
          "base_uri": "https://localhost:8080/"
        },
        "id": "Xtp15bykxTWz",
        "outputId": "b4e6bbf4-1c4b-4806-ecfd-016a110f4a0a"
      },
      "execution_count": 31,
      "outputs": [
        {
          "output_type": "stream",
          "name": "stdout",
          "text": [
            "Hello, Python!\n",
            "Appended text\n"
          ]
        }
      ]
    },
    {
      "cell_type": "code",
      "source": [
        "# 21. Read file & count word occurrences\n",
        "word = \"Python\"\n",
        "with open(\"file1.txt\", \"r\") as f:\n",
        "    content = f.read()\n",
        "print(content.count(word))\n"
      ],
      "metadata": {
        "colab": {
          "base_uri": "https://localhost:8080/"
        },
        "id": "TlmEC5SwxlFI",
        "outputId": "ba0eae1a-1c9f-446f-8002-44222b117be2"
      },
      "execution_count": 32,
      "outputs": [
        {
          "output_type": "stream",
          "name": "stdout",
          "text": [
            "1\n"
          ]
        }
      ]
    },
    {
      "cell_type": "code",
      "source": [
        "# 22. Check if file is empty\n",
        "import os\n",
        "if os.path.getsize(\"file1.txt\") == 0:\n",
        "    print(\"File is empty\")\n",
        "else:\n",
        "    print(\"File has content\")\n"
      ],
      "metadata": {
        "colab": {
          "base_uri": "https://localhost:8080/"
        },
        "id": "0h16ih5yxvHg",
        "outputId": "d78cf892-95e4-4e9e-b3c1-376a43518c4f"
      },
      "execution_count": 33,
      "outputs": [
        {
          "output_type": "stream",
          "name": "stdout",
          "text": [
            "File has content\n"
          ]
        }
      ]
    },
    {
      "cell_type": "code",
      "source": [
        "# 23. Write to log file on file handling error\n",
        "import logging\n",
        "logging.basicConfig(filename=\"error.log\", level=logging.ERROR)\n",
        "try:\n",
        "    with open(\"nofile.txt\", \"r\") as f:\n",
        "        print(f.read())\n",
        "except Exception as e:\n",
        "    logging.error(f\"Error: {e}\")\n"
      ],
      "metadata": {
        "colab": {
          "base_uri": "https://localhost:8080/"
        },
        "id": "_KXYTApBxxt9",
        "outputId": "3c7f068f-2154-475e-d3d2-99a2aa0d290d"
      },
      "execution_count": 34,
      "outputs": [
        {
          "output_type": "stream",
          "name": "stderr",
          "text": [
            "ERROR:root:Error: [Errno 2] No such file or directory: 'nofile.txt'\n"
          ]
        }
      ]
    }
  ]
}