{
  "nbformat": 4,
  "nbformat_minor": 0,
  "metadata": {
    "colab": {
      "provenance": []
    },
    "kernelspec": {
      "name": "python3",
      "display_name": "Python 3"
    },
    "language_info": {
      "name": "python"
    }
  },
  "cells": [
    {
      "cell_type": "markdown",
      "source": [
        "# Theory Questions\n",
        "\n",
        "Question 1:- What are data structures, and why are they important\n",
        "\n",
        "Answer :- Data structures are ways to organize and store data in a computer so that it can be used efficiently. Just like we use folders to keep different types of papers in order, computers use data structures to keep data well organized. Some common examples of data structures include arrays, lists, stacks, queues, trees, and graphs. Each type is designed to handle different kinds of tasks. For example, an array is used when you want to store data in a row, while a stack works like a pile of plates last in, first out.\n",
        "\n",
        "Data structures are very important because they help make programs faster and use less memory. When the right data structure is used, a computer can find, store, or remove data quickly. This is especially helpful when working with large amounts of information, such as in search engines, apps, or games. For example, a social media app uses data structures to show your feed, store comments, and find friends. Without data structures, programs would be slow, messy, and hard to manage. So, learning and using the right data structure is a basic but powerful skill for every programmer or software developer. It helps make better, smarter, and faster software."
      ],
      "metadata": {
        "id": "MPy6fPGXHbpG"
      }
    },
    {
      "cell_type": "markdown",
      "source": [
        "Question 2 :-  Explain the difference between mutable and immutable data types with examples\n",
        "\n",
        "Answer :- In programming, data types can be either mutable or immutable, which means whether their values can be changed after they are created. Mutable data types can be changed or modified after they are made. For example, lists in Python are mutable.\n",
        "\n",
        "If you create a list like my_list = [1, 2, 3], you can add, remove, or change elements in it later, like my_list.append(4) or my_list[0] = 10.\n",
        "\n",
        "On the other hand, immutable data types cannot be changed once they are created. If you try to change them, Python will give you a new copy instead of modifying the original one. For example, strings and tuples are immutable.\n",
        "\n",
        "If you write my_str = \"Hello\", and then try my_str[0] = \"Y\", it will give an error. You can only create a new string like my_str = \"Yellow\"."
      ],
      "metadata": {
        "id": "zBlZhlt8IGkH"
      }
    },
    {
      "cell_type": "markdown",
      "source": [
        "Question 3 :-  What are the main differences between lists and tuples in Python\n",
        "\n",
        "Answer :- In Python, both lists and tuples are used to store collections of items like numbers, strings, or other data. But there are some important differences between them. The main difference is that lists are mutable, which means you can change, add, or remove items after the list is created. For example,\n",
        "\n",
        "if you have my_list = [1, 2, 3], you can do my_list.append(4) to add an item or my_list[0] = 10 to change the first item.\n",
        "\n",
        "On the other hand, tuples are immutable, which means once a tuple is created, you cannot change it. For example,\n",
        "\n",
        " if you have my_tuple = (1, 2, 3), you cannot add or remove items from it, and trying to change my_tuple[0] = 10 will give an error.\n",
        "\n",
        "Another difference is that tuples are faster than lists when it comes to performance, especially when you don’t need to change the data. Tuples also use less memory. Because of their immutability, they are often used for fixed data, like days of the week."
      ],
      "metadata": {
        "id": "TNwKtFKfIkK1"
      }
    },
    {
      "cell_type": "markdown",
      "source": [
        "Question 4 :-  Describe how dictionaries store data\n",
        "\n",
        "Answer:- In Python, a dictionary is a special data structure that stores data in key-value pairs. This means each piece of data (the value) is linked to a unique key, like a label or name. For example, you can create a dictionary like this:\n",
        "\n",
        "my_dict = {\"name\": \"Vanshika\", \"age\": 20, \"city\": \"Delhi\"}\n",
        "\n",
        "Here, \"name\", \"age\", and \"city\" are the keys, and \"Vanshika\", 20, and \"Delhi\" are the values. So, instead of remembering a position like in a list, you can directly get the value by using its key, like my_dict[\"name\"], which will return \"Vanshika\".\n",
        "\n",
        " Python dictionaries use a method called hashing to store data. Each key is passed through a hash function that converts it into a unique number (called a hash value). This number decides where the value will be stored in memory. Thats why dictionary lookups are very fast, even with large amounts of data.\n",
        "\n",
        "Dictionaries are useful when you need to label your data, such as storing information about a person, student records, or settings in a program. They are mutable, so you can add, update, or remove key-value pairs anytime."
      ],
      "metadata": {
        "id": "rHhv1n5CJs9Q"
      }
    },
    {
      "cell_type": "markdown",
      "source": [
        "Question 5 :- Why might you use a set instead of a list in Python\n",
        "\n",
        "Answer :- In Python, a 'set' is a collection of unique and unordered items. You might choose a 'set' instead of a 'list' when you want to store items without duplicates. For example, if you have a list of names with repeated values and you only want to keep unique names, converting it to a 'set' will automatically remove the duplicates. Also, 'sets' are usually faster than lists when it comes to checking if an item exists. This is because 'sets' use a special technique called hashing, which makes lookups very quick.\n",
        "\n",
        "However, since 'sets' are unordered, they dont keep the original order of items like 'lists' do. Also, you cannot access items by index (like my_list[0]), which is possible in lists. So, use a set when your main goal is to store unique items and perform quick searches, not when you need to keep order or duplicates."
      ],
      "metadata": {
        "id": "UFssOHVFK-78"
      }
    },
    {
      "cell_type": "markdown",
      "source": [
        "Question 6 :-  What is a string in Python, and how is it different from a list\n",
        "\n",
        "Answer :- In Python, a string is a sequence of characters enclosed in quotes, like \"hello\" or 'Python123'. Strings are used to store and work with text. Each character in a string has a position (index), so you can access individual characters using that index, like my_string[0] to get the first letter.\n",
        "\n",
        "A list, on the other hand, is a collection that can hold different types of data like numbers, strings, or even other lists. For example, my_list = [1, \"apple\", 3.5]. Lists are mutable, which means you can change, add, or remove items. But strings are immutable, so once created, they cannot be changed directly. To change a string, you must create a new one."
      ],
      "metadata": {
        "id": "heIkXoWcLtkt"
      }
    },
    {
      "cell_type": "markdown",
      "source": [
        "Question 7 :-  How do tuples ensure data integrity in Python\n",
        "\n",
        "Answer :- In Python, tuples are used to store collections of items, just like lists, but with one important difference tuples are immutable. This means that once a tuple is created, its values cannot be changed, added, or removed. Because of this immutability, tuples help ensure data integrity by preventing accidental changes to the data. For example, if you store fixed information like coordinates (10, 20) or dates, using a tuple ensures that no part of it can be altered later in the program."
      ],
      "metadata": {
        "id": "vOpzj_ZuMSu1"
      }
    },
    {
      "cell_type": "markdown",
      "source": [
        "Question 8 :- What is a hash table, and how does it relate to dictionaries in Python\n",
        "\n",
        "Answer :- A hash table is a data structure that stores data in a key-value format and allows for very fast access to values using their keys. It works by using a hash function that converts a key (like a string or number) into a unique index where the value is stored. In Python, the dictionary is built using a hash table behind the scenes.\n",
        "\n",
        "When you create a dictionary like my_dict = {\"name\": \"Vanshika\"}, Python uses a hash function to turn the key \"name\" into a hash value, which tells the dictionary where to store the value \"Vanshika\" in memory. This is why you can quickly get the value using my_dict[\"name\"]. The use of a hash table makes dictionaries very efficient for tasks like searching, inserting, and deleting data."
      ],
      "metadata": {
        "id": "dE9ayZwlMppy"
      }
    },
    {
      "cell_type": "markdown",
      "source": [
        "Question 9 :- Can lists contain different data types in Python\n",
        "\n",
        "Answer :- Yes, in Python, lists can contain different data types. This means you can store numbers, strings, booleans, or even other lists in the same list. For example, my_list = [10, \"apple\", True, 3.5] is a valid list with an integer, a string, a boolean, and a float. This flexibility makes lists very useful when you need to group different types of information together. You can also change the values later, add new ones, or remove existing ones because lists are mutable."
      ],
      "metadata": {
        "id": "qUW7MmN3NF2-"
      }
    },
    {
      "cell_type": "markdown",
      "source": [
        "Question 10 :-  Explain why strings are immutable in Python\n",
        "\n",
        "Answer :- In Python, strings are immutable, which means once a string is created, you cannot change its characters or content directly. For example,\n",
        "\n",
        " if you write my_str = \"hello\", you cannot do my_str[0] = \"y\" to change it to \"yello\"—Python will give an error. Instead, you have to create a new string like my_str = \"yello\".\n",
        "\n",
        "Advantages of strings being immutable in python are , First, it helps keep your data safe and secure from accidental changes. Second, it improves performance because the same string value can be stored and reused in memory without worrying about changes. This also allows strings to be used as keys in dictionaries, something that only immutable types can do. Third ,Immutability also makes debugging easier ."
      ],
      "metadata": {
        "id": "6gB_wCvQNlFv"
      }
    },
    {
      "cell_type": "markdown",
      "source": [
        "Question 11 :- What advantages do dictionaries offer over lists for certain task\n",
        "\n",
        "Dictionaries in Python offer several advantages over lists, specially when you need to work with key-value pairs. In a list, you access data using an index like my_list[0], which only tells you the position, not what the data means. But in a dictionary, you use a key like my_dict[\"name\"], which is more meaningful and easier to understand.\n",
        "\n",
        "Dictionaries are also much faster than lists when it comes to searching for a specific item by key. This is because dictionaries use a hash table internally, which allows quick lookups. For example, finding a person's age using their name in a list would take time, but with a dictionary, its almost instant.\n"
      ],
      "metadata": {
        "id": "LiugPOtYOkWD"
      }
    },
    {
      "cell_type": "markdown",
      "source": [
        "Question 12 :-  Describe a scenario where using a tuple would be preferable over a list\n",
        "\n",
        "Answer :- A tuple is better to use than a list when you want to store data that should not change. For example, imagine you're storing the coordinates of a location, like (28.6639, 77.2990) for Delhi. Since these values represent a fixed point on the map, you dont want them to be changed by mistake. Using a tuple ensures that the data stays safe and unchangeable, because tuples are immutable.\n",
        "\n",
        "Another example is when you're returning multiple fixed values from a function, like a person's name and age: return (\"Vanshika\", 21). Since you don't plan to change the result, a tuple is a good choice.\n",
        "\n",
        "Tuples also take up less memory and are slightly faster than lists, which helps when working with large amounts of fixed data. So, whenever your data is constant, unchanging, and ordered, using a tuple is a smarter and safer option than a list."
      ],
      "metadata": {
        "id": "W7aqVSzmO5iZ"
      }
    },
    {
      "cell_type": "markdown",
      "source": [
        "Question 13 :- How do sets handle duplicate values in Python\n",
        "\n",
        "Answer :- In Python, sets automatically remove duplicate values. A set is a collection that only keeps unique items, meaning if you add the same value more than once, it will appear only once in the set. For example,\n",
        "\n",
        " if you write my_set = {1, 2, 2, 3, 3, 3}, the set will store it as {1, 2, 3}.\n",
        "\n",
        "This feature is  useful when you want to clean up data and keep only the unique elements. For example, if you have a list of names with duplicates, you can convert it into a set to remove the repeated names.\n",
        "\n",
        "Also, sets are unordered, which means they do not keep the items in any specific order. You also cannot access set items using indexes like in a list."
      ],
      "metadata": {
        "id": "h52r3_45PUay"
      }
    },
    {
      "cell_type": "markdown",
      "source": [
        "Question 14 :-  How does the “in” keyword work differently for lists and dictionaries\n",
        "\n",
        "Answer :- In Python, the “in” keyword is used to check if a value exists, but it works a bit differently for lists and dictionaries. In a list, the “in” keyword checks if a specific value is present.\n",
        "\n",
        "For example, if my_list = [1, 2, 3], then 2 in my_list will return True because 2 is one of the values in the list.\n",
        "\n",
        "In a dictionary, the “in” keyword checks if a specific key exists, not the value.\n",
        "\n",
        " For example, if my_dict = {\"name\": \"Vanshika\", \"age\": 21}, then \"name\" in my_dict will return True, but \"Vanshika\" in my_dict will return False because it is a value, not a key."
      ],
      "metadata": {
        "id": "HpDVanjAPoZX"
      }
    },
    {
      "cell_type": "markdown",
      "source": [
        "Question 15 :-  Can you modify the elements of a tuple? Explain why or why not\n",
        "\n",
        "Answer :- No, you cannot modify the elements of a tuple in Python because tuples are immutable. This means once a tuple is created, its values cannot be changed, added, or removed. For example,\n",
        "\n",
        " if you create a tuple like my_tuple = (10, 20, 30), you cannot do my_tuple[0] = 15—Python will give an error.\n",
        "\n",
        "This immutability is the main feature of tuples. It helps protect the data from being changed by mistake, which is useful when you want to store constant or fixed information like dates, coordinates.\n"
      ],
      "metadata": {
        "id": "llR30CmUQGTw"
      }
    },
    {
      "cell_type": "markdown",
      "source": [
        "Question 16 :-  What is a nested dictionary, and give an example of its use case\n",
        "\n",
        "Answer :- A nested dictionary in Python is a dictionary inside another dictionary. It means one or more of the values in the main dictionary are also dictionaries. This helps you store complex, structured data in a clean and organized way. Instead of using a long list or many variables, you can group related information together.\n",
        "\n",
        "For example, suppose you want to store student details for a school. You can create a nested dictionary like this:\n",
        "\n",
        "\n",
        "students = {\n",
        "\n",
        "    \"101\": {\"name\": \"Vanshika\", \"age\": 20, \"grade\": \"A\"},\n",
        "\n",
        "    \"102\": {\"name\": \"Riya\", \"age\": 21, \"grade\": \"B\"}\n",
        "}\n",
        "Here, each student ID is a key, and the value is another dictionary with the students details. This helps keep the data organized and easy to access. For example, to get Vanshika's grade, you can use students[\"101\"][\"grade\"].\n",
        "\n"
      ],
      "metadata": {
        "id": "oOPm9P-vQfEy"
      }
    },
    {
      "cell_type": "markdown",
      "source": [
        "Question 17 :- Describe the time complexity of accessing elements in a dictionary\n",
        "\n",
        "Answer :- In Python, accessing elements in a dictionary is very fast.\n",
        "\n",
        " The average time complexity is O(1), which means it takes the same small amount of time to find a value, no matter how large the dictionary is. This is possible because dictionaries use a data structure called a hash table.\n",
        "\n",
        "  When you use a key like my_dict[\"name\"], Python quickly calculates a unique location using a hash function and directly goes to that place in memory to get the value.\n",
        "\n",
        "This is much faster than searching through a list, which takes O(n) time because Python might need to look through every item one by one."
      ],
      "metadata": {
        "id": "tYKnZfunRO-c"
      }
    },
    {
      "cell_type": "markdown",
      "source": [
        "Question 18 :- In what situations are lists preferred over dictionaries\n",
        "\n",
        "Answer :- Lists are preferred over dictionaries in Python when you need to store items in a specific order or when the position index of the item matters. For example, if you're creating a list of numbers, names, or tasks that need to be done in a certain order, a list is the best choice. You can easily loop through a list and access items using their index, like my_list[0] for the first item.\n",
        "\n",
        "Lists are also useful when you dont need to label each item with a key. They are simpler and easier to use when youre just dealing with a collection of values. Also, if your data doesn't require fast lookup using a specific name or ID, a list is often faster and uses less memory than a dictionary."
      ],
      "metadata": {
        "id": "y7ij9d9pRsjO"
      }
    },
    {
      "cell_type": "markdown",
      "source": [
        "Question 19 :- Why are dictionaries considered unordered, and how does that affect data retrieval\n",
        "\n",
        "Answer :- A dictionary is termed an unordered collection of objects because dictionaries do not maintain any inherent order of the items based on when they were added. In older versions of Python (before 3.7), dictionaries did not preserve insertion order at all. This meant that when you accessed or printed the items, the order could vary, as dictionaries were optimized for fast lookups rather than maintaining order.\n",
        "\n",
        "Starting from Python 3.7, dictionaries do retain insertion order as an implementation detail, meaning elements appear in the order they were added when you print or iterate over them. However, they are still called \"unordered\" because their primary function is fast key-based access, and they are not intended to be used as ordered collections like lists or tuples. So even though they appear ordered in Python 3.7+, the emphasis is still on key-value mapping rather than sequence."
      ],
      "metadata": {
        "id": "SO6mE1q-SPAr"
      }
    },
    {
      "cell_type": "markdown",
      "source": [
        "Question 20 :- Explain the difference between a list and a dictionary in terms of data retrieval.\n",
        "\n",
        "Answer :- The main difference between a list and a dictionary in terms of data retrieval is how you access the values.\n",
        "\n",
        "In a list, data is accessed using a numeric index that represents the position of the item. For example, my_list[0] gives you the first item. This means you need to know the position of the value you want. Lists are good when order matters or when you want to go through items one by one.\n",
        "\n",
        "In a dictionary, data is accessed using a key, not a position.\n",
        "\n",
        " For example, my_dict[\"name\"] gives you the value for the key \"name\". You don't need to know the order just the key. This makes retrieving data faster and more meaningful, especially when working with labeled data like student records, settings, or user information."
      ],
      "metadata": {
        "id": "vLzQEHdOS77Y"
      }
    },
    {
      "cell_type": "markdown",
      "source": [
        "# Practical Questions"
      ],
      "metadata": {
        "id": "QBNNlwsmTj4p"
      }
    },
    {
      "cell_type": "code",
      "source": [
        "# Question 1 :- Write a code to create a string with your name and print it\n",
        "\n",
        "name = \"Vanshika\"\n",
        "print(name)\n"
      ],
      "metadata": {
        "colab": {
          "base_uri": "https://localhost:8080/"
        },
        "id": "A6ENOaxHTiLV",
        "outputId": "afe8296b-29b1-43a7-bb03-cf2100a792b5"
      },
      "execution_count": 1,
      "outputs": [
        {
          "output_type": "stream",
          "name": "stdout",
          "text": [
            "Vanshika\n"
          ]
        }
      ]
    },
    {
      "cell_type": "code",
      "source": [
        "# Question 2 :- Write a code to find the length of the string \"Hello World\"\n",
        "\n",
        "text = \"Hello World\"\n",
        "print(len(text))\n"
      ],
      "metadata": {
        "colab": {
          "base_uri": "https://localhost:8080/"
        },
        "id": "WSTqt773T1VI",
        "outputId": "2c9e80f7-9914-4c2c-e0c4-6041ac9c4e5e"
      },
      "execution_count": 2,
      "outputs": [
        {
          "output_type": "stream",
          "name": "stdout",
          "text": [
            "11\n"
          ]
        }
      ]
    },
    {
      "cell_type": "code",
      "source": [
        "# Question 3 :- Write a code to slice the first 3 characters from the string \"Python Programming\"\n",
        "text = \"Python Programming\"\n",
        "print(text[:3])\n"
      ],
      "metadata": {
        "colab": {
          "base_uri": "https://localhost:8080/"
        },
        "id": "FAn0pFsbT_r0",
        "outputId": "b6e1fd2a-df71-4112-cc8f-7e3dde8f8707"
      },
      "execution_count": 3,
      "outputs": [
        {
          "output_type": "stream",
          "name": "stdout",
          "text": [
            "Pyt\n"
          ]
        }
      ]
    },
    {
      "cell_type": "code",
      "source": [
        "# Question 4 :- Write a code to convert the string \"hello\" to uppercase\n",
        "\n",
        "word = \"hello\"\n",
        "print(word.upper())\n"
      ],
      "metadata": {
        "colab": {
          "base_uri": "https://localhost:8080/"
        },
        "id": "9zKpjmnzUNph",
        "outputId": "57e696bd-456f-41de-dfd3-5171257f3e93"
      },
      "execution_count": 4,
      "outputs": [
        {
          "output_type": "stream",
          "name": "stdout",
          "text": [
            "HELLO\n"
          ]
        }
      ]
    },
    {
      "cell_type": "code",
      "source": [
        "# Question 5 :-  Write a code to replace the word \"apple\" with \"orange\" in the string \"I like apple\"\n",
        "\n",
        "sentence = \"I like apple\"\n",
        "print(sentence.replace(\"apple\", \"orange\"))\n"
      ],
      "metadata": {
        "colab": {
          "base_uri": "https://localhost:8080/"
        },
        "id": "x_rRioSxUTyL",
        "outputId": "c44b38cd-d255-40aa-ae33-444d7c41e7bb"
      },
      "execution_count": 5,
      "outputs": [
        {
          "output_type": "stream",
          "name": "stdout",
          "text": [
            "I like orange\n"
          ]
        }
      ]
    },
    {
      "cell_type": "code",
      "source": [
        "# Question 6 :- Write a code to create a list with numbers 1 to 5 and print it\n",
        "\n",
        "my_list = [1, 2, 3, 4, 5]\n",
        "print(my_list)\n"
      ],
      "metadata": {
        "colab": {
          "base_uri": "https://localhost:8080/"
        },
        "id": "C-ehbeLsUpci",
        "outputId": "8faf572e-d2f6-4bbc-9cb8-af7a35a03895"
      },
      "execution_count": 6,
      "outputs": [
        {
          "output_type": "stream",
          "name": "stdout",
          "text": [
            "[1, 2, 3, 4, 5]\n"
          ]
        }
      ]
    },
    {
      "cell_type": "code",
      "source": [
        "# Question 7 :- Write a code to append the number 10 to the list [1, 2, 3, 4]\n",
        "\n",
        "my_list = [1, 2, 3, 4]\n",
        "my_list.append(10)\n",
        "print(my_list)\n"
      ],
      "metadata": {
        "colab": {
          "base_uri": "https://localhost:8080/"
        },
        "id": "khd30GwbUzm_",
        "outputId": "00e14a22-641f-40d3-bf9d-03ccba85d68e"
      },
      "execution_count": 7,
      "outputs": [
        {
          "output_type": "stream",
          "name": "stdout",
          "text": [
            "[1, 2, 3, 4, 10]\n"
          ]
        }
      ]
    },
    {
      "cell_type": "code",
      "source": [
        "# Question 8 :- Write a code to remove the number 3 from the list [1, 2, 3, 4, 5]\n",
        "\n",
        "my_list = [1, 2, 3, 4, 5]\n",
        "my_list.remove(3)\n",
        "print(my_list)\n"
      ],
      "metadata": {
        "colab": {
          "base_uri": "https://localhost:8080/"
        },
        "id": "h1IqDWJeU-32",
        "outputId": "3b0a1701-e33f-45d5-f443-66607235e24d"
      },
      "execution_count": 8,
      "outputs": [
        {
          "output_type": "stream",
          "name": "stdout",
          "text": [
            "[1, 2, 4, 5]\n"
          ]
        }
      ]
    },
    {
      "cell_type": "code",
      "source": [
        "# Question 9 :- Write a code to access the second element in the list ['a', 'b', 'c', 'd']\n",
        "\n",
        "my_list = ['a', 'b', 'c', 'd']\n",
        "print(my_list[1])\n"
      ],
      "metadata": {
        "colab": {
          "base_uri": "https://localhost:8080/"
        },
        "id": "8vCp5xZsVQHr",
        "outputId": "30f42eea-127e-454e-b015-ffbd35e6d081"
      },
      "execution_count": 9,
      "outputs": [
        {
          "output_type": "stream",
          "name": "stdout",
          "text": [
            "b\n"
          ]
        }
      ]
    },
    {
      "cell_type": "code",
      "source": [
        "# Question 10 :- Write a code to reverse the list [10, 20, 30, 40, 50].\n",
        "\n",
        "my_list = [10, 20, 30, 40, 50]\n",
        "my_list.reverse()\n",
        "print(my_list)\n"
      ],
      "metadata": {
        "colab": {
          "base_uri": "https://localhost:8080/"
        },
        "id": "05Uo8u0jV5RC",
        "outputId": "2e130f3a-644b-4db1-de6e-f28a452fff42"
      },
      "execution_count": 10,
      "outputs": [
        {
          "output_type": "stream",
          "name": "stdout",
          "text": [
            "[50, 40, 30, 20, 10]\n"
          ]
        }
      ]
    },
    {
      "cell_type": "code",
      "source": [
        "# Question 11 :-  Write a code to create a tuple with the elements 100, 200, 300 and print it\n",
        "\n",
        "my_tuple = (100, 200, 300)\n",
        "print(my_tuple)\n"
      ],
      "metadata": {
        "colab": {
          "base_uri": "https://localhost:8080/"
        },
        "id": "rl9-D_Ocp33x",
        "outputId": "c4b8007f-9f93-4454-aa2f-636b05617dbd"
      },
      "execution_count": 1,
      "outputs": [
        {
          "output_type": "stream",
          "name": "stdout",
          "text": [
            "(100, 200, 300)\n"
          ]
        }
      ]
    },
    {
      "cell_type": "code",
      "source": [
        "# Question 12 :-  Write a code to access the second-to-last element of the tuple ('red', 'green', 'blue', 'yellow')\n",
        "\n",
        "colors = ('red', 'green', 'blue', 'yellow')\n",
        "print(colors[-2])\n"
      ],
      "metadata": {
        "colab": {
          "base_uri": "https://localhost:8080/"
        },
        "id": "Kh5vnyfyp9C4",
        "outputId": "bbab3798-0601-4dad-9966-e6c849b35fc6"
      },
      "execution_count": 2,
      "outputs": [
        {
          "output_type": "stream",
          "name": "stdout",
          "text": [
            "blue\n"
          ]
        }
      ]
    },
    {
      "cell_type": "code",
      "source": [
        "# Question 13 :- Write a code to find the minimum number in the tuple (10, 20, 5, 15)\n",
        "\n",
        "numbers = (10, 20, 5, 15)\n",
        "print(min(numbers))\n"
      ],
      "metadata": {
        "colab": {
          "base_uri": "https://localhost:8080/"
        },
        "id": "eLKfCKAVqDSV",
        "outputId": "74bf8012-6a11-47c1-d7ce-cc3ae7d4a251"
      },
      "execution_count": 3,
      "outputs": [
        {
          "output_type": "stream",
          "name": "stdout",
          "text": [
            "5\n"
          ]
        }
      ]
    },
    {
      "cell_type": "code",
      "source": [
        "# Question 14 :-  Write a code to find the index of the element \"cat\" in the tuple ('dog', 'cat', 'rabbit')\n",
        "\n",
        "animals = ('dog', 'cat', 'rabbit')\n",
        "print(animals.index('cat'))\n"
      ],
      "metadata": {
        "colab": {
          "base_uri": "https://localhost:8080/"
        },
        "id": "EjBjMCuiqIuY",
        "outputId": "83a27023-a6d5-4174-96b8-83fb918fe592"
      },
      "execution_count": 4,
      "outputs": [
        {
          "output_type": "stream",
          "name": "stdout",
          "text": [
            "1\n"
          ]
        }
      ]
    },
    {
      "cell_type": "code",
      "source": [
        "# Question 15 :-  Write a code to create a tuple containing three different fruits and check if \"kiwi\" is in it\n",
        "\n",
        "fruits = ('apple', 'banana', 'orange')\n",
        "print('kiwi' in fruits)\n"
      ],
      "metadata": {
        "colab": {
          "base_uri": "https://localhost:8080/"
        },
        "id": "ZAudGJr8qQWz",
        "outputId": "33d65662-5c69-482c-95fe-527f49e740ee"
      },
      "execution_count": 5,
      "outputs": [
        {
          "output_type": "stream",
          "name": "stdout",
          "text": [
            "False\n"
          ]
        }
      ]
    },
    {
      "cell_type": "code",
      "source": [
        "# Question 16 :-  Write a code to create a set with the elements 'a', 'b', 'c' and print it\n",
        "\n",
        "my_set = {'a', 'b', 'c'}\n",
        "print(my_set)\n"
      ],
      "metadata": {
        "colab": {
          "base_uri": "https://localhost:8080/"
        },
        "id": "2pEdkBdMqq3j",
        "outputId": "1fcd786a-48f1-46b1-df38-87aa5f00fc00"
      },
      "execution_count": 10,
      "outputs": [
        {
          "output_type": "stream",
          "name": "stdout",
          "text": [
            "{'b', 'c', 'a'}\n"
          ]
        }
      ]
    },
    {
      "cell_type": "code",
      "source": [
        "# Question 17 :-  Write a code to clear all elements from the set {1, 2, 3, 4, 5}\n",
        "my_set = {1, 2, 3, 4, 5}\n",
        "my_set.clear()\n",
        "print(my_set)\n"
      ],
      "metadata": {
        "colab": {
          "base_uri": "https://localhost:8080/"
        },
        "id": "NbX1lkPxqv-x",
        "outputId": "4357eb27-c388-4f11-970e-e10bc4c6696e"
      },
      "execution_count": 9,
      "outputs": [
        {
          "output_type": "stream",
          "name": "stdout",
          "text": [
            "set()\n"
          ]
        }
      ]
    },
    {
      "cell_type": "code",
      "source": [
        "# Question 18 :- Write a code to remove the element 4 from the set {1, 2, 3, 4 }\n",
        "\n",
        "my_set = {1, 2, 3, 4}\n",
        "my_set.remove(4)\n",
        "print(my_set)\n"
      ],
      "metadata": {
        "colab": {
          "base_uri": "https://localhost:8080/"
        },
        "id": "ByuHvlN-q2tF",
        "outputId": "2f8597b8-a452-4825-bbf9-2ec8a74b2354"
      },
      "execution_count": 8,
      "outputs": [
        {
          "output_type": "stream",
          "name": "stdout",
          "text": [
            "{1, 2, 3}\n"
          ]
        }
      ]
    },
    {
      "cell_type": "code",
      "source": [
        "# Question 19 :-  Write a code to find the union of two sets {1, 2, 3} and {3, 4, 5}\n",
        "\n",
        "a = {1, 2, 3}\n",
        "b = {3, 4, 5}\n",
        "print(a.union(b))\n"
      ],
      "metadata": {
        "colab": {
          "base_uri": "https://localhost:8080/"
        },
        "id": "mLgt6FeLq7_J",
        "outputId": "cedd6e42-f4cb-439d-c7cf-19101b1b474d"
      },
      "execution_count": 7,
      "outputs": [
        {
          "output_type": "stream",
          "name": "stdout",
          "text": [
            "{1, 2, 3, 4, 5}\n"
          ]
        }
      ]
    },
    {
      "cell_type": "code",
      "source": [
        "# Question 20 :- Write a code to find the intersection of two sets {1, 2, 3} and {2, 3, 4}\n",
        "\n",
        "a = {1, 2, 3}\n",
        "b = {2, 3, 4}\n",
        "print(a.intersection(b))\n"
      ],
      "metadata": {
        "colab": {
          "base_uri": "https://localhost:8080/"
        },
        "id": "Zk0rdEsarCb6",
        "outputId": "6bcf2f5f-d703-4e54-c8eb-1aa5c3373d7f"
      },
      "execution_count": 6,
      "outputs": [
        {
          "output_type": "stream",
          "name": "stdout",
          "text": [
            "{2, 3}\n"
          ]
        }
      ]
    },
    {
      "cell_type": "code",
      "source": [
        "# Question 21 :-  Write a code to create a dictionary with the keys \"name\", \"age\", and \"city\", and print it\n",
        "person = {\"name\": \"John\", \"age\": 25, \"city\": \"Delhi\"}\n",
        "print(person)\n"
      ],
      "metadata": {
        "colab": {
          "base_uri": "https://localhost:8080/"
        },
        "id": "c9hP-09vrf12",
        "outputId": "3270f80e-9c91-4d2e-eae8-53ae565d22d9"
      },
      "execution_count": 11,
      "outputs": [
        {
          "output_type": "stream",
          "name": "stdout",
          "text": [
            "{'name': 'John', 'age': 25, 'city': 'Delhi'}\n"
          ]
        }
      ]
    },
    {
      "cell_type": "code",
      "source": [
        "# Question 22 :-  Write a code to add a new key-value pair \"country\": \"USA\" to the dictionary {'name': 'John', 'age': 25}\n",
        "person = {\"name\": \"John\", \"age\": 25}\n",
        "person[\"country\"] = \"USA\"\n",
        "print(person)\n"
      ],
      "metadata": {
        "colab": {
          "base_uri": "https://localhost:8080/"
        },
        "id": "Ol8Go-kJrlU0",
        "outputId": "363c4305-8f4b-4960-afd7-9a1bd375fca0"
      },
      "execution_count": 12,
      "outputs": [
        {
          "output_type": "stream",
          "name": "stdout",
          "text": [
            "{'name': 'John', 'age': 25, 'country': 'USA'}\n"
          ]
        }
      ]
    },
    {
      "cell_type": "code",
      "source": [
        "# Question 23 :- Write a code to access the value associated with the key \"name\" in the dictionary {'name': 'Alice', 'age': 30}\n",
        "person = {\"name\": \"Alice\", \"age\": 30}\n",
        "print(person[\"name\"])\n"
      ],
      "metadata": {
        "colab": {
          "base_uri": "https://localhost:8080/"
        },
        "id": "WEz1jLyErqBl",
        "outputId": "1e5e08c3-320b-4fa4-ff37-c3b77329587d"
      },
      "execution_count": 13,
      "outputs": [
        {
          "output_type": "stream",
          "name": "stdout",
          "text": [
            "Alice\n"
          ]
        }
      ]
    },
    {
      "cell_type": "code",
      "source": [
        "# Question 24 :- Write a code to remove the key \"age\" from the dictionary {'name': 'Bob', 'age': 22, 'city': 'New York'}\n",
        "person = {\"name\": \"Bob\", \"age\": 22, \"city\": \"New York\"}\n",
        "person.pop(\"age\")\n",
        "print(person)\n"
      ],
      "metadata": {
        "colab": {
          "base_uri": "https://localhost:8080/"
        },
        "id": "TGJocn-Lru9u",
        "outputId": "516cccd9-f8fe-45f2-f707-ee31d394098c"
      },
      "execution_count": 14,
      "outputs": [
        {
          "output_type": "stream",
          "name": "stdout",
          "text": [
            "{'name': 'Bob', 'city': 'New York'}\n"
          ]
        }
      ]
    },
    {
      "cell_type": "code",
      "source": [
        "# Question 25 :- Write a code to check if the key \"city\" exists in the dictionary {'name': 'Alice', 'city': 'Paris'}\n",
        "person = {\"name\": \"Alice\", \"city\": \"Paris\"}\n",
        "print(\"city\" in person)\n"
      ],
      "metadata": {
        "colab": {
          "base_uri": "https://localhost:8080/"
        },
        "id": "cd_GAHVmr1Hj",
        "outputId": "53f160e4-e69b-4112-eecd-0638730008dc"
      },
      "execution_count": 15,
      "outputs": [
        {
          "output_type": "stream",
          "name": "stdout",
          "text": [
            "True\n"
          ]
        }
      ]
    },
    {
      "cell_type": "code",
      "source": [
        "# Question 26 :- Write a code to create a list, a tuple, and a dictionary, and print them all\n",
        "\n",
        "my_list = [1, 2, 3]\n",
        "my_tuple = (4, 5, 6)\n",
        "my_dict = {\"a\": 1, \"b\": 2}\n",
        "print(my_list, my_tuple, my_dict)\n"
      ],
      "metadata": {
        "colab": {
          "base_uri": "https://localhost:8080/"
        },
        "id": "DX0tbdlyr6iR",
        "outputId": "a4f188cc-bc7b-4915-a146-7c27282582dd"
      },
      "execution_count": 16,
      "outputs": [
        {
          "output_type": "stream",
          "name": "stdout",
          "text": [
            "[1, 2, 3] (4, 5, 6) {'a': 1, 'b': 2}\n"
          ]
        }
      ]
    },
    {
      "cell_type": "code",
      "source": [
        "# Question 27 :- Write a code to create a list of 5 random numbers between 1 and 100, sort it in ascending order, and print the\n",
        "#result.(replaced)\n",
        "\n",
        "import random\n",
        "nums = random.sample(range(1, 101), 5)\n",
        "nums.sort()\n",
        "print(nums)\n"
      ],
      "metadata": {
        "colab": {
          "base_uri": "https://localhost:8080/"
        },
        "id": "ehfgqPAXsAY2",
        "outputId": "91461b09-c57a-407d-cb43-5081c1d9ca99"
      },
      "execution_count": 17,
      "outputs": [
        {
          "output_type": "stream",
          "name": "stdout",
          "text": [
            "[33, 43, 48, 55, 98]\n"
          ]
        }
      ]
    },
    {
      "cell_type": "code",
      "source": [
        "# Question 28 :- Write a code to create a list with strings and print the element at the third index\n",
        "\n",
        "words = [\"apple\", \"banana\", \"cherry\", \"date\", \"fig\"]\n",
        "print(words[3])\n"
      ],
      "metadata": {
        "colab": {
          "base_uri": "https://localhost:8080/"
        },
        "id": "qeTkUpQDsILa",
        "outputId": "ae997fdd-7903-4ca7-f681-bee2382dd519"
      },
      "execution_count": 18,
      "outputs": [
        {
          "output_type": "stream",
          "name": "stdout",
          "text": [
            "date\n"
          ]
        }
      ]
    },
    {
      "cell_type": "code",
      "source": [
        "# Question 29 :- Write a code to combine two dictionaries into one and print the result\n",
        "\n",
        "dict1 = {\"a\": 1, \"b\": 2}\n",
        "dict2 = {\"c\": 3, \"d\": 4}\n",
        "dict1.update(dict2)\n",
        "print(dict1)\n"
      ],
      "metadata": {
        "colab": {
          "base_uri": "https://localhost:8080/"
        },
        "id": "Fr5FZlqEscgV",
        "outputId": "26f3e000-78a2-4d04-abf5-e678a9bcffea"
      },
      "execution_count": 19,
      "outputs": [
        {
          "output_type": "stream",
          "name": "stdout",
          "text": [
            "{'a': 1, 'b': 2, 'c': 3, 'd': 4}\n"
          ]
        }
      ]
    },
    {
      "cell_type": "code",
      "source": [
        "# Question 30 :-  Write a code to convert a list of strings into a set\n",
        "\n",
        "my_list = [\"apple\", \"banana\", \"apple\", \"cherry\"]\n",
        "my_set = set(my_list)\n",
        "print(my_set)\n"
      ],
      "metadata": {
        "colab": {
          "base_uri": "https://localhost:8080/"
        },
        "id": "qQe8aMMmshjA",
        "outputId": "17721e46-1401-4def-fadc-f668c096c6d9"
      },
      "execution_count": 20,
      "outputs": [
        {
          "output_type": "stream",
          "name": "stdout",
          "text": [
            "{'banana', 'cherry', 'apple'}\n"
          ]
        }
      ]
    }
  ]
}