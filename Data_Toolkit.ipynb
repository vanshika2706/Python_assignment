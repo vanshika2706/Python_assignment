{
  "nbformat": 4,
  "nbformat_minor": 0,
  "metadata": {
    "colab": {
      "provenance": []
    },
    "kernelspec": {
      "name": "python3",
      "display_name": "Python 3"
    },
    "language_info": {
      "name": "python"
    }
  },
  "cells": [
    {
      "cell_type": "markdown",
      "source": [
        "\n",
        "### **Q1. What is NumPy, and why is it widely used in Python?**\n",
        "\n",
        "NumPy stands for **Numerical Python**. It is one of the most important libraries in Python, mainly used for performing mathematical and scientific calculations. Normally, Python lists can store data, but they are slow and not designed for heavy numerical tasks. NumPy solves this problem by providing a powerful data structure called the **array**, which is faster, more memory-efficient, and allows mathematical operations to be performed on large sets of data with ease. One of the biggest reasons NumPy is widely used is that it supports **vectorized operations**. This means we can apply an operation to an entire array without using loops, which makes the code shorter and faster.\n",
        "\n",
        "For example, in Python lists, if we want to add 2 to every element, we need to write a loop. But in NumPy, we can simply write `array + 2`, and it will automatically add 2 to every element. This makes it very efficient. NumPy is also widely used because it provides many built-in mathematical functions such as trigonometry, statistics, linear algebra, random numbers, and more. It also supports **multidimensional arrays**, which makes it very useful for handling images, signals, and datasets used in machine learning and data science.\n",
        "\n",
        "A simple example:\n",
        "\n",
        "```python\n",
        "import numpy as np\n",
        "arr = np.array([1, 2, 3, 4])\n",
        "print(arr + 5)\n",
        "```\n",
        "\n",
        "Output: `[6 7 8 9]`\n",
        "\n",
        "Here, 5 is added to every element without using a loop.\n",
        "\n",
        "In conclusion, NumPy is widely used in Python because it is **fast, powerful, memory-efficient, and provides advanced mathematical tools**. It is the foundation for many other libraries like Pandas, Scikit-learn, and TensorFlow.\n",
        "\n",
        "---\n",
        "\n",
        "### **Q2. How does broadcasting work in NumPy?**\n",
        "\n",
        "Broadcasting in NumPy is a very powerful concept that allows operations between arrays of different shapes or sizes. Normally, mathematical operations are only possible when two arrays have the same shape. But with broadcasting, NumPy automatically expands the smaller array to match the shape of the larger one without making actual copies. This makes calculations simple and efficient.\n",
        "\n",
        "For example, if we have a 1D array `[1, 2, 3]` and we want to add 5 to every element, NumPy does not require us to create another array of the same shape filled with 5. Instead, broadcasting allows NumPy to “stretch” the value 5 to match the array and perform the operation.\n",
        "\n",
        "A simple example:\n",
        "\n",
        "```python\n",
        "import numpy as np\n",
        "arr = np.array([1, 2, 3])\n",
        "print(arr + 5)\n",
        "```\n",
        "\n",
        "Output: `[6 7 8]`\n",
        "\n",
        "Another example is when we add a column vector to a 2D matrix. Suppose we have a matrix:\n",
        "\n",
        "```\n",
        "[[1, 2, 3],\n",
        " [4, 5, 6]]\n",
        "```\n",
        "\n",
        "and we add `[10, 20]`. NumPy will automatically stretch this vector to match the matrix row-wise and perform the addition.\n",
        "\n",
        "Broadcasting is extremely useful because it saves time, reduces memory usage, and makes the code cleaner. Instead of writing loops, you can just rely on broadcasting to handle operations on arrays of different shapes.\n",
        "\n",
        "In short, broadcasting is NumPy’s smart way of handling operations between arrays of different sizes by “stretching” the smaller array to match the larger one. This is one of the reasons NumPy is so fast and widely used in data science.\n",
        "\n",
        "---\n",
        "\n",
        "### **Q3. What is a Pandas DataFrame?**\n",
        "\n",
        "A Pandas DataFrame is one of the most important data structures in the Python library **Pandas**, which is used for data analysis and manipulation. You can think of a DataFrame as a table, similar to an Excel sheet, with rows and columns. Each column can have a different type of data, like numbers, strings, or dates. This makes it very flexible and useful when working with real-world datasets.\n",
        "\n",
        "A DataFrame is essentially built on top of NumPy arrays, but it provides many more features. You can easily load data from sources like CSV files, Excel sheets, SQL databases, or even directly from the internet. Once data is loaded into a DataFrame, it becomes very easy to clean, filter, group, and analyze.\n",
        "\n",
        "For example:\n",
        "\n",
        "```python\n",
        "import pandas as pd\n",
        "data = {'Name': ['Aman', 'Riya', 'Vanshika'],\n",
        "        'Age': [22, 23, 21],\n",
        "        'City': ['Delhi', 'Mumbai', 'Pune']}\n",
        "df = pd.DataFrame(data)\n",
        "print(df)\n",
        "```\n",
        "\n",
        "Output:\n",
        "\n",
        "```\n",
        "      Name  Age    City\n",
        "0     Aman   22   Delhi\n",
        "1     Riya   23  Mumbai\n",
        "2  Vanshika  21    Pune\n",
        "```\n",
        "\n",
        "As you can see, the DataFrame looks just like a table. Each row has an index (0, 1, 2), and each column has a name.\n",
        "\n",
        "DataFrames are very powerful because they allow quick operations such as filtering rows (`df[df['Age'] > 22]`), calculating statistics (`df['Age'].mean()`), grouping data, and even merging multiple datasets together.\n",
        "\n",
        "In conclusion, a Pandas DataFrame is a table-like data structure that makes working with structured data very easy. It is widely used in data science, machine learning, and business analytics.\n",
        "\n",
        "---\n",
        "\n",
        "### **Q4. Explain the use of the groupby() method in Pandas.**\n",
        "\n",
        "The `groupby()` method in Pandas is used when we want to **group data based on some column values and then perform operations on each group separately**. It is one of the most powerful features of Pandas, often used in data analysis to get summaries and insights from datasets.\n",
        "\n",
        "Think of `groupby()` as dividing your table into smaller groups based on some condition and then applying a function like sum, mean, or count to each group. This is very useful in real-world datasets where we often want to analyze data category-wise.\n",
        "\n",
        "For example, suppose we have a sales dataset:\n",
        "\n",
        "```python\n",
        "import pandas as pd\n",
        "data = {'Category': ['Fruits', 'Fruits', 'Vegetables', 'Vegetables'],\n",
        "        'Sales': [100, 150, 200, 120]}\n",
        "df = pd.DataFrame(data)\n",
        "print(df.groupby('Category')['Sales'].sum())\n",
        "```\n",
        "\n",
        "Output:\n",
        "\n",
        "```\n",
        "Category\n",
        "Fruits        250\n",
        "Vegetables    320\n",
        "```\n",
        "\n",
        "Here, the data was grouped by \"Category\", and then the sales values were summed for each group. This quickly tells us that Fruits had total sales of 250, and Vegetables had 320.\n",
        "\n",
        "The `groupby()` method can also be combined with multiple functions like mean, max, or custom functions. It is extremely useful in business analytics, for example, finding total sales per city, average marks per subject, or the maximum salary per department.\n",
        "\n",
        "In short, `groupby()` is used to **split data into groups, apply functions on those groups, and combine results**. This makes it a key tool for summarizing and analyzing large datasets.\n",
        "\n",
        "---\n",
        "\n",
        "### **Q5. Why is Seaborn preferred for statistical visualizations?**\n",
        "\n",
        "Seaborn is a popular Python library for **statistical data visualization**. It is preferred over basic libraries like Matplotlib because it is simpler to use, looks more professional by default, and provides high-level functions for creating complex visualizations. While Matplotlib requires many lines of code to make a graph visually appealing, Seaborn automatically applies attractive color themes, styles, and layouts, which makes charts look clean and professional.\n",
        "\n",
        "One big advantage of Seaborn is that it integrates very well with Pandas DataFrames. This means you can directly pass a DataFrame column into a Seaborn function without extra work. Seaborn also provides special plots that are directly related to statistics, such as boxplots, violin plots, heatmaps, pairplots, and regression plots. These are extremely helpful in understanding data patterns, distributions, and relationships.\n",
        "\n",
        "For example, creating a boxplot with Seaborn is as simple as:\n",
        "\n",
        "```python\n",
        "import seaborn as sns\n",
        "import pandas as pd\n",
        "data = {'Category': ['A', 'A', 'B', 'B'],\n",
        "        'Values': [4, 5, 7, 8]}\n",
        "df = pd.DataFrame(data)\n",
        "sns.boxplot(x='Category', y='Values', data=df)\n",
        "```\n",
        "\n",
        "This single line will produce a professional boxplot showing the spread of values in each category.\n",
        "\n",
        "Seaborn is preferred because it reduces the coding effort, provides statistical insights visually, and makes graphs easy to interpret. It is widely used in data science and research where statistical analysis is needed.\n",
        "\n",
        "---\n"
      ],
      "metadata": {
        "id": "6qPnLhxB0AiY"
      }
    },
    {
      "cell_type": "markdown",
      "source": [
        "\n",
        "---\n",
        "\n",
        "### **Q6. What are the differences between NumPy arrays and Python lists?**\n",
        "\n",
        "Python lists and NumPy arrays may look similar because both can store multiple values, but they are very different in terms of performance, memory usage, and functionality. A **Python list** is a general-purpose data structure that can store elements of different types (like numbers, strings, or even other lists). This flexibility makes it useful, but it also makes lists slower and less efficient for numerical operations.\n",
        "\n",
        "On the other hand, a **NumPy array** is designed specifically for numerical and scientific calculations. All elements in a NumPy array must be of the same data type (for example, all integers or all floats). Because of this uniformity, NumPy arrays consume less memory and perform operations much faster than lists.\n",
        "\n",
        "For example, if we want to add two lists element-wise, we need to use a loop:\n",
        "\n",
        "```python\n",
        "list1 = [1, 2, 3]\n",
        "list2 = [4, 5, 6]\n",
        "result = [list1[i] + list2[i] for i in range(len(list1))]\n",
        "print(result)  # [5, 7, 9]\n",
        "```\n",
        "\n",
        "But with NumPy arrays, the same can be done in one line:\n",
        "\n",
        "```python\n",
        "import numpy as np\n",
        "arr1 = np.array([1, 2, 3])\n",
        "arr2 = np.array([4, 5, 6])\n",
        "print(arr1 + arr2)  # [5 7 9]\n",
        "```\n",
        "\n",
        "Another difference is slicing. While lists allow slicing, NumPy arrays are much faster and support advanced slicing techniques like multidimensional slicing.\n",
        "\n",
        "In summary:\n",
        "\n",
        "* Lists are flexible but slower.\n",
        "* NumPy arrays are optimized for speed, memory, and numerical operations.\n",
        "\n",
        "That’s why for mathematical or data-related tasks, NumPy arrays are always preferred.\n",
        "\n",
        "---\n",
        "\n",
        "### **Q7. What is a heatmap, and when should it be used?**\n",
        "\n",
        "A **heatmap** is a type of data visualization where values are represented in a matrix format using different colors. The intensity of the color shows the magnitude of the value. Darker or brighter colors represent higher values, while lighter colors represent lower values. This makes it very easy to identify patterns, trends, and relationships within the data.\n",
        "\n",
        "Heatmaps are most commonly used when we are dealing with correlation matrices, large tables of values, or when we want to highlight which areas have higher or lower concentrations. For example, in statistics, a heatmap can be used to visualize correlations between variables. In business, it can be used to see which products sell more in different regions. In biology, heatmaps are often used to show gene expression levels.\n",
        "\n",
        "Example with Seaborn:\n",
        "\n",
        "```python\n",
        "import seaborn as sns\n",
        "import pandas as pd\n",
        "import numpy as np\n",
        "\n",
        "data = np.array([[1, 2, 3], [4, 5, 6], [7, 8, 9]])\n",
        "df = pd.DataFrame(data, columns=[\"A\", \"B\", \"C\"])\n",
        "sns.heatmap(df, annot=True, cmap=\"YlGnBu\")\n",
        "```\n",
        "\n",
        "This will display a heatmap with values from 1 to 9, where colors indicate how small or large the numbers are.\n",
        "\n",
        "Heatmaps are especially useful when we want to quickly find **patterns** in large datasets. For example, in a correlation heatmap, if two variables have a strong relationship, they will be highlighted with a darker color, making it very easy to spot.\n",
        "\n",
        "In short, a heatmap is used whenever we want to represent data values with color intensity to make patterns and comparisons clear at a glance.\n",
        "\n",
        "---\n",
        "\n",
        "### **Q8. What does the term “vectorized operation” mean in NumPy?**\n",
        "\n",
        "In NumPy, a **vectorized operation** means applying an operation to an entire array at once without writing loops. This is one of the key features that makes NumPy much faster than normal Python.\n",
        "\n",
        "In standard Python lists, if you want to add 10 to every element, you would need a loop to go through each element. But in NumPy, you can just write `array + 10`, and it will automatically apply the operation to all elements. This is possible because NumPy uses optimized C code under the hood, which makes operations extremely fast.\n",
        "\n",
        "Example without vectorization (using Python lists):\n",
        "\n",
        "```python\n",
        "numbers = [1, 2, 3, 4]\n",
        "new_list = [x + 10 for x in numbers]\n",
        "print(new_list)  # [11, 12, 13, 14]\n",
        "```\n",
        "\n",
        "Example with vectorization (using NumPy):\n",
        "\n",
        "```python\n",
        "import numpy as np\n",
        "arr = np.array([1, 2, 3, 4])\n",
        "print(arr + 10)  # [11 12 13 14]\n",
        "```\n",
        "\n",
        "The second method is cleaner, shorter, and faster.\n",
        "\n",
        "Vectorized operations are not just for addition but also work with multiplication, division, exponentiation, and even functions like `sin()`, `log()`, etc. For example:\n",
        "\n",
        "```python\n",
        "print(np.sin(arr))  # applies sine function to every element\n",
        "```\n",
        "\n",
        "The main benefit is that vectorized operations reduce code complexity, avoid loops, and provide huge speed improvements, especially for large datasets.\n",
        "\n",
        "In short, vectorized operations in NumPy mean **performing element-wise operations directly on arrays without explicit loops**, making computations efficient and readable.\n",
        "\n",
        "---\n",
        "\n",
        "### **Q9. How does Matplotlib differ from Plotly?**\n",
        "\n",
        "Both Matplotlib and Plotly are popular Python libraries for creating data visualizations, but they are quite different in terms of functionality, style, and usage.\n",
        "\n",
        "**Matplotlib** is one of the oldest and most widely used plotting libraries in Python. It is mainly used for **static visualizations** such as line charts, bar graphs, scatter plots, and histograms. The graphs created with Matplotlib are very customizable, but sometimes require more code to make them look attractive. It is perfect for academic work, research papers, or situations where you just need quick static plots.\n",
        "\n",
        "**Plotly**, on the other hand, is designed for **interactive visualizations**. Charts made with Plotly are not only visually appealing but also allow users to zoom, hover, and click on elements to get more details. Plotly is especially useful in dashboards, business presentations, and web applications because it makes data exploration easy. Another advantage of Plotly is that it can handle complex visualizations like 3D plots, maps, and time-series charts with very little code.\n",
        "\n",
        "Example with Matplotlib:\n",
        "\n",
        "```python\n",
        "import matplotlib.pyplot as plt\n",
        "plt.plot([1, 2, 3], [4, 5, 6])\n",
        "plt.show()\n",
        "```\n",
        "\n",
        "Example with Plotly:\n",
        "\n",
        "```python\n",
        "import plotly.express as px\n",
        "fig = px.line(x=[1, 2, 3], y=[4, 5, 6], title=\"Simple Line Chart\")\n",
        "fig.show()\n",
        "```\n",
        "\n",
        "The Matplotlib chart is static, while the Plotly chart allows zooming and hovering.\n",
        "\n",
        "In summary:\n",
        "\n",
        "* **Matplotlib** → simple, static, customizable, best for research.\n",
        "* **Plotly** → interactive, modern, ideal for dashboards and presentations.\n",
        "\n",
        "---\n",
        "\n",
        "### **Q10. What is the significance of hierarchical indexing in Pandas?**\n",
        "\n",
        "Hierarchical indexing in Pandas, also known as **MultiIndexing**, allows you to have more than one level of index on rows or columns. This is very useful when dealing with complex datasets because it lets you organize and analyze data in multiple dimensions.\n",
        "\n",
        "Normally, a DataFrame has a single index (like row numbers 0, 1, 2). But with hierarchical indexing, we can use multiple keys to represent data. This makes it easier to work with data grouped by more than one category, such as sales data by region and year, or student scores by subject and semester.\n",
        "\n",
        "Example:\n",
        "\n",
        "```python\n",
        "import pandas as pd\n",
        "arrays = [\n",
        "    ['India', 'India', 'USA', 'USA'],\n",
        "    ['2022', '2023', '2022', '2023']\n",
        "]\n",
        "index = pd.MultiIndex.from_arrays(arrays, names=('Country', 'Year'))\n",
        "data = [100, 120, 90, 110]\n",
        "df = pd.DataFrame(data, index=index, columns=['Sales'])\n",
        "print(df)\n",
        "```\n",
        "\n",
        "Output:\n",
        "\n",
        "```\n",
        "              Sales\n",
        "Country Year       \n",
        "India   2022    100\n",
        "        2023    120\n",
        "USA     2022     90\n",
        "        2023    110\n",
        "```\n",
        "\n",
        "Here, we can easily select data like `df.loc['India']` to get all sales for India or `df.loc[('USA', '2022')]` for USA sales in 2022.\n",
        "\n",
        "The significance of hierarchical indexing is that it makes complex datasets more **organized, readable, and easy to filter or slice**. It is especially helpful in time-series data, financial data, or multi-dimensional data.\n",
        "\n",
        "---\n"
      ],
      "metadata": {
        "id": "VC4wUas40o6c"
      }
    },
    {
      "cell_type": "markdown",
      "source": [
        "\n",
        "\n",
        "### **Q11. What is the role of Seaborn’s pairplot() function?**\n",
        "\n",
        "The `pairplot()` function in Seaborn is a very powerful tool used to visualize relationships between multiple variables in a dataset at once. Instead of plotting two variables separately, `pairplot()` creates a grid of plots where each variable is compared with every other variable using scatterplots, and diagonal plots show the distribution of each variable.\n",
        "\n",
        "This is especially useful for **exploratory data analysis (EDA)**, where we want to quickly understand how different features in a dataset are related to each other. For example, if we have a dataset with height, weight, and age of people, a pairplot will create scatterplots comparing height vs weight, height vs age, and weight vs age, all in one figure. On the diagonal, it will show histograms of each variable.\n",
        "\n",
        "Example:\n",
        "\n",
        "```python\n",
        "import seaborn as sns\n",
        "import pandas as pd\n",
        "\n",
        "data = {'Height': [150, 160, 170, 180],\n",
        "        'Weight': [50, 60, 70, 80],\n",
        "        'Age': [20, 25, 30, 35]}\n",
        "df = pd.DataFrame(data)\n",
        "\n",
        "sns.pairplot(df)\n",
        "```\n",
        "\n",
        "This code will generate a grid of scatterplots showing the relationships between Height, Weight, and Age.\n",
        "\n",
        "The main role of `pairplot()` is to give a **quick overview of possible correlations**. If two variables are strongly related, you will see a clear pattern in their scatterplot. If not, the points will be scattered randomly.\n",
        "\n",
        "In short, `pairplot()` is widely used because it provides a **fast, simple, and visual way to study relationships between multiple variables** in a dataset. It is extremely helpful in the early stages of data analysis.\n",
        "\n",
        "---\n",
        "\n",
        "### **Q12. What is the purpose of the describe() function in Pandas?**\n",
        "\n",
        "The `describe()` function in Pandas is used to generate quick **summary statistics** of a dataset. When working with large datasets, it is often difficult to understand the distribution and nature of the data just by looking at raw numbers. The `describe()` function helps by giving key statistical measures such as count, mean, minimum, maximum, standard deviation, and quartiles for each column.\n",
        "\n",
        "This is very helpful for **exploratory data analysis**, as it gives a snapshot of the dataset’s characteristics.\n",
        "\n",
        "Example:\n",
        "\n",
        "```python\n",
        "import pandas as pd\n",
        "data = {'Age': [22, 25, 30, 28, 35],\n",
        "        'Salary': [30000, 35000, 40000, 45000, 50000]}\n",
        "df = pd.DataFrame(data)\n",
        "print(df.describe())\n",
        "```\n",
        "\n",
        "Output:\n",
        "\n",
        "```\n",
        "             Age        Salary\n",
        "count   5.000000      5.000000\n",
        "mean   28.000000  40000.000000\n",
        "std     4.949747   7905.694150\n",
        "min    22.000000  30000.000000\n",
        "25%    25.000000  35000.000000\n",
        "50%    28.000000  40000.000000\n",
        "75%    30.000000  45000.000000\n",
        "max    35.000000  50000.000000\n",
        "```\n",
        "\n",
        "From this table, we can see the average age is 28, the minimum is 22, the maximum is 35, and the data spread (standard deviation) is around 4.95. Similarly, for salary, the average is 40,000, ranging between 30,000 and 50,000.\n",
        "\n",
        "The purpose of `describe()` is to **quickly summarize data and provide insights about central tendency, spread, and range**. It helps detect outliers, skewness, or missing values, making it one of the most used functions in Pandas.\n",
        "\n",
        "---\n",
        "\n",
        "### **Q13. Why is handling missing data important in Pandas?**\n",
        "\n",
        "Handling missing data is one of the most important tasks in data analysis because most real-world datasets are incomplete. Missing values can occur due to various reasons, such as errors during data collection, incomplete surveys, or technical issues. If we do not handle missing data properly, it can lead to inaccurate results, wrong predictions, or errors in analysis.\n",
        "\n",
        "Pandas provides several methods to handle missing data. We can check for missing values using `isnull()` or `isna()`. Once identified, there are three common ways to handle them:\n",
        "\n",
        "1. **Removing missing values** – using `dropna()` if the missing data is very small and does not affect the dataset.\n",
        "2. **Filling missing values** – using `fillna()` to replace missing data with a specific value like mean, median, or mode.\n",
        "3. **Interpolation** – estimating missing values based on other values in the dataset.\n",
        "\n",
        "Example:\n",
        "\n",
        "```python\n",
        "import pandas as pd\n",
        "data = {'Name': ['Aman', 'Riya', 'Vanshika'],\n",
        "        'Age': [25, None, 22]}\n",
        "df = pd.DataFrame(data)\n",
        "\n",
        "df['Age'].fillna(df['Age'].mean(), inplace=True)\n",
        "print(df)\n",
        "```\n",
        "\n",
        "Output:\n",
        "\n",
        "```\n",
        "      Name   Age\n",
        "0     Aman  25.0\n",
        "1     Riya  23.5\n",
        "2  Vanshika 22.0\n",
        "```\n",
        "\n",
        "Here, the missing age was replaced with the mean value (23.5).\n",
        "\n",
        "Handling missing data is important because ignoring it can cause incorrect averages, biased results, or even program crashes. In machine learning, models trained on datasets with missing values perform poorly.\n",
        "\n",
        "In short, missing data must be handled carefully in Pandas to maintain **accuracy, reliability, and quality of analysis**.\n",
        "\n",
        "---\n",
        "\n",
        "### **Q14. What are the benefits of using Plotly for data visualization?**\n",
        "\n",
        "Plotly is a modern Python library for creating beautiful, interactive visualizations. It offers several benefits that make it popular among data scientists, analysts, and business professionals.\n",
        "\n",
        "One of the biggest benefits of Plotly is its **interactivity**. Unlike Matplotlib, which produces static graphs, Plotly allows users to zoom in, hover over data points, and click to see details. This makes it easier to explore and understand data. Another benefit is that Plotly requires **very little code** to create complex visualizations. You can generate line charts, bar plots, scatter plots, pie charts, maps, and even 3D visualizations with just a few lines.\n",
        "\n",
        "Example:\n",
        "\n",
        "```python\n",
        "import plotly.express as px\n",
        "fig = px.bar(x=[\"Apple\", \"Banana\", \"Orange\"], y=[10, 20, 15], title=\"Fruit Sales\")\n",
        "fig.show()\n",
        "```\n",
        "\n",
        "This creates an interactive bar chart where you can hover over the bars to see exact values.\n",
        "\n",
        "Plotly also works very well for creating **dashboards and web applications**. It integrates with tools like Dash, making it perfect for business presentations. Another advantage is that Plotly visualizations are **visually appealing by default**, so you don’t need to spend extra time styling them.\n",
        "\n",
        "Benefits of Plotly include:\n",
        "\n",
        "* Interactive charts (zoom, hover, click).\n",
        "* Easy to use with minimal code.\n",
        "* Supports advanced visualizations like 3D and maps.\n",
        "* Integrates with dashboards and web apps.\n",
        "* Professional-looking visuals.\n",
        "\n",
        "In summary, Plotly is preferred when we need **interactive, modern, and engaging data visualizations**, especially for dashboards and business use.\n",
        "\n",
        "---\n",
        "\n",
        "### **Q15. How does NumPy handle multidimensional arrays?**\n",
        "\n",
        "NumPy is designed to handle not just 1D arrays (like lists) but also **multidimensional arrays**, which are very common in scientific computing, images, and machine learning. A multidimensional array is also called an **ndarray** in NumPy, where “n” can be any number of dimensions.\n",
        "\n",
        "* A 1D array looks like a simple list: `[1, 2, 3]`.\n",
        "* A 2D array looks like a table or matrix:\n",
        "\n",
        "  ```\n",
        "  [[1, 2, 3],\n",
        "   [4, 5, 6]]\n",
        "  ```\n",
        "* A 3D array can be thought of as a cube of numbers.\n",
        "\n",
        "NumPy makes it easy to create and manipulate such arrays. For example:\n",
        "\n",
        "```python\n",
        "import numpy as np\n",
        "arr = np.array([[1, 2, 3], [4, 5, 6]])\n",
        "print(arr.shape)   # (2, 3)\n",
        "```\n",
        "\n",
        "Here, the array has 2 rows and 3 columns.\n",
        "\n",
        "NumPy allows powerful operations on multidimensional arrays, such as slicing, reshaping, transposing, and broadcasting. For example, you can easily select rows, columns, or even specific elements from a matrix. You can also perform mathematical operations directly on the array without loops.\n",
        "\n",
        "Example:\n",
        "\n",
        "```python\n",
        "print(arr + 10)\n",
        "```\n",
        "\n",
        "Output:\n",
        "\n",
        "```\n",
        "[[11 12 13]\n",
        " [14 15 16]]\n",
        "```\n",
        "\n",
        "This adds 10 to every element in the 2D array.\n",
        "\n",
        "Handling multidimensional arrays is one of the main reasons NumPy is so important. It provides efficient storage, fast computations, and easy manipulation of data in any number of dimensions. This is why it is heavily used in image processing, linear algebra, and deep learning.\n",
        "\n",
        "---\n",
        "\n"
      ],
      "metadata": {
        "id": "LStFjoy21DYt"
      }
    },
    {
      "cell_type": "markdown",
      "source": [
        "\n",
        "\n",
        "### **Q16. What is the role of Bokeh in data visualization?**\n",
        "\n",
        "Bokeh is a Python library that is widely used for creating interactive and visually appealing data visualizations. The main role of Bokeh is to help users explore data in a way that is not only beautiful but also dynamic, which means you can interact with the charts, zoom in, filter, or hover over points to see details. This makes Bokeh very powerful when dealing with large datasets, dashboards, or web-based applications. Unlike static libraries such as Matplotlib, Bokeh focuses on making plots interactive and easily shareable on web browsers. For example, if you are analyzing stock market prices, Bokeh can create a line chart where you can zoom in on specific dates, see exact values when hovering, or even filter data by selecting checkboxes. Another strength of Bokeh is its integration with Pandas and NumPy, which makes it convenient to use with existing datasets. It can handle scatter plots, bar charts, heatmaps, network graphs, and even real-time streaming data. Bokeh also allows you to export your visualizations as standalone HTML files, meaning you don’t need extra software to share them—just open the file in a browser. The library is also highly customizable, so developers can add widgets like sliders, dropdowns, or buttons to create interactive dashboards. This is especially useful in business analytics, scientific research, or data reporting, where stakeholders want to explore the data themselves instead of looking at static images. In short, the role of Bokeh is to bridge the gap between simple Python data analysis and rich, web-ready visualizations. Its interactivity makes data analysis more engaging and helps uncover insights that might be missed in static graphs.\n",
        "\n",
        "---\n",
        "\n",
        "### **Q17. Explain the difference between apply() and map() in Pandas.**\n",
        "\n",
        "In Pandas, both `apply()` and `map()` are used to apply a function to data, but they differ in how they work and where they can be used. The `map()` function is usually used with Pandas Series (which is basically a single column of data). It applies a function element by element to each value in the Series. For example, if you have a column of numbers and you want to square each number, you can use `map()`. Suppose `s = pd.Series([1, 2, 3])`, then `s.map(lambda x: x**2)` will give `[1, 4, 9]`. The key point is that `map()` works only on one-dimensional data (Series). On the other hand, `apply()` is more flexible and can be used both on Series and DataFrames. When used with a Series, it works similarly to `map()`. But when applied to a DataFrame, it can operate across rows or columns depending on the `axis` parameter. For example, if you have a DataFrame of student marks and you want to calculate the average score of each student across subjects, you can use `df.apply(np.mean, axis=1)`. Another difference is that `apply()` can work with more complex functions, while `map()` is best for simple element-wise operations. In simple terms: use `map()` for simple transformations on a single column, and use `apply()` when you need more control, especially across rows and columns. For example, `map()` is like saying “apply this formula to each item in a list,” while `apply()` is like saying “apply this rule to a whole row or column.” To summarize, `map()` is simpler and limited to Series, while `apply()` is more powerful and works with both Series and DataFrames.\n",
        "\n",
        "---\n",
        "\n",
        "### **Q18. What are some advanced features of NumPy?**\n",
        "\n",
        "NumPy is a core library in Python for numerical computing, and apart from basic arrays and mathematical operations, it offers several advanced features that make it very powerful. One advanced feature is broadcasting, which allows NumPy to perform operations on arrays of different shapes without explicitly writing loops. For example, if you have a 3x3 matrix and you add a single row vector, NumPy will automatically expand it to match the matrix shape. Another advanced feature is its ability to handle multidimensional arrays, which are very useful in scientific computing and machine learning. NumPy also provides powerful linear algebra functions such as matrix multiplication, eigenvalues, and singular value decomposition, which are essential for advanced mathematical modeling. Additionally, NumPy offers fast Fourier transforms (FFT) for signal processing and random number generation for simulations and statistical analysis. Memory efficiency is another strength: NumPy arrays take up less space compared to Python lists, and operations on them are executed in C under the hood, which makes them extremely fast. Another advanced feature is array slicing and indexing, including boolean indexing and fancy indexing, which let you filter or modify specific elements in flexible ways. For instance, you can select all numbers greater than 5 in an array using a simple condition like `arr[arr > 5]`. NumPy also supports integration with other libraries like Pandas, SciPy, and machine learning frameworks such as TensorFlow and PyTorch. These integrations make it the foundation of the Python data science ecosystem. In summary, advanced features like broadcasting, multidimensional support, linear algebra, FFT, random number generation, and efficient indexing make NumPy a must-have tool for handling complex data and numerical tasks.\n",
        "\n",
        "---\n",
        "\n",
        "### **Q19. How does Pandas simplify time series analysis?**\n",
        "\n",
        "Pandas is one of the most powerful libraries in Python for handling time series data, which is data indexed by dates or times. It simplifies time series analysis by providing built-in functions and structures that make working with dates and times very easy. One of its key features is the `DatetimeIndex`, which allows you to treat dates as an index for your data. For example, if you have stock prices recorded daily, you can easily set the date column as the index, making it simple to filter or slice data by date. Pandas also makes it easy to perform resampling, which means changing the frequency of your data. For instance, you can convert daily sales data into monthly totals using `resample('M').sum()`. Similarly, you can go from yearly to quarterly or hourly to daily, depending on the analysis. Another advantage is handling missing dates. If some days are missing from your dataset, Pandas can fill in gaps using methods like forward filling or interpolation. Time shifting is another useful feature, where you can move data forward or backward in time, which is useful for comparing today’s data with yesterday’s or for lag analysis. Pandas also provides rolling window operations, such as calculating moving averages or rolling sums, which are widely used in financial and scientific data analysis. For example, a 7-day moving average of COVID-19 cases can be easily calculated to smooth out daily fluctuations. Additionally, Pandas integrates well with Matplotlib and Seaborn, so plotting time series graphs becomes straightforward. Overall, Pandas simplifies time series analysis by making date handling, resampling, shifting, rolling calculations, and visualization easy, allowing analysts to focus on insights instead of manual data handling.\n",
        "\n",
        "---\n",
        "\n",
        "### **Q20. What is the role of a pivot table in Pandas?**\n",
        "\n",
        "In Pandas, a pivot table is a very useful tool for summarizing and analyzing data. The main role of a pivot table is to transform large and detailed datasets into a more structured and easy-to-read format. It allows you to group data based on one or more keys and then perform aggregations such as sums, averages, or counts. For example, if you have a dataset of sales records containing columns like “Region,” “Product,” and “Sales,” you can create a pivot table to quickly see the total sales for each product in each region. This gives you a clear and compact view without manually writing loops or complicated code. The function used in Pandas is `pivot_table()`, which takes parameters like the data, the index (rows), the columns, and the values you want to aggregate. For instance: `pd.pivot_table(df, index='Region', columns='Product', values='Sales', aggfunc='sum')` would give a table with regions as rows, products as columns, and sales summed up as values. Pivot tables are especially helpful in business analysis, where you need to summarize performance by category, time, or geography. Another advantage is flexibility: you can choose different aggregation functions such as mean, median, or even custom functions. Pivot tables also handle missing data well by filling in gaps with default values. In short, the role of a pivot table in Pandas is to make data exploration and summarization quick and efficient, turning raw data into meaningful insights with very little code. It helps analysts answer questions like “Which region performed the best?” or “Which product sold the most?” in seconds.\n",
        "\n",
        "---\n",
        "\n",
        "### **Q21. Why is NumPy’s array slicing faster than Python’s list slicing?**\n",
        "\n",
        "NumPy’s array slicing is faster than Python’s list slicing because NumPy is implemented in optimized C code, while Python lists are more general and flexible but slower. NumPy arrays are stored in continuous blocks of memory, which means operations like slicing or accessing elements can be done very quickly because the memory layout is predictable. In contrast, Python lists are more like collections of pointers to objects scattered in memory, so slicing requires creating new references, which takes more time. Another reason is that NumPy arrays are homogeneous, meaning all elements are of the same data type, such as integers or floats. This uniformity allows NumPy to perform vectorized operations directly at the hardware level, without looping through each element in Python. For example, slicing a NumPy array of size 1 million and adding 5 to each element is almost instantaneous, while doing the same with Python lists takes much longer because Python loops are slower. Also, NumPy slicing does not create copies by default; instead, it creates a “view” of the original data. This means slicing is more memory-efficient and faster, as it avoids unnecessary duplication of data. On the other hand, Python list slicing always creates a new list, which consumes more memory and time. To put it simply, NumPy slicing is like cutting out a reference from a neatly arranged spreadsheet, while Python slicing is like creating a whole new sheet with copied values. For data science, where performance matters, this speed advantage is one of the main reasons why NumPy is preferred over lists for large datasets.\n",
        "\n",
        "---\n",
        "\n",
        "### **Q22. What are some common use cases for Seaborn?**\n",
        "\n",
        "Seaborn is a popular Python library for data visualization, and it is widely used because it makes creating beautiful and informative charts very simple. Some common use cases of Seaborn include exploring relationships between variables, visualizing distributions, and making statistical plots. For example, one common use is creating scatter plots to see how two variables relate, such as plotting “study hours vs exam score” to check if more study hours improve performance. Another common use is distribution plots, such as histograms and KDE plots, which show how data is spread out. For instance, you can quickly see whether student marks are normally distributed or skewed. Seaborn also provides boxplots and violin plots, which are useful for comparing categories and spotting outliers in the data. For example, comparing salaries across different job roles. Pair plots are another powerful feature of Seaborn. With just one command, you can visualize all pairwise relationships in a dataset, which is great for exploring before building machine learning models. Heatmaps are also a common use case, often used for showing correlations between variables. For example, in a dataset with many numerical columns, a heatmap can show which variables are strongly related. Seaborn is also widely used in time series analysis and categorical data visualization. Additionally, it integrates perfectly with Pandas DataFrames, making it easy to pass data directly into functions without much preprocessing. In short, common use cases for Seaborn include scatter plots, distribution plots, categorical comparisons, pair plots, and heatmaps, all aimed at understanding data patterns quickly and beautifully.\n",
        "\n",
        "---\n",
        "\n"
      ],
      "metadata": {
        "id": "PwIODvHw1cG1"
      }
    },
    {
      "cell_type": "markdown",
      "source": [
        "# Practical"
      ],
      "metadata": {
        "id": "48Z-qdGI3UoL"
      }
    },
    {
      "cell_type": "code",
      "source": [
        "# Question 1 :-  How do you create a 2D NumPy array and calculate the sum of each row\n",
        "import numpy as np\n",
        "\n",
        "arr = np.array([[1, 2, 3], [4, 5, 6], [7, 8, 9]])\n",
        "row_sum = np.sum(arr, axis=1)\n",
        "print(\"Array:\\n\", arr)\n",
        "print(\"Row sums:\", row_sum)\n"
      ],
      "metadata": {
        "colab": {
          "base_uri": "https://localhost:8080/"
        },
        "id": "FFKzbakq2gAn",
        "outputId": "c89b7387-f603-4f83-d3e5-40cc83a628df"
      },
      "execution_count": 1,
      "outputs": [
        {
          "output_type": "stream",
          "name": "stdout",
          "text": [
            "Array:\n",
            " [[1 2 3]\n",
            " [4 5 6]\n",
            " [7 8 9]]\n",
            "Row sums: [ 6 15 24]\n"
          ]
        }
      ]
    },
    {
      "cell_type": "code",
      "source": [
        "# Question 2 :- A Write a Pandas script to find the mean of a specific column in a DataFrame\n",
        "\n",
        "import pandas as pd\n",
        "\n",
        "data = {'Marks': [80, 90, 75, 60, 85]}\n",
        "df = pd.DataFrame(data)\n",
        "print(\"Mean of Marks:\", df['Marks'].mean())\n"
      ],
      "metadata": {
        "colab": {
          "base_uri": "https://localhost:8080/"
        },
        "id": "uCiJvtxN3aLI",
        "outputId": "db38fc14-b207-4521-e5a0-1384c4fd92f9"
      },
      "execution_count": 2,
      "outputs": [
        {
          "output_type": "stream",
          "name": "stdout",
          "text": [
            "Mean of Marks: 78.0\n"
          ]
        }
      ]
    },
    {
      "cell_type": "code",
      "source": [
        "# Question 3 :- Create a scatter plot using Matplotlib\n",
        "\n",
        "import matplotlib.pyplot as plt\n",
        "\n",
        "x = [1, 2, 3, 4, 5]\n",
        "y = [5, 7, 8, 7, 6]\n",
        "plt.scatter(x, y)\n",
        "plt.xlabel(\"X-axis\")\n",
        "plt.ylabel(\"Y-axis\")\n",
        "plt.title(\"Scatter Plot\")\n",
        "plt.show()\n"
      ],
      "metadata": {
        "colab": {
          "base_uri": "https://localhost:8080/",
          "height": 472
        },
        "id": "5BNzxkkW3pKZ",
        "outputId": "42afff48-ab82-45e7-d2a3-52e84fa284e1"
      },
      "execution_count": 3,
      "outputs": [
        {
          "output_type": "display_data",
          "data": {
            "text/plain": [
              "<Figure size 640x480 with 1 Axes>"
            ],
            "image/png": "[encoded data removed]"
          },
          "metadata": {}
        }
      ]
    },
    {
      "cell_type": "code",
      "source": [
        "# Question 4 :- How do you calculate the correlation matrix using Seaborn and visualize it with a heatmap\n",
        "import seaborn as sns\n",
        "import pandas as pd\n",
        "import matplotlib.pyplot as plt\n",
        "\n",
        "df = pd.DataFrame({\n",
        "    'A': [1, 2, 3, 4, 5],\n",
        "    'B': [5, 4, 3, 2, 1],\n",
        "    'C': [2, 3, 4, 5, 6]\n",
        "})\n",
        "\n",
        "corr = df.corr()\n",
        "sns.heatmap(corr, annot=True, cmap='coolwarm')\n",
        "plt.show()\n"
      ],
      "metadata": {
        "colab": {
          "base_uri": "https://localhost:8080/",
          "height": 435
        },
        "id": "pOMpsAh532ib",
        "outputId": "d6eecba0-7c38-47f1-c213-3d71ea132536"
      },
      "execution_count": 4,
      "outputs": [
        {
          "output_type": "display_data",
          "data": {
            "text/plain": [
              "<Figure size 640x480 with 2 Axes>"
            ],
            "image/png": "[encoded data removed]"
          },
          "metadata": {}
        }
      ]
    },
    {
      "cell_type": "code",
      "source": [
        "# Question 5 :- A Generate a bar plot using Plotly\n",
        "import plotly.express as px\n",
        "\n",
        "data = {'Names': ['A', 'B', 'C', 'D'], 'Scores': [10, 20, 30, 40]}\n",
        "fig = px.bar(data, x='Names', y='Scores', title=\"Bar Plot\")\n",
        "fig.show()\n"
      ],
      "metadata": {
        "colab": {
          "base_uri": "https://localhost:8080/",
          "height": 542
        },
        "id": "fEt0icpN4DCD",
        "outputId": "4ec07442-ba63-4518-c4c7-da23142ad68e"
      },
      "execution_count": 5,
      "outputs": [
        {
          "output_type": "display_data",
          "data": {
            "text/html": [
              "<html>\n",
              "<head><meta charset=\"utf-8\" /></head>\n",
              "<body>\n",
              "    <div>            <script src=\"https://cdnjs.cloudflare.com/ajax/libs/mathjax/2.7.5/MathJax.js?config=TeX-AMS-MML_SVG\"></script><script type=\"text/javascript\">if (window.MathJax && window.MathJax.Hub && window.MathJax.Hub.Config) {window.MathJax.Hub.Config({SVG: {font: \"STIX-Web\"}});}</script>                <script type=\"text/javascript\">window.PlotlyConfig = {MathJaxConfig: 'local'};</script>\n",
              "        <script charset=\"utf-8\" src=\"https://cdn.plot.ly/plotly-2.35.2.min.js\"></script>                <div id=\"e4c8fb70-17cc-4d52-b759-9aec12cb1351\" class=\"plotly-graph-div\" style=\"height:525px; width:100%;\"></div>            <script type=\"text/javascript\">                                    window.PLOTLYENV=window.PLOTLYENV || {};                                    if (document.getElementById(\"e4c8fb70-17cc-4d52-b759-9aec12cb1351\")) {                    Plotly.newPlot(                        \"e4c8fb70-17cc-4d52-b759-9aec12cb1351\",                        [{\"alignmentgroup\":\"True\",\"hovertemplate\":\"Names=%{x}\\u003cbr\\u003eScores=%{y}\\u003cextra\\u003e\\u003c\\u002fextra\\u003e\",\"legendgroup\":\"\",\"marker\":{\"color\":\"#636efa\",\"pattern\":{\"shape\":\"\"}},\"name\":\"\",\"offsetgroup\":\"\",\"orientation\":\"v\",\"showlegend\":false,\"textposition\":\"auto\",\"x\":[\"A\",\"B\",\"C\",\"D\"],\"xaxis\":\"x\",\"y\":[10,20,30,40],\"yaxis\":\"y\",\"type\":\"bar\"}],                        {\"template\":{\"data\":{\"histogram2dcontour\":[{\"type\":\"histogram2dcontour\",\"colorbar\":{\"outlinewidth\":0,\"ticks\":\"\"},\"colorscale\":[[0.0,\"#0d0887\"],[0.1111111111111111,\"#46039f\"],[0.2222222222222222,\"#7201a8\"],[0.3333333333333333,\"#9c179e\"],[0.4444444444444444,\"#bd3786\"],[0.5555555555555556,\"#d8576b\"],[0.6666666666666666,\"#ed7953\"],[0.7777777777777778,\"#fb9f3a\"],[0.8888888888888888,\"#fdca26\"],[1.0,\"#f0f921\"]]}],\"choropleth\":[{\"type\":\"choropleth\",\"colorbar\":{\"outlinewidth\":0,\"ticks\":\"\"}}],\"histogram2d\":[{\"type\":\"histogram2d\",\"colorbar\":{\"outlinewidth\":0,\"ticks\":\"\"},\"colorscale\":[[0.0,\"#0d0887\"],[0.1111111111111111,\"#46039f\"],[0.2222222222222222,\"#7201a8\"],[0.3333333333333333,\"#9c179e\"],[0.4444444444444444,\"#bd3786\"],[0.5555555555555556,\"#d8576b\"],[0.6666666666666666,\"#ed7953\"],[0.7777777777777778,\"#fb9f3a\"],[0.8888888888888888,\"#fdca26\"],[1.0,\"#f0f921\"]]}],\"heatmap\":[{\"type\":\"heatmap\",\"colorbar\":{\"outlinewidth\":0,\"ticks\":\"\"},\"colorscale\":[[0.0,\"#0d0887\"],[0.1111111111111111,\"#46039f\"],[0.2222222222222222,\"#7201a8\"],[0.3333333333333333,\"#9c179e\"],[0.4444444444444444,\"#bd3786\"],[0.5555555555555556,\"#d8576b\"],[0.6666666666666666,\"#ed7953\"],[0.7777777777777778,\"#fb9f3a\"],[0.8888888888888888,\"#fdca26\"],[1.0,\"#f0f921\"]]}],\"heatmapgl\":[{\"type\":\"heatmapgl\",\"colorbar\":{\"outlinewidth\":0,\"ticks\":\"\"},\"colorscale\":[[0.0,\"#0d0887\"],[0.1111111111111111,\"#46039f\"],[0.2222222222222222,\"#7201a8\"],[0.3333333333333333,\"#9c179e\"],[0.4444444444444444,\"#bd3786\"],[0.5555555555555556,\"#d8576b\"],[0.6666666666666666,\"#ed7953\"],[0.7777777777777778,\"#fb9f3a\"],[0.8888888888888888,\"#fdca26\"],[1.0,\"#f0f921\"]]}],\"contourcarpet\":[{\"type\":\"contourcarpet\",\"colorbar\":{\"outlinewidth\":0,\"ticks\":\"\"}}],\"contour\":[{\"type\":\"contour\",\"colorbar\":{\"outlinewidth\":0,\"ticks\":\"\"},\"colorscale\":[[0.0,\"#0d0887\"],[0.1111111111111111,\"#46039f\"],[0.2222222222222222,\"#7201a8\"],[0.3333333333333333,\"#9c179e\"],[0.4444444444444444,\"#bd3786\"],[0.5555555555555556,\"#d8576b\"],[0.6666666666666666,\"#ed7953\"],[0.7777777777777778,\"#fb9f3a\"],[0.8888888888888888,\"#fdca26\"],[1.0,\"#f0f921\"]]}],\"surface\":[{\"type\":\"surface\",\"colorbar\":{\"outlinewidth\":0,\"ticks\":\"\"},\"colorscale\":[[0.0,\"#0d0887\"],[0.1111111111111111,\"#46039f\"],[0.2222222222222222,\"#7201a8\"],[0.3333333333333333,\"#9c179e\"],[0.4444444444444444,\"#bd3786\"],[0.5555555555555556,\"#d8576b\"],[0.6666666666666666,\"#ed7953\"],[0.7777777777777778,\"#fb9f3a\"],[0.8888888888888888,\"#fdca26\"],[1.0,\"#f0f921\"]]}],\"mesh3d\":[{\"type\":\"mesh3d\",\"colorbar\":{\"outlinewidth\":0,\"ticks\":\"\"}}],\"scatter\":[{\"fillpattern\":{\"fillmode\":\"overlay\",\"size\":10,\"solidity\":0.2},\"type\":\"scatter\"}],\"parcoords\":[{\"type\":\"parcoords\",\"line\":{\"colorbar\":{\"outlinewidth\":0,\"ticks\":\"\"}}}],\"scatterpolargl\":[{\"type\":\"scatterpolargl\",\"marker\":{\"colorbar\":{\"outlinewidth\":0,\"ticks\":\"\"}}}],\"bar\":[{\"error_x\":{\"color\":\"#2a3f5f\"},\"error_y\":{\"color\":\"#2a3f5f\"},\"marker\":{\"line\":{\"color\":\"#E5ECF6\",\"width\":0.5},\"pattern\":{\"fillmode\":\"overlay\",\"size\":10,\"solidity\":0.2}},\"type\":\"bar\"}],\"scattergeo\":[{\"type\":\"scattergeo\",\"marker\":{\"colorbar\":{\"outlinewidth\":0,\"ticks\":\"\"}}}],\"scatterpolar\":[{\"type\":\"scatterpolar\",\"marker\":{\"colorbar\":{\"outlinewidth\":0,\"ticks\":\"\"}}}],\"histogram\":[{\"marker\":{\"pattern\":{\"fillmode\":\"overlay\",\"size\":10,\"solidity\":0.2}},\"type\":\"histogram\"}],\"scattergl\":[{\"type\":\"scattergl\",\"marker\":{\"colorbar\":{\"outlinewidth\":0,\"ticks\":\"\"}}}],\"scatter3d\":[{\"type\":\"scatter3d\",\"line\":{\"colorbar\":{\"outlinewidth\":0,\"ticks\":\"\"}},\"marker\":{\"colorbar\":{\"outlinewidth\":0,\"ticks\":\"\"}}}],\"scattermapbox\":[{\"type\":\"scattermapbox\",\"marker\":{\"colorbar\":{\"outlinewidth\":0,\"ticks\":\"\"}}}],\"scatterternary\":[{\"type\":\"scatterternary\",\"marker\":{\"colorbar\":{\"outlinewidth\":0,\"ticks\":\"\"}}}],\"scattercarpet\":[{\"type\":\"scattercarpet\",\"marker\":{\"colorbar\":{\"outlinewidth\":0,\"ticks\":\"\"}}}],\"carpet\":[{\"aaxis\":{\"endlinecolor\":\"#2a3f5f\",\"gridcolor\":\"white\",\"linecolor\":\"white\",\"minorgridcolor\":\"white\",\"startlinecolor\":\"#2a3f5f\"},\"baxis\":{\"endlinecolor\":\"#2a3f5f\",\"gridcolor\":\"white\",\"linecolor\":\"white\",\"minorgridcolor\":\"white\",\"startlinecolor\":\"#2a3f5f\"},\"type\":\"carpet\"}],\"table\":[{\"cells\":{\"fill\":{\"color\":\"#EBF0F8\"},\"line\":{\"color\":\"white\"}},\"header\":{\"fill\":{\"color\":\"#C8D4E3\"},\"line\":{\"color\":\"white\"}},\"type\":\"table\"}],\"barpolar\":[{\"marker\":{\"line\":{\"color\":\"#E5ECF6\",\"width\":0.5},\"pattern\":{\"fillmode\":\"overlay\",\"size\":10,\"solidity\":0.2}},\"type\":\"barpolar\"}],\"pie\":[{\"automargin\":true,\"type\":\"pie\"}]},\"layout\":{\"autotypenumbers\":\"strict\",\"colorway\":[\"#636efa\",\"#EF553B\",\"#00cc96\",\"#ab63fa\",\"#FFA15A\",\"#19d3f3\",\"#FF6692\",\"#B6E880\",\"#FF97FF\",\"#FECB52\"],\"font\":{\"color\":\"#2a3f5f\"},\"hovermode\":\"closest\",\"hoverlabel\":{\"align\":\"left\"},\"paper_bgcolor\":\"white\",\"plot_bgcolor\":\"#E5ECF6\",\"polar\":{\"bgcolor\":\"#E5ECF6\",\"angularaxis\":{\"gridcolor\":\"white\",\"linecolor\":\"white\",\"ticks\":\"\"},\"radialaxis\":{\"gridcolor\":\"white\",\"linecolor\":\"white\",\"ticks\":\"\"}},\"ternary\":{\"bgcolor\":\"#E5ECF6\",\"aaxis\":{\"gridcolor\":\"white\",\"linecolor\":\"white\",\"ticks\":\"\"},\"baxis\":{\"gridcolor\":\"white\",\"linecolor\":\"white\",\"ticks\":\"\"},\"caxis\":{\"gridcolor\":\"white\",\"linecolor\":\"white\",\"ticks\":\"\"}},\"coloraxis\":{\"colorbar\":{\"outlinewidth\":0,\"ticks\":\"\"}},\"colorscale\":{\"sequential\":[[0.0,\"#0d0887\"],[0.1111111111111111,\"#46039f\"],[0.2222222222222222,\"#7201a8\"],[0.3333333333333333,\"#9c179e\"],[0.4444444444444444,\"#bd3786\"],[0.5555555555555556,\"#d8576b\"],[0.6666666666666666,\"#ed7953\"],[0.7777777777777778,\"#fb9f3a\"],[0.8888888888888888,\"#fdca26\"],[1.0,\"#f0f921\"]],\"sequentialminus\":[[0.0,\"#0d0887\"],[0.1111111111111111,\"#46039f\"],[0.2222222222222222,\"#7201a8\"],[0.3333333333333333,\"#9c179e\"],[0.4444444444444444,\"#bd3786\"],[0.5555555555555556,\"#d8576b\"],[0.6666666666666666,\"#ed7953\"],[0.7777777777777778,\"#fb9f3a\"],[0.8888888888888888,\"#fdca26\"],[1.0,\"#f0f921\"]],\"diverging\":[[0,\"#8e0152\"],[0.1,\"#c51b7d\"],[0.2,\"#de77ae\"],[0.3,\"#f1b6da\"],[0.4,\"#fde0ef\"],[0.5,\"#f7f7f7\"],[0.6,\"#e6f5d0\"],[0.7,\"#b8e186\"],[0.8,\"#7fbc41\"],[0.9,\"#4d9221\"],[1,\"#276419\"]]},\"xaxis\":{\"gridcolor\":\"white\",\"linecolor\":\"white\",\"ticks\":\"\",\"title\":{\"standoff\":15},\"zerolinecolor\":\"white\",\"automargin\":true,\"zerolinewidth\":2},\"yaxis\":{\"gridcolor\":\"white\",\"linecolor\":\"white\",\"ticks\":\"\",\"title\":{\"standoff\":15},\"zerolinecolor\":\"white\",\"automargin\":true,\"zerolinewidth\":2},\"scene\":{\"xaxis\":{\"backgroundcolor\":\"#E5ECF6\",\"gridcolor\":\"white\",\"linecolor\":\"white\",\"showbackground\":true,\"ticks\":\"\",\"zerolinecolor\":\"white\",\"gridwidth\":2},\"yaxis\":{\"backgroundcolor\":\"#E5ECF6\",\"gridcolor\":\"white\",\"linecolor\":\"white\",\"showbackground\":true,\"ticks\":\"\",\"zerolinecolor\":\"white\",\"gridwidth\":2},\"zaxis\":{\"backgroundcolor\":\"#E5ECF6\",\"gridcolor\":\"white\",\"linecolor\":\"white\",\"showbackground\":true,\"ticks\":\"\",\"zerolinecolor\":\"white\",\"gridwidth\":2}},\"shapedefaults\":{\"line\":{\"color\":\"#2a3f5f\"}},\"annotationdefaults\":{\"arrowcolor\":\"#2a3f5f\",\"arrowhead\":0,\"arrowwidth\":1},\"geo\":{\"bgcolor\":\"white\",\"landcolor\":\"#E5ECF6\",\"subunitcolor\":\"white\",\"showland\":true,\"showlakes\":true,\"lakecolor\":\"white\"},\"title\":{\"x\":0.05},\"mapbox\":{\"style\":\"light\"}}},\"xaxis\":{\"anchor\":\"y\",\"domain\":[0.0,1.0],\"title\":{\"text\":\"Names\"}},\"yaxis\":{\"anchor\":\"x\",\"domain\":[0.0,1.0],\"title\":{\"text\":\"Scores\"}},\"legend\":{\"tracegroupgap\":0},\"title\":{\"text\":\"Bar Plot\"},\"barmode\":\"relative\"},                        {\"responsive\": true}                    ).then(function(){\n",
              "                            \n",
              "var gd = document.getElementById('e4c8fb70-17cc-4d52-b759-9aec12cb1351');\n",
              "var x = new MutationObserver(function (mutations, observer) {{\n",
              "        var display = window.getComputedStyle(gd).display;\n",
              "        if (!display || display === 'none') {{\n",
              "            console.log([gd, 'removed!']);\n",
              "            Plotly.purge(gd);\n",
              "            observer.disconnect();\n",
              "        }}\n",
              "}});\n",
              "\n",
              "// Listen for the removal of the full notebook cells\n",
              "var notebookContainer = gd.closest('#notebook-container');\n",
              "if (notebookContainer) {{\n",
              "    x.observe(notebookContainer, {childList: true});\n",
              "}}\n",
              "\n",
              "// Listen for the clearing of the current output cell\n",
              "var outputEl = gd.closest('.output');\n",
              "if (outputEl) {{\n",
              "    x.observe(outputEl, {childList: true});\n",
              "}}\n",
              "\n",
              "                        })                };                            </script>        </div>\n",
              "</body>\n",
              "</html>"
            ]
          },
          "metadata": {}
        }
      ]
    },
    {
      "cell_type": "code",
      "source": [
        "# Question 6 :-  Create a DataFrame and add a new column based on an existing column\n",
        "import pandas as pd\n",
        "\n",
        "df = pd.DataFrame({'Marks': [50, 60, 70, 80]})\n",
        "df['Marks+10'] = df['Marks'] + 10\n",
        "print(df)\n"
      ],
      "metadata": {
        "colab": {
          "base_uri": "https://localhost:8080/"
        },
        "id": "BADPrQLX4NNQ",
        "outputId": "fc97673b-a437-4e9d-fff9-d763a81236a1"
      },
      "execution_count": 6,
      "outputs": [
        {
          "output_type": "stream",
          "name": "stdout",
          "text": [
            "   Marks  Marks+10\n",
            "0     50        60\n",
            "1     60        70\n",
            "2     70        80\n",
            "3     80        90\n"
          ]
        }
      ]
    },
    {
      "cell_type": "code",
      "source": [
        "# Question 7 :- Write a program to perform element-wise multiplication of two NumPy arrays\n",
        "import numpy as np\n",
        "\n",
        "a = np.array([1, 2, 3])\n",
        "b = np.array([4, 5, 6])\n",
        "result = a * b\n",
        "print(\"Element-wise multiplication:\", result)\n"
      ],
      "metadata": {
        "colab": {
          "base_uri": "https://localhost:8080/"
        },
        "id": "G0seG1Zp4Xwf",
        "outputId": "f5fed904-015f-4965-bf44-8acc9bf85c72"
      },
      "execution_count": 7,
      "outputs": [
        {
          "output_type": "stream",
          "name": "stdout",
          "text": [
            "Element-wise multiplication: [ 4 10 18]\n"
          ]
        }
      ]
    },
    {
      "cell_type": "code",
      "source": [
        "# Question 8 :- Create a line plot with multiple lines using Matplotlib\n",
        "import matplotlib.pyplot as plt\n",
        "\n",
        "x = [1, 2, 3, 4, 5]\n",
        "y1 = [2, 4, 6, 8, 10]\n",
        "y2 = [1, 3, 5, 7, 9]\n",
        "\n",
        "plt.plot(x, y1, label=\"Line 1\")\n",
        "plt.plot(x, y2, label=\"Line 2\")\n",
        "plt.legend()\n",
        "plt.show()\n"
      ],
      "metadata": {
        "colab": {
          "base_uri": "https://localhost:8080/",
          "height": 430
        },
        "id": "1QJV1UbC4gAp",
        "outputId": "095d55f8-9b3f-4b7e-a39a-11bb808f87a7"
      },
      "execution_count": 8,
      "outputs": [
        {
          "output_type": "display_data",
          "data": {
            "text/plain": [
              "<Figure size 640x480 with 1 Axes>"
            ],
            "image/png": "[encoded data removed]"
          },
          "metadata": {}
        }
      ]
    },
    {
      "cell_type": "code",
      "source": [
        "# Question 9 :- Generate a Pandas DataFrame and filter rows where a column value is greater than a threshold\n",
        "import pandas as pd\n",
        "\n",
        "df = pd.DataFrame({'Age': [15, 20, 25, 30, 12]})\n",
        "filtered = df[df['Age'] > 18]\n",
        "print(filtered)\n"
      ],
      "metadata": {
        "colab": {
          "base_uri": "https://localhost:8080/"
        },
        "id": "Jbh5xcSi4r0j",
        "outputId": "eb8a00a7-a2b6-4482-9df7-1db0ec3f9ca9"
      },
      "execution_count": 9,
      "outputs": [
        {
          "output_type": "stream",
          "name": "stdout",
          "text": [
            "   Age\n",
            "1   20\n",
            "2   25\n",
            "3   30\n"
          ]
        }
      ]
    },
    {
      "cell_type": "code",
      "source": [
        "# Question 10 :- Create a histogram using Seaborn to visualize a distribution\n",
        "import seaborn as sns\n",
        "import matplotlib.pyplot as plt\n",
        "\n",
        "data = [10, 20, 20, 30, 40, 40, 40, 50, 60]\n",
        "sns.histplot(data, bins=5, kde=True)\n",
        "plt.show()\n"
      ],
      "metadata": {
        "colab": {
          "base_uri": "https://localhost:8080/",
          "height": 430
        },
        "id": "bQoeaUh34zwq",
        "outputId": "1402c4c0-03d9-4dbb-f185-5a88dc91f44e"
      },
      "execution_count": 10,
      "outputs": [
        {
          "output_type": "display_data",
          "data": {
            "text/plain": [
              "<Figure size 640x480 with 1 Axes>"
            ],
            "image/png": "[encoded data removed]"
          },
          "metadata": {}
        }
      ]
    },
    {
      "cell_type": "code",
      "source": [
        "# Question 11 :-  Perform matrix multiplication using NumPy\n",
        "\n",
        "import numpy as np\n",
        "\n",
        "a = np.array([[1, 2], [3, 4]])\n",
        "b = np.array([[5, 6], [7, 8]])\n",
        "result = np.dot(a, b)\n",
        "print(\"Matrix multiplication:\\n\", result)\n"
      ],
      "metadata": {
        "colab": {
          "base_uri": "https://localhost:8080/"
        },
        "id": "gs9dDAGb5AcM",
        "outputId": "1da2ee81-2874-4e73-fb2a-63c149477ac8"
      },
      "execution_count": 11,
      "outputs": [
        {
          "output_type": "stream",
          "name": "stdout",
          "text": [
            "Matrix multiplication:\n",
            " [[19 22]\n",
            " [43 50]]\n"
          ]
        }
      ]
    },
    {
      "cell_type": "code",
      "source": [
        "# Question 12 :-  Use Pandas to load a CSV file and display its first 5 rows\n",
        "import pandas as pd\n",
        "\n",
        "df = pd.read_csv(\"your_file.csv\")  # replace with your CSV file path\n",
        "print(df.head())\n"
      ],
      "metadata": {
        "colab": {
          "base_uri": "https://localhost:8080/",
          "height": 339
        },
        "id": "0n1lmms457S_",
        "outputId": "6a2487ad-8009-4062-921d-95c133a35b6e"
      },
      "execution_count": 21,
      "outputs": [
        {
          "output_type": "error",
          "ename": "FileNotFoundError",
          "evalue": "[Errno 2] No such file or directory: 'your_file.csv'",
          "traceback": [
            "\u001b[0;31m---------------------------------------------------------------------------\u001b[0m",
            "\u001b[0;31mFileNotFoundError\u001b[0m                         Traceback (most recent call last)",
            "\u001b[0;32m/tmp/ipython-input-3793924730.py\u001b[0m in \u001b[0;36m<cell line: 0>\u001b[0;34m()\u001b[0m\n\u001b[1;32m      2\u001b[0m \u001b[0;32mimport\u001b[0m \u001b[0mpandas\u001b[0m \u001b[0;32mas\u001b[0m \u001b[0mpd\u001b[0m\u001b[0;34m\u001b[0m\u001b[0;34m\u001b[0m\u001b[0m\n\u001b[1;32m      3\u001b[0m \u001b[0;34m\u001b[0m\u001b[0m\n\u001b[0;32m----> 4\u001b[0;31m \u001b[0mdf\u001b[0m \u001b[0;34m=\u001b[0m \u001b[0mpd\u001b[0m\u001b[0;34m.\u001b[0m\u001b[0mread_csv\u001b[0m\u001b[0;34m(\u001b[0m\u001b[0;34m\"your_file.csv\"\u001b[0m\u001b[0;34m)\u001b[0m  \u001b[0;31m# replace with your CSV file path\u001b[0m\u001b[0;34m\u001b[0m\u001b[0;34m\u001b[0m\u001b[0m\n\u001b[0m\u001b[1;32m      5\u001b[0m \u001b[0mprint\u001b[0m\u001b[0;34m(\u001b[0m\u001b[0mdf\u001b[0m\u001b[0;34m.\u001b[0m\u001b[0mhead\u001b[0m\u001b[0;34m(\u001b[0m\u001b[0;34m)\u001b[0m\u001b[0;34m)\u001b[0m\u001b[0;34m\u001b[0m\u001b[0;34m\u001b[0m\u001b[0m\n",
            "\u001b[0;32m/usr/local/lib/python3.12/dist-packages/pandas/io/parsers/readers.py\u001b[0m in \u001b[0;36mread_csv\u001b[0;34m(filepath_or_buffer, sep, delimiter, header, names, index_col, usecols, dtype, engine, converters, true_values, false_values, skipinitialspace, skiprows, skipfooter, nrows, na_values, keep_default_na, na_filter, verbose, skip_blank_lines, parse_dates, infer_datetime_format, keep_date_col, date_parser, date_format, dayfirst, cache_dates, iterator, chunksize, compression, thousands, decimal, lineterminator, quotechar, quoting, doublequote, escapechar, comment, encoding, encoding_errors, dialect, on_bad_lines, delim_whitespace, low_memory, memory_map, float_precision, storage_options, dtype_backend)\u001b[0m\n\u001b[1;32m   1024\u001b[0m     \u001b[0mkwds\u001b[0m\u001b[0;34m.\u001b[0m\u001b[0mupdate\u001b[0m\u001b[0;34m(\u001b[0m\u001b[0mkwds_defaults\u001b[0m\u001b[0;34m)\u001b[0m\u001b[0;34m\u001b[0m\u001b[0;34m\u001b[0m\u001b[0m\n\u001b[1;32m   1025\u001b[0m \u001b[0;34m\u001b[0m\u001b[0m\n\u001b[0;32m-> 1026\u001b[0;31m     \u001b[0;32mreturn\u001b[0m \u001b[0m_read\u001b[0m\u001b[0;34m(\u001b[0m\u001b[0mfilepath_or_buffer\u001b[0m\u001b[0;34m,\u001b[0m \u001b[0mkwds\u001b[0m\u001b[0;34m)\u001b[0m\u001b[0;34m\u001b[0m\u001b[0;34m\u001b[0m\u001b[0m\n\u001b[0m\u001b[1;32m   1027\u001b[0m \u001b[0;34m\u001b[0m\u001b[0m\n\u001b[1;32m   1028\u001b[0m \u001b[0;34m\u001b[0m\u001b[0m\n",
            "\u001b[0;32m/usr/local/lib/python3.12/dist-packages/pandas/io/parsers/readers.py\u001b[0m in \u001b[0;36m_read\u001b[0;34m(filepath_or_buffer, kwds)\u001b[0m\n\u001b[1;32m    618\u001b[0m \u001b[0;34m\u001b[0m\u001b[0m\n\u001b[1;32m    619\u001b[0m     \u001b[0;31m# Create the parser.\u001b[0m\u001b[0;34m\u001b[0m\u001b[0;34m\u001b[0m\u001b[0m\n\u001b[0;32m--> 620\u001b[0;31m     \u001b[0mparser\u001b[0m \u001b[0;34m=\u001b[0m \u001b[0mTextFileReader\u001b[0m\u001b[0;34m(\u001b[0m\u001b[0mfilepath_or_buffer\u001b[0m\u001b[0;34m,\u001b[0m \u001b[0;34m**\u001b[0m\u001b[0mkwds\u001b[0m\u001b[0;34m)\u001b[0m\u001b[0;34m\u001b[0m\u001b[0;34m\u001b[0m\u001b[0m\n\u001b[0m\u001b[1;32m    621\u001b[0m \u001b[0;34m\u001b[0m\u001b[0m\n\u001b[1;32m    622\u001b[0m     \u001b[0;32mif\u001b[0m \u001b[0mchunksize\u001b[0m \u001b[0;32mor\u001b[0m \u001b[0miterator\u001b[0m\u001b[0;34m:\u001b[0m\u001b[0;34m\u001b[0m\u001b[0;34m\u001b[0m\u001b[0m\n",
            "\u001b[0;32m/usr/local/lib/python3.12/dist-packages/pandas/io/parsers/readers.py\u001b[0m in \u001b[0;36m__init__\u001b[0;34m(self, f, engine, **kwds)\u001b[0m\n\u001b[1;32m   1618\u001b[0m \u001b[0;34m\u001b[0m\u001b[0m\n\u001b[1;32m   1619\u001b[0m         \u001b[0mself\u001b[0m\u001b[0;34m.\u001b[0m\u001b[0mhandles\u001b[0m\u001b[0;34m:\u001b[0m \u001b[0mIOHandles\u001b[0m \u001b[0;34m|\u001b[0m \u001b[0;32mNone\u001b[0m \u001b[0;34m=\u001b[0m \u001b[0;32mNone\u001b[0m\u001b[0;34m\u001b[0m\u001b[0;34m\u001b[0m\u001b[0m\n\u001b[0;32m-> 1620\u001b[0;31m         \u001b[0mself\u001b[0m\u001b[0;34m.\u001b[0m\u001b[0m_engine\u001b[0m \u001b[0;34m=\u001b[0m \u001b[0mself\u001b[0m\u001b[0;34m.\u001b[0m\u001b[0m_make_engine\u001b[0m\u001b[0;34m(\u001b[0m\u001b[0mf\u001b[0m\u001b[0;34m,\u001b[0m \u001b[0mself\u001b[0m\u001b[0;34m.\u001b[0m\u001b[0mengine\u001b[0m\u001b[0;34m)\u001b[0m\u001b[0;34m\u001b[0m\u001b[0;34m\u001b[0m\u001b[0m\n\u001b[0m\u001b[1;32m   1621\u001b[0m \u001b[0;34m\u001b[0m\u001b[0m\n\u001b[1;32m   1622\u001b[0m     \u001b[0;32mdef\u001b[0m \u001b[0mclose\u001b[0m\u001b[0;34m(\u001b[0m\u001b[0mself\u001b[0m\u001b[0;34m)\u001b[0m \u001b[0;34m->\u001b[0m \u001b[0;32mNone\u001b[0m\u001b[0;34m:\u001b[0m\u001b[0;34m\u001b[0m\u001b[0;34m\u001b[0m\u001b[0m\n",
            "\u001b[0;32m/usr/local/lib/python3.12/dist-packages/pandas/io/parsers/readers.py\u001b[0m in \u001b[0;36m_make_engine\u001b[0;34m(self, f, engine)\u001b[0m\n\u001b[1;32m   1878\u001b[0m                 \u001b[0;32mif\u001b[0m \u001b[0;34m\"b\"\u001b[0m \u001b[0;32mnot\u001b[0m \u001b[0;32min\u001b[0m \u001b[0mmode\u001b[0m\u001b[0;34m:\u001b[0m\u001b[0;34m\u001b[0m\u001b[0;34m\u001b[0m\u001b[0m\n\u001b[1;32m   1879\u001b[0m                     \u001b[0mmode\u001b[0m \u001b[0;34m+=\u001b[0m \u001b[0;34m\"b\"\u001b[0m\u001b[0;34m\u001b[0m\u001b[0;34m\u001b[0m\u001b[0m\n\u001b[0;32m-> 1880\u001b[0;31m             self.handles = get_handle(\n\u001b[0m\u001b[1;32m   1881\u001b[0m                 \u001b[0mf\u001b[0m\u001b[0;34m,\u001b[0m\u001b[0;34m\u001b[0m\u001b[0;34m\u001b[0m\u001b[0m\n\u001b[1;32m   1882\u001b[0m                 \u001b[0mmode\u001b[0m\u001b[0;34m,\u001b[0m\u001b[0;34m\u001b[0m\u001b[0;34m\u001b[0m\u001b[0m\n",
            "\u001b[0;32m/usr/local/lib/python3.12/dist-packages/pandas/io/common.py\u001b[0m in \u001b[0;36mget_handle\u001b[0;34m(path_or_buf, mode, encoding, compression, memory_map, is_text, errors, storage_options)\u001b[0m\n\u001b[1;32m    871\u001b[0m         \u001b[0;32mif\u001b[0m \u001b[0mioargs\u001b[0m\u001b[0;34m.\u001b[0m\u001b[0mencoding\u001b[0m \u001b[0;32mand\u001b[0m \u001b[0;34m\"b\"\u001b[0m \u001b[0;32mnot\u001b[0m \u001b[0;32min\u001b[0m \u001b[0mioargs\u001b[0m\u001b[0;34m.\u001b[0m\u001b[0mmode\u001b[0m\u001b[0;34m:\u001b[0m\u001b[0;34m\u001b[0m\u001b[0;34m\u001b[0m\u001b[0m\n\u001b[1;32m    872\u001b[0m             \u001b[0;31m# Encoding\u001b[0m\u001b[0;34m\u001b[0m\u001b[0;34m\u001b[0m\u001b[0m\n\u001b[0;32m--> 873\u001b[0;31m             handle = open(\n\u001b[0m\u001b[1;32m    874\u001b[0m                 \u001b[0mhandle\u001b[0m\u001b[0;34m,\u001b[0m\u001b[0;34m\u001b[0m\u001b[0;34m\u001b[0m\u001b[0m\n\u001b[1;32m    875\u001b[0m                 \u001b[0mioargs\u001b[0m\u001b[0;34m.\u001b[0m\u001b[0mmode\u001b[0m\u001b[0;34m,\u001b[0m\u001b[0;34m\u001b[0m\u001b[0;34m\u001b[0m\u001b[0m\n",
            "\u001b[0;31mFileNotFoundError\u001b[0m: [Errno 2] No such file or directory: 'your_file.csv'"
          ]
        }
      ]
    },
    {
      "cell_type": "code",
      "source": [
        "# Question 13 :-  Create a 3D scatter plot using Plotly\n",
        "import plotly.express as px\n",
        "import pandas as pd\n",
        "\n",
        "df = pd.DataFrame({\n",
        "    'x': [1, 2, 3, 4, 5],\n",
        "    'y': [10, 11, 12, 13, 14],\n",
        "    'z': [5, 6, 7, 8, 9]\n",
        "})\n",
        "\n",
        "fig = px.scatter_3d(df, x='x', y='y', z='z', title=\"3D Scatter Plot\")\n",
        "fig.show()\n"
      ],
      "metadata": {
        "colab": {
          "base_uri": "https://localhost:8080/",
          "height": 542
        },
        "id": "DC6DAIPt6HW9",
        "outputId": "9e90721a-1e73-4d16-bda8-5ecc221eb709"
      },
      "execution_count": 22,
      "outputs": [
        {
          "output_type": "display_data",
          "data": {
            "text/html": [
              "<html>\n",
              "<head><meta charset=\"utf-8\" /></head>\n",
              "<body>\n",
              "    <div>            <script src=\"https://cdnjs.cloudflare.com/ajax/libs/mathjax/2.7.5/MathJax.js?config=TeX-AMS-MML_SVG\"></script><script type=\"text/javascript\">if (window.MathJax && window.MathJax.Hub && window.MathJax.Hub.Config) {window.MathJax.Hub.Config({SVG: {font: \"STIX-Web\"}});}</script>                <script type=\"text/javascript\">window.PlotlyConfig = {MathJaxConfig: 'local'};</script>\n",
              "        <script charset=\"utf-8\" src=\"https://cdn.plot.ly/plotly-2.35.2.min.js\"></script>                <div id=\"4034af24-7dbe-457f-91a9-a0a026b946b2\" class=\"plotly-graph-div\" style=\"height:525px; width:100%;\"></div>            <script type=\"text/javascript\">                                    window.PLOTLYENV=window.PLOTLYENV || {};                                    if (document.getElementById(\"4034af24-7dbe-457f-91a9-a0a026b946b2\")) {                    Plotly.newPlot(                        \"4034af24-7dbe-457f-91a9-a0a026b946b2\",                        [{\"hovertemplate\":\"x=%{x}\\u003cbr\\u003ey=%{y}\\u003cbr\\u003ez=%{z}\\u003cextra\\u003e\\u003c\\u002fextra\\u003e\",\"legendgroup\":\"\",\"marker\":{\"color\":\"#636efa\",\"symbol\":\"circle\"},\"mode\":\"markers\",\"name\":\"\",\"scene\":\"scene\",\"showlegend\":false,\"x\":[1,2,3,4,5],\"y\":[10,11,12,13,14],\"z\":[5,6,7,8,9],\"type\":\"scatter3d\"}],                        {\"template\":{\"data\":{\"histogram2dcontour\":[{\"type\":\"histogram2dcontour\",\"colorbar\":{\"outlinewidth\":0,\"ticks\":\"\"},\"colorscale\":[[0.0,\"#0d0887\"],[0.1111111111111111,\"#46039f\"],[0.2222222222222222,\"#7201a8\"],[0.3333333333333333,\"#9c179e\"],[0.4444444444444444,\"#bd3786\"],[0.5555555555555556,\"#d8576b\"],[0.6666666666666666,\"#ed7953\"],[0.7777777777777778,\"#fb9f3a\"],[0.8888888888888888,\"#fdca26\"],[1.0,\"#f0f921\"]]}],\"choropleth\":[{\"type\":\"choropleth\",\"colorbar\":{\"outlinewidth\":0,\"ticks\":\"\"}}],\"histogram2d\":[{\"type\":\"histogram2d\",\"colorbar\":{\"outlinewidth\":0,\"ticks\":\"\"},\"colorscale\":[[0.0,\"#0d0887\"],[0.1111111111111111,\"#46039f\"],[0.2222222222222222,\"#7201a8\"],[0.3333333333333333,\"#9c179e\"],[0.4444444444444444,\"#bd3786\"],[0.5555555555555556,\"#d8576b\"],[0.6666666666666666,\"#ed7953\"],[0.7777777777777778,\"#fb9f3a\"],[0.8888888888888888,\"#fdca26\"],[1.0,\"#f0f921\"]]}],\"heatmap\":[{\"type\":\"heatmap\",\"colorbar\":{\"outlinewidth\":0,\"ticks\":\"\"},\"colorscale\":[[0.0,\"#0d0887\"],[0.1111111111111111,\"#46039f\"],[0.2222222222222222,\"#7201a8\"],[0.3333333333333333,\"#9c179e\"],[0.4444444444444444,\"#bd3786\"],[0.5555555555555556,\"#d8576b\"],[0.6666666666666666,\"#ed7953\"],[0.7777777777777778,\"#fb9f3a\"],[0.8888888888888888,\"#fdca26\"],[1.0,\"#f0f921\"]]}],\"heatmapgl\":[{\"type\":\"heatmapgl\",\"colorbar\":{\"outlinewidth\":0,\"ticks\":\"\"},\"colorscale\":[[0.0,\"#0d0887\"],[0.1111111111111111,\"#46039f\"],[0.2222222222222222,\"#7201a8\"],[0.3333333333333333,\"#9c179e\"],[0.4444444444444444,\"#bd3786\"],[0.5555555555555556,\"#d8576b\"],[0.6666666666666666,\"#ed7953\"],[0.7777777777777778,\"#fb9f3a\"],[0.8888888888888888,\"#fdca26\"],[1.0,\"#f0f921\"]]}],\"contourcarpet\":[{\"type\":\"contourcarpet\",\"colorbar\":{\"outlinewidth\":0,\"ticks\":\"\"}}],\"contour\":[{\"type\":\"contour\",\"colorbar\":{\"outlinewidth\":0,\"ticks\":\"\"},\"colorscale\":[[0.0,\"#0d0887\"],[0.1111111111111111,\"#46039f\"],[0.2222222222222222,\"#7201a8\"],[0.3333333333333333,\"#9c179e\"],[0.4444444444444444,\"#bd3786\"],[0.5555555555555556,\"#d8576b\"],[0.6666666666666666,\"#ed7953\"],[0.7777777777777778,\"#fb9f3a\"],[0.8888888888888888,\"#fdca26\"],[1.0,\"#f0f921\"]]}],\"surface\":[{\"type\":\"surface\",\"colorbar\":{\"outlinewidth\":0,\"ticks\":\"\"},\"colorscale\":[[0.0,\"#0d0887\"],[0.1111111111111111,\"#46039f\"],[0.2222222222222222,\"#7201a8\"],[0.3333333333333333,\"#9c179e\"],[0.4444444444444444,\"#bd3786\"],[0.5555555555555556,\"#d8576b\"],[0.6666666666666666,\"#ed7953\"],[0.7777777777777778,\"#fb9f3a\"],[0.8888888888888888,\"#fdca26\"],[1.0,\"#f0f921\"]]}],\"mesh3d\":[{\"type\":\"mesh3d\",\"colorbar\":{\"outlinewidth\":0,\"ticks\":\"\"}}],\"scatter\":[{\"fillpattern\":{\"fillmode\":\"overlay\",\"size\":10,\"solidity\":0.2},\"type\":\"scatter\"}],\"parcoords\":[{\"type\":\"parcoords\",\"line\":{\"colorbar\":{\"outlinewidth\":0,\"ticks\":\"\"}}}],\"scatterpolargl\":[{\"type\":\"scatterpolargl\",\"marker\":{\"colorbar\":{\"outlinewidth\":0,\"ticks\":\"\"}}}],\"bar\":[{\"error_x\":{\"color\":\"#2a3f5f\"},\"error_y\":{\"color\":\"#2a3f5f\"},\"marker\":{\"line\":{\"color\":\"#E5ECF6\",\"width\":0.5},\"pattern\":{\"fillmode\":\"overlay\",\"size\":10,\"solidity\":0.2}},\"type\":\"bar\"}],\"scattergeo\":[{\"type\":\"scattergeo\",\"marker\":{\"colorbar\":{\"outlinewidth\":0,\"ticks\":\"\"}}}],\"scatterpolar\":[{\"type\":\"scatterpolar\",\"marker\":{\"colorbar\":{\"outlinewidth\":0,\"ticks\":\"\"}}}],\"histogram\":[{\"marker\":{\"pattern\":{\"fillmode\":\"overlay\",\"size\":10,\"solidity\":0.2}},\"type\":\"histogram\"}],\"scattergl\":[{\"type\":\"scattergl\",\"marker\":{\"colorbar\":{\"outlinewidth\":0,\"ticks\":\"\"}}}],\"scatter3d\":[{\"type\":\"scatter3d\",\"line\":{\"colorbar\":{\"outlinewidth\":0,\"ticks\":\"\"}},\"marker\":{\"colorbar\":{\"outlinewidth\":0,\"ticks\":\"\"}}}],\"scattermapbox\":[{\"type\":\"scattermapbox\",\"marker\":{\"colorbar\":{\"outlinewidth\":0,\"ticks\":\"\"}}}],\"scatterternary\":[{\"type\":\"scatterternary\",\"marker\":{\"colorbar\":{\"outlinewidth\":0,\"ticks\":\"\"}}}],\"scattercarpet\":[{\"type\":\"scattercarpet\",\"marker\":{\"colorbar\":{\"outlinewidth\":0,\"ticks\":\"\"}}}],\"carpet\":[{\"aaxis\":{\"endlinecolor\":\"#2a3f5f\",\"gridcolor\":\"white\",\"linecolor\":\"white\",\"minorgridcolor\":\"white\",\"startlinecolor\":\"#2a3f5f\"},\"baxis\":{\"endlinecolor\":\"#2a3f5f\",\"gridcolor\":\"white\",\"linecolor\":\"white\",\"minorgridcolor\":\"white\",\"startlinecolor\":\"#2a3f5f\"},\"type\":\"carpet\"}],\"table\":[{\"cells\":{\"fill\":{\"color\":\"#EBF0F8\"},\"line\":{\"color\":\"white\"}},\"header\":{\"fill\":{\"color\":\"#C8D4E3\"},\"line\":{\"color\":\"white\"}},\"type\":\"table\"}],\"barpolar\":[{\"marker\":{\"line\":{\"color\":\"#E5ECF6\",\"width\":0.5},\"pattern\":{\"fillmode\":\"overlay\",\"size\":10,\"solidity\":0.2}},\"type\":\"barpolar\"}],\"pie\":[{\"automargin\":true,\"type\":\"pie\"}]},\"layout\":{\"autotypenumbers\":\"strict\",\"colorway\":[\"#636efa\",\"#EF553B\",\"#00cc96\",\"#ab63fa\",\"#FFA15A\",\"#19d3f3\",\"#FF6692\",\"#B6E880\",\"#FF97FF\",\"#FECB52\"],\"font\":{\"color\":\"#2a3f5f\"},\"hovermode\":\"closest\",\"hoverlabel\":{\"align\":\"left\"},\"paper_bgcolor\":\"white\",\"plot_bgcolor\":\"#E5ECF6\",\"polar\":{\"bgcolor\":\"#E5ECF6\",\"angularaxis\":{\"gridcolor\":\"white\",\"linecolor\":\"white\",\"ticks\":\"\"},\"radialaxis\":{\"gridcolor\":\"white\",\"linecolor\":\"white\",\"ticks\":\"\"}},\"ternary\":{\"bgcolor\":\"#E5ECF6\",\"aaxis\":{\"gridcolor\":\"white\",\"linecolor\":\"white\",\"ticks\":\"\"},\"baxis\":{\"gridcolor\":\"white\",\"linecolor\":\"white\",\"ticks\":\"\"},\"caxis\":{\"gridcolor\":\"white\",\"linecolor\":\"white\",\"ticks\":\"\"}},\"coloraxis\":{\"colorbar\":{\"outlinewidth\":0,\"ticks\":\"\"}},\"colorscale\":{\"sequential\":[[0.0,\"#0d0887\"],[0.1111111111111111,\"#46039f\"],[0.2222222222222222,\"#7201a8\"],[0.3333333333333333,\"#9c179e\"],[0.4444444444444444,\"#bd3786\"],[0.5555555555555556,\"#d8576b\"],[0.6666666666666666,\"#ed7953\"],[0.7777777777777778,\"#fb9f3a\"],[0.8888888888888888,\"#fdca26\"],[1.0,\"#f0f921\"]],\"sequentialminus\":[[0.0,\"#0d0887\"],[0.1111111111111111,\"#46039f\"],[0.2222222222222222,\"#7201a8\"],[0.3333333333333333,\"#9c179e\"],[0.4444444444444444,\"#bd3786\"],[0.5555555555555556,\"#d8576b\"],[0.6666666666666666,\"#ed7953\"],[0.7777777777777778,\"#fb9f3a\"],[0.8888888888888888,\"#fdca26\"],[1.0,\"#f0f921\"]],\"diverging\":[[0,\"#8e0152\"],[0.1,\"#c51b7d\"],[0.2,\"#de77ae\"],[0.3,\"#f1b6da\"],[0.4,\"#fde0ef\"],[0.5,\"#f7f7f7\"],[0.6,\"#e6f5d0\"],[0.7,\"#b8e186\"],[0.8,\"#7fbc41\"],[0.9,\"#4d9221\"],[1,\"#276419\"]]},\"xaxis\":{\"gridcolor\":\"white\",\"linecolor\":\"white\",\"ticks\":\"\",\"title\":{\"standoff\":15},\"zerolinecolor\":\"white\",\"automargin\":true,\"zerolinewidth\":2},\"yaxis\":{\"gridcolor\":\"white\",\"linecolor\":\"white\",\"ticks\":\"\",\"title\":{\"standoff\":15},\"zerolinecolor\":\"white\",\"automargin\":true,\"zerolinewidth\":2},\"scene\":{\"xaxis\":{\"backgroundcolor\":\"#E5ECF6\",\"gridcolor\":\"white\",\"linecolor\":\"white\",\"showbackground\":true,\"ticks\":\"\",\"zerolinecolor\":\"white\",\"gridwidth\":2},\"yaxis\":{\"backgroundcolor\":\"#E5ECF6\",\"gridcolor\":\"white\",\"linecolor\":\"white\",\"showbackground\":true,\"ticks\":\"\",\"zerolinecolor\":\"white\",\"gridwidth\":2},\"zaxis\":{\"backgroundcolor\":\"#E5ECF6\",\"gridcolor\":\"white\",\"linecolor\":\"white\",\"showbackground\":true,\"ticks\":\"\",\"zerolinecolor\":\"white\",\"gridwidth\":2}},\"shapedefaults\":{\"line\":{\"color\":\"#2a3f5f\"}},\"annotationdefaults\":{\"arrowcolor\":\"#2a3f5f\",\"arrowhead\":0,\"arrowwidth\":1},\"geo\":{\"bgcolor\":\"white\",\"landcolor\":\"#E5ECF6\",\"subunitcolor\":\"white\",\"showland\":true,\"showlakes\":true,\"lakecolor\":\"white\"},\"title\":{\"x\":0.05},\"mapbox\":{\"style\":\"light\"}}},\"scene\":{\"domain\":{\"x\":[0.0,1.0],\"y\":[0.0,1.0]},\"xaxis\":{\"title\":{\"text\":\"x\"}},\"yaxis\":{\"title\":{\"text\":\"y\"}},\"zaxis\":{\"title\":{\"text\":\"z\"}}},\"legend\":{\"tracegroupgap\":0},\"title\":{\"text\":\"3D Scatter Plot\"}},                        {\"responsive\": true}                    ).then(function(){\n",
              "                            \n",
              "var gd = document.getElementById('4034af24-7dbe-457f-91a9-a0a026b946b2');\n",
              "var x = new MutationObserver(function (mutations, observer) {{\n",
              "        var display = window.getComputedStyle(gd).display;\n",
              "        if (!display || display === 'none') {{\n",
              "            console.log([gd, 'removed!']);\n",
              "            Plotly.purge(gd);\n",
              "            observer.disconnect();\n",
              "        }}\n",
              "}});\n",
              "\n",
              "// Listen for the removal of the full notebook cells\n",
              "var notebookContainer = gd.closest('#notebook-container');\n",
              "if (notebookContainer) {{\n",
              "    x.observe(notebookContainer, {childList: true});\n",
              "}}\n",
              "\n",
              "// Listen for the clearing of the current output cell\n",
              "var outputEl = gd.closest('.output');\n",
              "if (outputEl) {{\n",
              "    x.observe(outputEl, {childList: true});\n",
              "}}\n",
              "\n",
              "                        })                };                            </script>        </div>\n",
              "</body>\n",
              "</html>"
            ]
          },
          "metadata": {}
        }
      ]
    }
  ]
}