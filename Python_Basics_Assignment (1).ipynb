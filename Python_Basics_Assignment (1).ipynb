{
  "nbformat": 4,
  "nbformat_minor": 0,
  "metadata": {
    "colab": {
      "provenance": []
    },
    "kernelspec": {
      "name": "python3",
      "display_name": "Python 3"
    },
    "language_info": {
      "name": "python"
    }
  },
  "cells": [
    {
      "cell_type": "markdown",
      "source": [
        "# Python Basics Questions\n",
        "\n",
        "**Question 1 :- What is Python, and why is it popular **\n",
        "\n",
        "Answer : Python is a high level programming language . It is simple , readable , easy to learn , versatile and interpreted programming language , which means it run line by line . Python is dynamically typed language it means that you don't need to declare variable types .\n",
        "Python is used for many purposes like web development , data analysis, artificial intelligence and machine learning  etc .\n",
        "\n",
        "Python is so popular because :\n",
        "\n",
        "*  Simple synatax :- Easy to read and understand , it a has clean and straightforward syntax .\n",
        "*  Huge Libraries :- It has powerful libraries like numpy , pandas , matplotlib etc\n",
        "*  Large community :- Python is a open source platform , where millions of developers contribute to enhance the language by building build in functions , bug reporting , code development etc\n",
        "*   Versatile :- Python is used in  web development , Data  science and analysis , Machine learning and AI and Automation and scripting\n",
        "*  Platform Independent :- Python can be run on multiple platform without modification like macOS , windows , linux etc\n",
        "\n",
        "\n",
        "\n",
        "\n",
        "\n"
      ],
      "metadata": {
        "id": "_TTPvAQtOQJD"
      }
    },
    {
      "cell_type": "markdown",
      "source": [
        "**Question 2 :- What is an interpreter in Python  **\n",
        "\n",
        "Answer :- An interpreter in Python is a program that reads and runs your Python code line by line , instead of converting the whole code into machine language at once like a compiler does. When you write a Python program and run it, the interpreter checks each line, translates it into something the computer understands, and then executes it immediately. This makes it easier to spot and fix errors, because you will know right away which line caused the problem. Python uses an interpreter by default, which is why its great for beginners it lets you test your code quickly without long wait times .\n"
      ],
      "metadata": {
        "id": "Ss5o--NfU44H"
      }
    },
    {
      "cell_type": "markdown",
      "source": [
        "**Question 3 :- What are pre-defined keywords in Python**\n",
        "\n",
        "Answer :- Pre-defined keywords in Python are special words that have a fixed meaning in the language. You cannot use them as variable names or function names because Python uses them to understand the structure and logic of your code. These keywords are already defined by Python, and they help in writing commands like loops, conditions, functions, and more. For example, words like if, else, for, while, def, return, and class are all keywords. If you try to use a keyword as a variable name, Python will show an error. There are more than 35 keywords in python  and they are always written in lowercase except True, False, and None. Keywords make your program understandable to the Python interpreter."
      ],
      "metadata": {
        "id": "LFKYCouBWM1z"
      }
    },
    {
      "cell_type": "markdown",
      "source": [
        "**Question 4 :- Can keywords be used as variable names **\n",
        "\n",
        "Answer :- No, keywords cannot be used as variable names in Python. Keywords are special words that Python has already reserved to perform specific tasks in a program. For example, words like if, while, for, def, and return are used to define conditions, loops, and functions. These words have a fixed meaning, so if you try to use them as variable names, Python will show an error. For example writing if = 10 will cause a syntax error because if is used to start a condition, not to store a value .  To avoid such problems, you should always choose different names for your variables that do not match any keyword."
      ],
      "metadata": {
        "id": "-uMUTP7yXkCE"
      }
    },
    {
      "cell_type": "markdown",
      "source": [
        "**Question 5 :-  What is mutability in Python **\n",
        "\n",
        "Answer :- Mutability in Python means whether or not a value can be changed after it is created. If a data type is mutable, it means you can change its content without changing its memory address. For example, lists and dictionaries are mutable you can add, remove, or change items in them."
      ],
      "metadata": {
        "id": "-7zAGFRFjr4S"
      }
    },
    {
      "cell_type": "markdown",
      "source": [
        "Question 6 :- Why are lists mutable, but tuples are immutable\n",
        "\n",
        "Answer :- In Python, lists are mutable because they are designed to store collections of items that may need to change. You can add, remove, or update elements in a list after it is created. This is useful when you need a flexible data structure that can grow or shrink as needed.\n",
        "\n",
        " Tuples are immutable, meaning once they are created, their contents cannot be changed. This design helps keep the data safe and unchangeable, especially when you want to store values that should stay constant throughout the program. Tuples are also faster and use less memory than lists, which makes them better for situations where performance matters and no changes are required. Python makes this difference to give you options: use lists when you need to modify data and tuples when you need fixed, secure data. This also helps prevent accidental changes in your program .\n"
      ],
      "metadata": {
        "id": "EJBTrbFwkVMH"
      }
    },
    {
      "cell_type": "markdown",
      "source": [
        "**Question 7 :- What is the difference between “==” and “is” operators in Python**\n",
        "\n",
        "Answer :- In Python, '==' and 'is' are two different operators, and they are used for different purposes.\n",
        "\n",
        " The '==' operator checks whether two values are equal. It compares the data or content of the variables. For example, if a = [1, 2, 3] and b = [1, 2, 3] , then a == b will be True because the lists have the same values.\n",
        "\n",
        "On the other hand, the 'is' operator checks whether two variables refer to the same object in memory. So, in the same example, a is b will be False because even though the values are the same, they are two different objects stored in different memory locations. If you do a = b, then a is b will return True because now both point to the same object.\n",
        "\n",
        " In simpler words we use \" == \" to compare values and \"is\" to check object identity whether they are exactly the same object ."
      ],
      "metadata": {
        "id": "ygHddPlqlQLc"
      }
    },
    {
      "cell_type": "markdown",
      "source": [
        "**Question 8 :-  What are logical operators in Python **\n",
        "\n",
        "Answer :- Logical operators in Python are used to make decisions based on multiple conditions.\n",
        "\n",
        " They combine two or more expressions and return either True or False based on the logic. The three main logical operators in Python are and, or, and not.\n",
        "\n",
        "* The 'and' operator returns True only if both conditions are true.\n",
        "\n",
        " For example, if x = 5 and x > 2 and x < 10, the result is True because both parts are true. If even one condition is false, and gives False.\n",
        "\n",
        "* The 'or' operator returns True if at least one condition is true.\n",
        "\n",
        "  For example, x > 2 or x < 3 will be True if any one of them is true. It only gives False when all conditions are false.\n",
        "\n",
        "* The 'not' operator is used to reverse the result. If a condition is true, not makes it false, and if it's false, not makes it true.\n",
        "\n",
        " For example, not True becomes False.\n",
        "\n",
        "Logical operators are commonly used in if statements, loops, and complex decision-making situations. They help control the flow of a program based on conditions, making the code smarter and more interactive."
      ],
      "metadata": {
        "id": "suXLvU8wmoka"
      }
    },
    {
      "cell_type": "markdown",
      "source": [
        "**Question 9 :- What is type casting in Python **\n",
        "\n",
        "Answer :- Type casting in Python means converting one data type into another. Sometimes, you may need to change the type of a value to do certain operations or match data types.\n",
        "\n",
        "For example, if you have a number stored as a string like \"10\" and you want to add it to another number, you must first convert the string into an integer using type casting.\n",
        "\n",
        " In Python, you can use functions like int(), float(), and str() to change data types. For example, int(\"10\") will turn the string \"10\" into the number 10, and str(5) will turn the number 5 into the string \"5\".\n",
        "\n",
        "This is helpful when taking user input which is usually in string form and using it in calculations. Type casting makes your program more flexible and avoids errors that happen when trying to mix different data types in operations."
      ],
      "metadata": {
        "id": "z-1nf9hgn8A8"
      }
    },
    {
      "cell_type": "markdown",
      "source": [
        "**Question 10 :- What is the difference between implicit and explicit type casting **\n",
        "\n",
        "Answer :- Type casting in Python is of two types: implicit and explicit. The difference between them is who performs the conversion Python or the programmer.\n",
        "\n",
        "* In implicit type casting, Python automatically converts one data type to another when needed, without the programmer writing any extra code.\n",
        "\n",
        " For example, if you add an integer and a float like 5 + 2.5, Python automatically converts the integer 5 into a float and gives the result 7.5. This is safe and simple because Python handles it on its own.\n",
        "\n",
        "* In explicit type casting, the programmer manually converts one data type into another using functions like int(), float(), or str().\n",
        "\n",
        " For example, if you have a string \"10\" and want to use it in a math operation, you need to convert it to an integer using int(\"10\").\n",
        "\n",
        "So, the main difference is that implicit casting is automatic, while explicit casting is done by the user."
      ],
      "metadata": {
        "id": "_4Ur37Kmou0r"
      }
    },
    {
      "cell_type": "markdown",
      "source": [
        "**Question 11 :- What is the purpose of conditional statements in Python **\n",
        "\n",
        "Answer :- Conditional statements in Python are used to make decisions in a program based on certain conditions. They allow the program to choose different paths or actions depending on whether a condition is true or false. This helps the program behave differently in different situations, just like how we make choices in real life.\n",
        "\n",
        "The conditional statements in Python are if, elif , and else.\n",
        "\n",
        "* The if statement checks a condition. If the condition is true, the block of code under it will run.\n",
        "\n",
        "* The elif statement checks another condition if the first if is false.\n",
        "\n",
        "* The else statement runs a block of code if none of the above conditions are true.\n",
        "\n",
        "For example, if you are checking if a person is eligible to vote, you can use:\n",
        "\n",
        "age = 18\n",
        "\n",
        "if age >= 18:\n",
        "\n",
        "    print(\"You can vote.\")\n",
        "else:\n",
        "\n",
        "    print(\"You cannot vote.\")\n",
        "    \n",
        "If it's 18 or more, it prints the if message or else message is printed.\n",
        "\n",
        "Conditional statements help control the flow of the program."
      ],
      "metadata": {
        "id": "-7cpUjJ_prwb"
      }
    },
    {
      "cell_type": "markdown",
      "source": [
        "Question 12 :- How does the elif statement work\n",
        "\n",
        "Answer :- The elif statement in Python is used to check multiple conditions after an if statement. It stands for “else if”. When you have more than one condition to test, instead of writing many if and else blocks, you can use elif to make your code cleaner and easier to read.\n",
        "\n",
        "\n",
        "* Python first checks the if condition.\n",
        "\n",
        " If that is True, it runs the code inside and skips all the elif and else.\n",
        "\n",
        "* If the if condition is False, it checks the first elif condition.\n",
        "\n",
        "* If that is also False, it checks the next elif, and so on.\n",
        "\n",
        "* If none of the if or elif conditions are true, and you have an else block, it runs that.\n",
        "\n",
        "if more conditions are true, Python stops checking once it finds the first true one.\n",
        "\n",
        " -> example:\n",
        "\n",
        "marks = 75\n",
        "\n",
        "if marks >= 90:\n",
        "\n",
        "    print(\"Grade A\")\n",
        "\n",
        "elif marks >= 80:\n",
        "\n",
        "    print(\"Grade B\")\n",
        "\n",
        "elif marks >= 70:\n",
        "\n",
        "    print(\"Grade C\")\n",
        "\n",
        "else:\n",
        "\n",
        "    print(\"Grade D\")\n",
        "\n",
        "In this case, marks is 75. Python checks each condition one by one. It skips the first two, finds that marks >= 70 is true, and prints \"Grade C\". It does not check the else block because it already found a match.\n",
        "\n",
        "So, elif helps in checking multiple conditions in a simple and organized way.\n",
        "\n",
        "\n"
      ],
      "metadata": {
        "id": "XaQeT1fNrH_k"
      }
    },
    {
      "cell_type": "markdown",
      "source": [
        "Question 13 :- What is the difference between for and while loops\n",
        "\n",
        "Answer :- In Python, for and while loops are both used to repeat a block of code, but the diffrence between these two is\n",
        "\n",
        "-> The for loop is used when you know in advance how many times you want to run the loop. It is commonly used to go through items in a list, string, or range of numbers.\n",
        " For example:\n",
        "\n",
        "\n",
        "for i in range(5):\n",
        "\n",
        "    print(i)\n",
        "\n",
        "This will print numbers from 0 to 4. The for loop automatically goes through each value in the range, one by one, until it's done.\n",
        "\n",
        "-> On the other hand, a while loop is used when you dont know exactly how many times the loop should run. It keeps running as long as a condition is true. For example:\n",
        "\n",
        "\n",
        "i = 0\n",
        "\n",
        "while i < 5:\n",
        "\n",
        "    print(i)\n",
        "\n",
        "    i += 1\n",
        "This also prints numbers from 0 to 4, but it uses a condition (i < 5) to decide when to stop.\n",
        "\n",
        "The main difference is:\n",
        "\n",
        "* In simpler words 'for loop' is used when you have a fixed number of repetitions or you're looping through a collection.\n",
        "\n",
        "* And 'while loop' is used when the number of repetitions depends on a condition that may change during the loop."
      ],
      "metadata": {
        "id": "AhQgKnuJsbo9"
      }
    },
    {
      "cell_type": "markdown",
      "source": [
        "**Question 14 :-  Describe a scenario where a while loop is more suitable than a for loop.**\n",
        "\n",
        "Answer :- A while loop is more suitable than a for loop in situations where you dont know in advance how many times the loop should run. It is best used when you want the loop to keep running until a certain condition becomes false, and the number of repetitions is not fixed. while loops give more flexibility and suitable for situations where we dont need to set a fixed value .\n",
        "\n",
        "-> For example\n",
        "\n",
        "\n",
        "password = \"\"\n",
        "\n",
        "\n",
        "while password != \"123\":\n",
        "\n",
        "    password = input(\"Enter your password: \")\n",
        "\n",
        "\n",
        "print(\"Access granted\")\n",
        "\n",
        "\n",
        "In the above example we dont know after how many attempts will the user will enter the correct password , so its better to use ' while loop ' in these situations .\n",
        "\n",
        "* if we would have used 'for loop ' we only had few fixed attempts of tries which may not been suitable for this situation .\n",
        "\n"
      ],
      "metadata": {
        "id": "E7ZHUmiJahsF"
      }
    },
    {
      "cell_type": "markdown",
      "source": [
        "# **Practical Questions**"
      ],
      "metadata": {
        "id": "0CDHvqPYeXeR"
      }
    },
    {
      "cell_type": "code",
      "source": [
        "''' Question 1 Write a Python program to print \"Hello, World! '''\n",
        "\n",
        "print (\"Hello, World!\")"
      ],
      "metadata": {
        "colab": {
          "base_uri": "https://localhost:8080/"
        },
        "id": "yrQ1Z0Aied9G",
        "outputId": "384301cc-089d-4df8-f5cb-57e2ce81aa37"
      },
      "execution_count": 1,
      "outputs": [
        {
          "output_type": "stream",
          "name": "stdout",
          "text": [
            "Hello, World!\n"
          ]
        }
      ]
    },
    {
      "cell_type": "code",
      "source": [
        "''' Question 2 Write a Python program that displays your name and age '''\n",
        "\n",
        "print (\"My name is Vanshika Malhotra\")\n",
        "print (\"My age is 21 years\")\n"
      ],
      "metadata": {
        "colab": {
          "base_uri": "https://localhost:8080/"
        },
        "id": "Fk8NAptle-hh",
        "outputId": "a4caaa7d-63a9-45c6-e42c-dbaa4b6b8f31"
      },
      "execution_count": 3,
      "outputs": [
        {
          "output_type": "stream",
          "name": "stdout",
          "text": [
            "My name is Vanshika Malhotra\n",
            "My age is 21 years\n"
          ]
        }
      ]
    },
    {
      "cell_type": "code",
      "source": [
        "''' Question 3 Write code to print all the pre-defined keywords in Python using the keyword library '''\n",
        "\n",
        "import keyword\n",
        "\n",
        "print (\"All the pre- defined keywords in Python are :- \")\n",
        "print(keyword.kwlist)"
      ],
      "metadata": {
        "colab": {
          "base_uri": "https://localhost:8080/"
        },
        "id": "FsFup9T-fbsF",
        "outputId": "25fe08e7-724d-4afc-ed54-10375ae13f5b"
      },
      "execution_count": 4,
      "outputs": [
        {
          "output_type": "stream",
          "name": "stdout",
          "text": [
            "All the pre- defined keywords in Python are :- \n",
            "['False', 'None', 'True', 'and', 'as', 'assert', 'async', 'await', 'break', 'class', 'continue', 'def', 'del', 'elif', 'else', 'except', 'finally', 'for', 'from', 'global', 'if', 'import', 'in', 'is', 'lambda', 'nonlocal', 'not', 'or', 'pass', 'raise', 'return', 'try', 'while', 'with', 'yield']\n"
          ]
        }
      ]
    },
    {
      "cell_type": "code",
      "source": [
        "''' Question 4 Write a program that checks if a given word is a Python keyword '''\n",
        "\n",
        "import keyword\n",
        "\n",
        "\n",
        "word = input(\"Enter a word to check if it is a Python keyword: \")\n",
        "\n",
        "\n",
        "if keyword.iskeyword(word):\n",
        "    print(f\"'{word}' is a Python keyword.\")\n",
        "else:\n",
        "    print(f\"'{word}' is not a Python keyword.\")"
      ],
      "metadata": {
        "colab": {
          "base_uri": "https://localhost:8080/"
        },
        "id": "kG7J0HDTgNnF",
        "outputId": "8909f113-dc92-453c-bcac-18ee62d843b0"
      },
      "execution_count": 6,
      "outputs": [
        {
          "output_type": "stream",
          "name": "stdout",
          "text": [
            "Enter a word to check if it's a Python keyword: hii\n",
            "'hii' is NOT a Python keyword.\n"
          ]
        }
      ]
    },
    {
      "cell_type": "code",
      "source": [
        "''' Question 5  Create a list and tuple in Python, and demonstrate how attempting to change an element works differently\n",
        "for each. '''\n",
        "\n",
        "\n",
        "my_list = [10, 20, 30]\n",
        "print(\"Original list:\", my_list)\n",
        "\n",
        "\n",
        "my_list[1] = 99\n",
        "print(\"List after change:\", my_list)\n",
        "\n",
        "\n",
        "my_tuple = (10, 20, 30)\n",
        "print(\"\\nOriginal tuple:\", my_tuple)\n",
        "\n",
        "\n",
        "try:\n",
        "    my_tuple[1] = 99\n",
        "except TypeError as e:\n",
        "    print(\"Error\", e)\n"
      ],
      "metadata": {
        "colab": {
          "base_uri": "https://localhost:8080/"
        },
        "id": "zPO1TpD-gzdI",
        "outputId": "eda2515b-f79c-4336-95e3-e9be61a17e93"
      },
      "execution_count": 7,
      "outputs": [
        {
          "output_type": "stream",
          "name": "stdout",
          "text": [
            "Original list: [10, 20, 30]\n",
            "List after change: [10, 99, 30]\n",
            "\n",
            "Original tuple: (10, 20, 30)\n",
            "Error 'tuple' object does not support item assignment\n"
          ]
        }
      ]
    },
    {
      "cell_type": "code",
      "source": [
        "''' Question 6 Write a function to demonstrate the behavior of mutable and immutable arguments '''\n",
        "\n",
        "\n",
        "def change_values(num, my_list):\n",
        "    num = num + 10\n",
        "    my_list.append(99)\n",
        "    print(\"Inside function - num:\", num)\n",
        "    print(\"Inside function - list:\", my_list)\n",
        "\n",
        "\n",
        "number = 5\n",
        "my_numbers = [1, 2, 3]\n",
        "\n",
        "change_values(number, my_numbers)\n",
        "\n",
        "print(\"\\nOutside function - number:\", number)\n",
        "print(\"Outside function - list:\", my_numbers)\n"
      ],
      "metadata": {
        "colab": {
          "base_uri": "https://localhost:8080/"
        },
        "id": "kL75d1luhoiR",
        "outputId": "70acf399-7114-455b-8ed5-ec129339fb2e"
      },
      "execution_count": 8,
      "outputs": [
        {
          "output_type": "stream",
          "name": "stdout",
          "text": [
            "Inside function - num: 15\n",
            "Inside function - list: [1, 2, 3, 99]\n",
            "\n",
            "Outside function - number: 5\n",
            "Outside function - list: [1, 2, 3, 99]\n"
          ]
        }
      ]
    },
    {
      "cell_type": "code",
      "source": [
        "''' Question 7  Write a program that performs basic arithmetic operations on two user-input numbers.'''\n",
        "\n",
        "\n",
        "num1 = float(input(\"Enter first number: \"))\n",
        "num2 = float(input(\"Enter second number: \"))\n",
        "\n",
        "print(\"\\nResults:\")\n",
        "print(\"Addition:\", num1 + num2)\n",
        "print(\"Subtraction:\", num1 - num2)\n",
        "print(\"Multiplication:\", num1 * num2)\n",
        "\n",
        "\n",
        "if num2 != 0:\n",
        "    print(\"Division:\", num1 / num2)\n",
        "else:\n",
        "    print(\"Division: Cannot divide by zero\")\n"
      ],
      "metadata": {
        "colab": {
          "base_uri": "https://localhost:8080/"
        },
        "id": "JcTNBZFFlBkU",
        "outputId": "a187c529-fef6-4cec-9062-4f77dbfc724e"
      },
      "execution_count": 14,
      "outputs": [
        {
          "output_type": "stream",
          "name": "stdout",
          "text": [
            "Enter first number: 100\n",
            "Enter second number: 50\n",
            "\n",
            "Results:\n",
            "Addition: 150.0\n",
            "Subtraction: 50.0\n",
            "Multiplication: 5000.0\n",
            "Division: 2.0\n"
          ]
        }
      ]
    },
    {
      "cell_type": "code",
      "source": [
        "''' Question 8 Write a program to demonstrate the use of logical operators. '''\n",
        "\n",
        "\n",
        "age = int(input(\"Enter your age: \"))\n",
        "has_id = input(\"Do you have a Voter ID ? (yes/no): \")\n",
        "\n",
        "# Logical AND\n",
        "if age >= 18 and has_id.lower() == \"yes\":\n",
        "    print(\"You are allowed to vote.\")\n",
        "else:\n",
        "    print(\"You cannot vote.\")\n",
        "\n",
        "# Logical OR\n",
        "if age < 18 or has_id.lower() == \"no\":\n",
        "    print(\"Either you are underage or don’t have an ID.\")\n",
        "\n",
        "# Logical NOT\n",
        "if not (age >= 18):\n",
        "    print(\"You are not 18 or older.\")\n"
      ],
      "metadata": {
        "colab": {
          "base_uri": "https://localhost:8080/"
        },
        "id": "g-Q11ik6mCO3",
        "outputId": "dc198ffe-52a3-4a6f-fc44-2b2aee8f2519"
      },
      "execution_count": 17,
      "outputs": [
        {
          "output_type": "stream",
          "name": "stdout",
          "text": [
            "Enter your age: 21\n",
            "Do you have a Voter ID ? (yes/no): yes\n",
            "You are allowed to vote.\n"
          ]
        }
      ]
    },
    {
      "cell_type": "code",
      "source": [
        "''' Question 9  Write a Python program to convert user input from string to integer, float, and boolean types '''\n",
        "\n",
        "\n",
        "user_input = input(\"Enter a string : \")\n",
        "\n",
        "# Convert to integer\n",
        "try:\n",
        "    int_value = int(user_input)\n",
        "    print(\"As Integer:\", int_value)\n",
        "except ValueError:\n",
        "    print(\"Cannot convert to Integer.\")\n",
        "\n",
        "# Convert to float\n",
        "try:\n",
        "    float_value = float(user_input)\n",
        "    print(\"As Float:\", float_value)\n",
        "except ValueError:\n",
        "    print(\"Cannot convert to Float.\")\n",
        "\n",
        "# Convert to boolean\n",
        "bool_value = bool(user_input)\n",
        "print(\"As Boolean:\", bool_value)\n"
      ],
      "metadata": {
        "colab": {
          "base_uri": "https://localhost:8080/"
        },
        "id": "HxKzxEIPm_Ql",
        "outputId": "0cf72920-719e-4297-a3a9-c2a89ca55885"
      },
      "execution_count": 21,
      "outputs": [
        {
          "output_type": "stream",
          "name": "stdout",
          "text": [
            "Enter a string : hello\n",
            "Cannot convert to Integer.\n",
            "Cannot convert to Float.\n",
            "As Boolean: True\n"
          ]
        }
      ]
    },
    {
      "cell_type": "code",
      "source": [
        "''' Question 10  Write code to demonstrate type casting with list elements. '''\n",
        "\n",
        "\n",
        "str_list = [\"10\", \"20\", \"30\"]\n",
        "\n",
        "print(\"Original list (strings):\", str_list)\n",
        "\n",
        "\n",
        "int_list = [int(item) for item in str_list]\n",
        "\n",
        "print(\"List after casting to integers:\", int_list)\n",
        "\n",
        "\n"
      ],
      "metadata": {
        "colab": {
          "base_uri": "https://localhost:8080/"
        },
        "id": "g0HKQNJ1n5PG",
        "outputId": "3a360f2a-7b2c-44cd-d3f9-dd6c1c0828d5"
      },
      "execution_count": 22,
      "outputs": [
        {
          "output_type": "stream",
          "name": "stdout",
          "text": [
            "Original list (strings): ['10', '20', '30']\n",
            "List after casting to integers: [10, 20, 30]\n"
          ]
        }
      ]
    },
    {
      "cell_type": "code",
      "source": [
        "''' Question 11 Write a program that checks if a number is positive, negative, or zero. '''\n",
        "\n",
        "\n",
        "num = float(input(\"Enter a number: \"))\n",
        "\n",
        "if num > 0:\n",
        "    print(\"The number is positive.\")\n",
        "elif num < 0:\n",
        "    print(\"The number is negative.\")\n",
        "else:\n",
        "    print(\"The number is zero.\")\n"
      ],
      "metadata": {
        "colab": {
          "base_uri": "https://localhost:8080/"
        },
        "id": "JMuflosxob2w",
        "outputId": "1f94c1c6-fa44-49b6-d7a4-30451f800830"
      },
      "execution_count": 23,
      "outputs": [
        {
          "output_type": "stream",
          "name": "stdout",
          "text": [
            "Enter a number: 8\n",
            "The number is positive.\n"
          ]
        }
      ]
    },
    {
      "cell_type": "code",
      "source": [
        "''' Question 12 Write a for loop to print numbers from 1 to 10. '''\n",
        "\n",
        "for i in range(1, 11):\n",
        "  print (i)"
      ],
      "metadata": {
        "colab": {
          "base_uri": "https://localhost:8080/"
        },
        "collapsed": true,
        "id": "oTGwz93woqII",
        "outputId": "8c47ce6f-6c27-4183-a6b5-214b5e4a6248"
      },
      "execution_count": 37,
      "outputs": [
        {
          "output_type": "stream",
          "name": "stdout",
          "text": [
            "1\n",
            "2\n",
            "3\n",
            "4\n",
            "5\n",
            "6\n",
            "7\n",
            "8\n",
            "9\n",
            "10\n"
          ]
        }
      ]
    },
    {
      "cell_type": "code",
      "source": [
        "''' Question 13 Write a Python program to find the sum of all even numbers between 1 and 50 '''\n",
        "\n",
        "total = 0\n",
        "\n",
        "for i in range (1, 51):\n",
        "  if i%2==0 :\n",
        "   total += 1\n",
        "\n",
        "\n",
        "print(\"The sum of all even number is between 1 to 50 :\" , total)"
      ],
      "metadata": {
        "colab": {
          "base_uri": "https://localhost:8080/"
        },
        "id": "Z3ahPlBcqZYI",
        "outputId": "f879833d-1c8b-4a0f-ccd9-69fa21cde18a"
      },
      "execution_count": 40,
      "outputs": [
        {
          "output_type": "stream",
          "name": "stdout",
          "text": [
            "The sum of all even number is between 1 to 50 : 25\n"
          ]
        }
      ]
    },
    {
      "cell_type": "code",
      "source": [
        "''' Question 14 Write a program to reverse a string using a while loop. '''\n",
        "\n",
        "\n",
        "text = input(\"Enter a string: \")\n",
        "\n",
        "\n",
        "reversed_text = \"\"\n",
        "index = len(text) - 1\n",
        "\n",
        "while index >= 0:\n",
        "    reversed_text += text[index]\n",
        "    index -= 1\n",
        "\n",
        "print(\"Reversed string:\", reversed_text)\n"
      ],
      "metadata": {
        "colab": {
          "base_uri": "https://localhost:8080/"
        },
        "id": "j8KOfAnTrmZ7",
        "outputId": "5888e1e3-203c-44d1-f610-50cfe747e6e8"
      },
      "execution_count": 41,
      "outputs": [
        {
          "output_type": "stream",
          "name": "stdout",
          "text": [
            "Enter a string: Hello\n",
            "Reversed string: olleH\n"
          ]
        }
      ]
    },
    {
      "cell_type": "code",
      "source": [
        "''' Question 15 Write a Python program to calculate the factorial of a number provided by the user using a while loop.'''\n",
        "\n",
        "\n",
        "num = int(input(\"Enter a number: \"))\n",
        "factorial = 1\n",
        "i = 1\n",
        "\n",
        "if num < 0:\n",
        "    print(\"Factorial is not defined for negative numbers.\")\n",
        "else:\n",
        "\n",
        "    while i <= num:\n",
        "        factorial *= i\n",
        "        i += 1\n",
        "    print(\"Factorial of\", num, \"is:\", factorial)\n"
      ],
      "metadata": {
        "colab": {
          "base_uri": "https://localhost:8080/"
        },
        "id": "yE83u3SUr5SK",
        "outputId": "bb036c40-7b5e-4a1e-b1fa-1c5b3f358385"
      },
      "execution_count": 44,
      "outputs": [
        {
          "output_type": "stream",
          "name": "stdout",
          "text": [
            "Enter a number: 5\n",
            "Factorial of 5 is: 120\n"
          ]
        }
      ]
    }
  ]
}